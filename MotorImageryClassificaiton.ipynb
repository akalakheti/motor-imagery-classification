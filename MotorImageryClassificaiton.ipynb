{
  "nbformat": 4,
  "nbformat_minor": 0,
  "metadata": {
    "colab": {
      "name": "MotorImageryClassificaiton.ipynb",
      "provenance": [],
      "collapsed_sections": []
    },
    "kernelspec": {
      "name": "python3",
      "display_name": "Python 3"
    },
    "accelerator": "GPU"
  },
  "cells": [
    {
      "cell_type": "code",
      "metadata": {
        "id": "SSfQ01eyvjPv",
        "colab_type": "code",
        "colab": {
          "base_uri": "https://localhost:8080/",
          "height": 275
        },
        "outputId": "6aa10fb9-55a6-4433-b087-6b2bba395433"
      },
      "source": [
        "!pip3 install pyedflib"
      ],
      "execution_count": null,
      "outputs": [
        {
          "output_type": "stream",
          "text": [
            "Collecting pyedflib\n",
            "\u001b[?25l  Downloading https://files.pythonhosted.org/packages/ed/00/2ab3e04b03651a82df063beb16f5cf077751d7045432067b04b265ab8760/pyEDFlib-0.1.18.tar.gz (1.1MB)\n",
            "\u001b[K     |████████████████████████████████| 1.1MB 2.7MB/s \n",
            "\u001b[?25h  Installing build dependencies ... \u001b[?25l\u001b[?25hdone\n",
            "  Getting requirements to build wheel ... \u001b[?25l\u001b[?25hdone\n",
            "    Preparing wheel metadata ... \u001b[?25l\u001b[?25hdone\n",
            "Requirement already satisfied: numpy>=1.9.1 in /usr/local/lib/python3.6/dist-packages (from pyedflib) (1.18.5)\n",
            "Building wheels for collected packages: pyedflib\n",
            "  Building wheel for pyedflib (PEP 517) ... \u001b[?25l\u001b[?25hdone\n",
            "  Created wheel for pyedflib: filename=pyEDFlib-0.1.18-cp36-cp36m-linux_x86_64.whl size=921154 sha256=b01ecc281c3332b8ade4533272c4e02cf619fd24ac416fd519ea5b7dc865aacc\n",
            "  Stored in directory: /root/.cache/pip/wheels/4c/16/32/829749d6ab56f64e81e44aed0b4b9a892c975512c15cc3edbb\n",
            "Successfully built pyedflib\n",
            "Installing collected packages: pyedflib\n",
            "Successfully installed pyedflib-0.1.18\n"
          ],
          "name": "stdout"
        }
      ]
    },
    {
      "cell_type": "code",
      "metadata": {
        "id": "TEOyqUpw_B8O",
        "colab_type": "code",
        "colab": {
          "base_uri": "https://localhost:8080/",
          "height": 121
        },
        "outputId": "1223087a-1ccd-4623-cc44-7aab03721596"
      },
      "source": [
        "from google.colab import drive\n",
        "drive.mount('/content/drive')"
      ],
      "execution_count": null,
      "outputs": [
        {
          "output_type": "stream",
          "text": [
            "Go to this URL in a browser: https://accounts.google.com/o/oauth2/auth?client_id=947318989803-6bn6qk8qdgf4n4g3pfee6491hc0brc4i.apps.googleusercontent.com&redirect_uri=urn%3aietf%3awg%3aoauth%3a2.0%3aoob&response_type=code&scope=email%20https%3a%2f%2fwww.googleapis.com%2fauth%2fdocs.test%20https%3a%2f%2fwww.googleapis.com%2fauth%2fdrive%20https%3a%2f%2fwww.googleapis.com%2fauth%2fdrive.photos.readonly%20https%3a%2f%2fwww.googleapis.com%2fauth%2fpeopleapi.readonly\n",
            "\n",
            "Enter your authorization code:\n",
            "··········\n",
            "Mounted at /content/drive\n"
          ],
          "name": "stdout"
        }
      ]
    },
    {
      "cell_type": "code",
      "metadata": {
        "id": "gOYTk-FkCw1m",
        "colab_type": "code",
        "colab": {}
      },
      "source": [
        "from pyedflib import highlevel\n",
        "import numpy as np\n",
        "import struct\n",
        "import math\n",
        "import pickle\n"
      ],
      "execution_count": null,
      "outputs": []
    },
    {
      "cell_type": "code",
      "metadata": {
        "id": "DuL9jZSpvnVB",
        "colab_type": "code",
        "colab": {
          "base_uri": "https://localhost:8080/",
          "height": 224
        },
        "outputId": "9cbe26b4-ccf9-4c7b-de98-916b7415d572"
      },
      "source": [
        "!wget https://physionet.org/static/published-projects/eegmmidb/eeg-motor-movementimagery-dataset-1.0.0.zip"
      ],
      "execution_count": null,
      "outputs": [
        {
          "output_type": "stream",
          "text": [
            "--2020-07-27 10:56:53--  https://physionet.org/static/published-projects/eegmmidb/eeg-motor-movementimagery-dataset-1.0.0.zip\n",
            "Resolving physionet.org (physionet.org)... 18.13.52.205\n",
            "Connecting to physionet.org (physionet.org)|18.13.52.205|:443... connected.\n",
            "HTTP request sent, awaiting response... 200 OK\n",
            "Length: 1997435063 (1.9G) [application/zip]\n",
            "Saving to: ‘eeg-motor-movementimagery-dataset-1.0.0.zip’\n",
            "\n",
            "eeg-motor-movementi 100%[===================>]   1.86G  15.2MB/s    in 2m 6s   \n",
            "\n",
            "2020-07-27 10:59:01 (15.1 MB/s) - ‘eeg-motor-movementimagery-dataset-1.0.0.zip’ saved [1997435063/1997435063]\n",
            "\n"
          ],
          "name": "stdout"
        }
      ]
    },
    {
      "cell_type": "code",
      "metadata": {
        "id": "4my49GpSwSEc",
        "colab_type": "code",
        "colab": {}
      },
      "source": [
        "import zipfile"
      ],
      "execution_count": null,
      "outputs": []
    },
    {
      "cell_type": "code",
      "metadata": {
        "id": "dBbYOSz6wkDI",
        "colab_type": "code",
        "colab": {}
      },
      "source": [
        "with zipfile.ZipFile('/content/eeg-motor-movementimagery-dataset-1.0.0.zip', 'r') as zipobj:\n",
        "  zipobj.extractall('/content/Physionet')"
      ],
      "execution_count": null,
      "outputs": []
    },
    {
      "cell_type": "code",
      "metadata": {
        "id": "t8GYCVcIxdVj",
        "colab_type": "code",
        "colab": {}
      },
      "source": [
        "folder = \"/content/Physionet/files/\"\n",
        "# Using readlines()\n",
        "file1 = open(folder+'RECORDS', 'r')\n",
        "Lines = file1.readlines()\n",
        "files = []"
      ],
      "execution_count": null,
      "outputs": []
    },
    {
      "cell_type": "code",
      "metadata": {
        "id": "ePzEzs0R7o55",
        "colab_type": "code",
        "colab": {}
      },
      "source": [
        "drive_f = \"/content/drive/My Drive/Physionet/files/\""
      ],
      "execution_count": null,
      "outputs": []
    },
    {
      "cell_type": "code",
      "metadata": {
        "id": "aFevY6yqyNmB",
        "colab_type": "code",
        "colab": {}
      },
      "source": [
        "for i in range(14):\n",
        "    files.append([])\n",
        "\n",
        "\n",
        "for line in Lines:\n",
        "    temp = line.strip()\n",
        "    temp = int(temp[-6:-4])\n",
        "    files[temp-1].append(folder+line.strip())\n"
      ],
      "execution_count": null,
      "outputs": []
    },
    {
      "cell_type": "code",
      "metadata": {
        "id": "pwXU8bNFy244",
        "colab_type": "code",
        "colab": {}
      },
      "source": [
        "num_part = 109\n",
        "\n",
        "set1 = [0, 1, 2, 3, 6, 7, 10, 11]\n",
        "set2 = [4, 5, 8, 9, 12, 13]\n",
        "\n",
        "count = 0\n",
        "\n",
        "data_label = []\n",
        "data_value = []"
      ],
      "execution_count": null,
      "outputs": []
    },
    {
      "cell_type": "code",
      "metadata": {
        "id": "w2A5N3_6y6Wf",
        "colab_type": "code",
        "colab": {
          "base_uri": "https://localhost:8080/",
          "height": 1000
        },
        "outputId": "27a0154e-f618-494f-ca5f-37db3723a7cd"
      },
      "source": [
        "for j in range(20,109):\n",
        "    data_x_p = []\n",
        "    data_y_p = []\n",
        "    for i in range(14):\n",
        "        signals, signal_headers, header = highlevel.read_edf(files[i][j])\n",
        "        sam_rate = signal_headers[0]['sample_rate']\n",
        "        data_x = []\n",
        "        data_y = []\n",
        "        for k in header['annotations']:\n",
        "            if k[0] != 0:\n",
        "                start = int(k[0]*sam_rate)-1\n",
        "            else:\n",
        "                start = 0\n",
        "            end = int(float(k[1].decode())*sam_rate)\n",
        "            if (start+end < len(signals[0])):\n",
        "                val = [item for item in range(start, start+end)]\n",
        "            else:\n",
        "                count += 1\n",
        "                val = [item for item in range(start, len(signals[0]))]\n",
        "            if (i in set1):\n",
        "                if(k[2] == 'T0'):\n",
        "                    y_hat = 0  # rest\n",
        "                elif(k[2] == 'T1'):\n",
        "                    y_hat = 1  # left\n",
        "                elif(k[2] == 'T2'):\n",
        "                    y_hat = 2  # right\n",
        "            else:\n",
        "                if(k[2] == 'T0'):\n",
        "                    y_hat = 0  # rest\n",
        "                elif(k[2] == 'T1'):\n",
        "                    y_hat = 3  # both fist\n",
        "                elif(k[2] == 'T2'):\n",
        "                    y_hat = 4  # both feet\n",
        "            input_data = signals.T[val]\n",
        "\n",
        "            data_x.append(input_data)  # unprocessed data\n",
        "            data_y.append(y_hat)\n",
        "        print(i, j)\n",
        "        data_x_p.append(data_x)\n",
        "        data_y_p.append(data_y)\n",
        "    save = []\n",
        "    save.append(data_x_p)\n",
        "    save.append(data_y_p)\n",
        "    with open(drive_f+\"data_txt/data_\"+str(j)+'.txt', 'wb') as F:\n",
        "        # Dump the list to file\n",
        "        pickle.dump(save, F)\n",
        "\n",
        "    F.close()\n"
      ],
      "execution_count": null,
      "outputs": [
        {
          "output_type": "stream",
          "text": [
            "Reading Channels: 100%|██████████| 64/64 [00:00<00:00, 1462.82it/s]\n",
            "Reading Channels: 100%|██████████| 64/64 [00:00<00:00, 1576.26it/s]\n",
            "Reading Channels:   0%|          | 0/64 [00:00<?, ?it/s]"
          ],
          "name": "stderr"
        },
        {
          "output_type": "stream",
          "text": [
            "0 20\n",
            "1 20\n"
          ],
          "name": "stdout"
        },
        {
          "output_type": "stream",
          "text": [
            "Reading Channels: 100%|██████████| 64/64 [00:00<00:00, 753.40it/s]\n",
            "Reading Channels: 100%|██████████| 64/64 [00:00<00:00, 834.88it/s]\n",
            "Reading Channels:   0%|          | 0/64 [00:00<?, ?it/s]"
          ],
          "name": "stderr"
        },
        {
          "output_type": "stream",
          "text": [
            "2 20\n",
            "3 20\n"
          ],
          "name": "stdout"
        },
        {
          "output_type": "stream",
          "text": [
            "Reading Channels: 100%|██████████| 64/64 [00:00<00:00, 857.62it/s]\n",
            "Reading Channels: 100%|██████████| 64/64 [00:00<00:00, 870.97it/s]\n",
            "Reading Channels:   0%|          | 0/64 [00:00<?, ?it/s]"
          ],
          "name": "stderr"
        },
        {
          "output_type": "stream",
          "text": [
            "4 20\n",
            "5 20\n"
          ],
          "name": "stdout"
        },
        {
          "output_type": "stream",
          "text": [
            "Reading Channels: 100%|██████████| 64/64 [00:00<00:00, 850.80it/s]\n",
            "Reading Channels: 100%|██████████| 64/64 [00:00<00:00, 855.82it/s]\n"
          ],
          "name": "stderr"
        },
        {
          "output_type": "stream",
          "text": [
            "6 20\n",
            "7 20\n"
          ],
          "name": "stdout"
        },
        {
          "output_type": "stream",
          "text": [
            "Reading Channels: 100%|██████████| 64/64 [00:00<00:00, 860.20it/s]\n",
            "Reading Channels: 100%|██████████| 64/64 [00:00<00:00, 895.39it/s]\n",
            "Reading Channels:   0%|          | 0/64 [00:00<?, ?it/s]"
          ],
          "name": "stderr"
        },
        {
          "output_type": "stream",
          "text": [
            "8 20\n",
            "9 20\n"
          ],
          "name": "stdout"
        },
        {
          "output_type": "stream",
          "text": [
            "Reading Channels: 100%|██████████| 64/64 [00:00<00:00, 888.37it/s]\n",
            "Reading Channels: 100%|██████████| 64/64 [00:00<00:00, 892.51it/s]\n",
            "Reading Channels:   0%|          | 0/64 [00:00<?, ?it/s]"
          ],
          "name": "stderr"
        },
        {
          "output_type": "stream",
          "text": [
            "10 20\n",
            "11 20\n"
          ],
          "name": "stdout"
        },
        {
          "output_type": "stream",
          "text": [
            "Reading Channels: 100%|██████████| 64/64 [00:00<00:00, 878.12it/s]\n",
            "Reading Channels: 100%|██████████| 64/64 [00:00<00:00, 931.14it/s]\n"
          ],
          "name": "stderr"
        },
        {
          "output_type": "stream",
          "text": [
            "12 20\n",
            "13 20\n"
          ],
          "name": "stdout"
        },
        {
          "output_type": "stream",
          "text": [
            "Reading Channels: 100%|██████████| 64/64 [00:00<00:00, 1464.83it/s]\n",
            "Reading Channels: 100%|██████████| 64/64 [00:00<00:00, 1526.91it/s]\n",
            "Reading Channels:   0%|          | 0/64 [00:00<?, ?it/s]"
          ],
          "name": "stderr"
        },
        {
          "output_type": "stream",
          "text": [
            "0 21\n",
            "1 21\n"
          ],
          "name": "stdout"
        },
        {
          "output_type": "stream",
          "text": [
            "Reading Channels: 100%|██████████| 64/64 [00:00<00:00, 809.49it/s]\n",
            "Reading Channels: 100%|██████████| 64/64 [00:00<00:00, 897.77it/s]\n",
            "Reading Channels:   0%|          | 0/64 [00:00<?, ?it/s]"
          ],
          "name": "stderr"
        },
        {
          "output_type": "stream",
          "text": [
            "2 21\n",
            "3 21\n"
          ],
          "name": "stdout"
        },
        {
          "output_type": "stream",
          "text": [
            "Reading Channels: 100%|██████████| 64/64 [00:00<00:00, 842.72it/s]\n",
            "Reading Channels: 100%|██████████| 64/64 [00:00<00:00, 862.36it/s]\n"
          ],
          "name": "stderr"
        },
        {
          "output_type": "stream",
          "text": [
            "4 21\n",
            "5 21\n"
          ],
          "name": "stdout"
        },
        {
          "output_type": "stream",
          "text": [
            "Reading Channels: 100%|██████████| 64/64 [00:00<00:00, 830.90it/s]\n",
            "Reading Channels: 100%|██████████| 64/64 [00:00<00:00, 902.03it/s]\n",
            "Reading Channels:   0%|          | 0/64 [00:00<?, ?it/s]"
          ],
          "name": "stderr"
        },
        {
          "output_type": "stream",
          "text": [
            "6 21\n",
            "7 21\n"
          ],
          "name": "stdout"
        },
        {
          "output_type": "stream",
          "text": [
            "Reading Channels: 100%|██████████| 64/64 [00:00<00:00, 863.16it/s]\n",
            "Reading Channels: 100%|██████████| 64/64 [00:00<00:00, 898.27it/s]\n"
          ],
          "name": "stderr"
        },
        {
          "output_type": "stream",
          "text": [
            "8 21\n",
            "9 21\n"
          ],
          "name": "stdout"
        },
        {
          "output_type": "stream",
          "text": [
            "Reading Channels: 100%|██████████| 64/64 [00:00<00:00, 859.44it/s]\n",
            "Reading Channels: 100%|██████████| 64/64 [00:00<00:00, 910.11it/s]\n",
            "Reading Channels:   0%|          | 0/64 [00:00<?, ?it/s]"
          ],
          "name": "stderr"
        },
        {
          "output_type": "stream",
          "text": [
            "10 21\n",
            "11 21\n"
          ],
          "name": "stdout"
        },
        {
          "output_type": "stream",
          "text": [
            "Reading Channels: 100%|██████████| 64/64 [00:00<00:00, 867.59it/s]\n",
            "Reading Channels: 100%|██████████| 64/64 [00:00<00:00, 878.98it/s]\n"
          ],
          "name": "stderr"
        },
        {
          "output_type": "stream",
          "text": [
            "12 21\n",
            "13 21\n"
          ],
          "name": "stdout"
        },
        {
          "output_type": "stream",
          "text": [
            "Reading Channels: 100%|██████████| 64/64 [00:00<00:00, 1506.09it/s]\n",
            "Reading Channels: 100%|██████████| 64/64 [00:00<00:00, 1615.27it/s]\n",
            "Reading Channels: 100%|██████████| 64/64 [00:00<00:00, 873.95it/s]"
          ],
          "name": "stderr"
        },
        {
          "output_type": "stream",
          "text": [
            "0 22\n",
            "1 22\n"
          ],
          "name": "stdout"
        },
        {
          "output_type": "stream",
          "text": [
            "\n",
            "Reading Channels: 100%|██████████| 64/64 [00:00<00:00, 899.88it/s]\n"
          ],
          "name": "stderr"
        },
        {
          "output_type": "stream",
          "text": [
            "2 22\n",
            "3 22\n"
          ],
          "name": "stdout"
        },
        {
          "output_type": "stream",
          "text": [
            "Reading Channels: 100%|██████████| 64/64 [00:00<00:00, 901.51it/s]\n",
            "Reading Channels: 100%|██████████| 64/64 [00:00<00:00, 928.70it/s]\n"
          ],
          "name": "stderr"
        },
        {
          "output_type": "stream",
          "text": [
            "4 22\n",
            "5 22\n"
          ],
          "name": "stdout"
        },
        {
          "output_type": "stream",
          "text": [
            "Reading Channels: 100%|██████████| 64/64 [00:00<00:00, 919.33it/s]\n",
            "Reading Channels: 100%|██████████| 64/64 [00:00<00:00, 933.98it/s]\n",
            "Reading Channels:   0%|          | 0/64 [00:00<?, ?it/s]"
          ],
          "name": "stderr"
        },
        {
          "output_type": "stream",
          "text": [
            "6 22\n",
            "7 22\n"
          ],
          "name": "stdout"
        },
        {
          "output_type": "stream",
          "text": [
            "Reading Channels: 100%|██████████| 64/64 [00:00<00:00, 863.00it/s]\n",
            "Reading Channels: 100%|██████████| 64/64 [00:00<00:00, 908.54it/s]\n",
            "Reading Channels:   0%|          | 0/64 [00:00<?, ?it/s]"
          ],
          "name": "stderr"
        },
        {
          "output_type": "stream",
          "text": [
            "8 22\n",
            "9 22\n"
          ],
          "name": "stdout"
        },
        {
          "output_type": "stream",
          "text": [
            "Reading Channels: 100%|██████████| 64/64 [00:00<00:00, 877.74it/s]\n",
            "Reading Channels: 100%|██████████| 64/64 [00:00<00:00, 903.36it/s]\n"
          ],
          "name": "stderr"
        },
        {
          "output_type": "stream",
          "text": [
            "10 22\n",
            "11 22\n"
          ],
          "name": "stdout"
        },
        {
          "output_type": "stream",
          "text": [
            "Reading Channels: 100%|██████████| 64/64 [00:00<00:00, 916.85it/s]\n",
            "Reading Channels: 100%|██████████| 64/64 [00:00<00:00, 910.49it/s]\n"
          ],
          "name": "stderr"
        },
        {
          "output_type": "stream",
          "text": [
            "12 22\n",
            "13 22\n"
          ],
          "name": "stdout"
        },
        {
          "output_type": "stream",
          "text": [
            "Reading Channels: 100%|██████████| 64/64 [00:00<00:00, 1472.17it/s]\n",
            "Reading Channels: 100%|██████████| 64/64 [00:00<00:00, 1598.62it/s]\n",
            "Reading Channels: 100%|██████████| 64/64 [00:00<00:00, 868.77it/s]"
          ],
          "name": "stderr"
        },
        {
          "output_type": "stream",
          "text": [
            "0 23\n",
            "1 23\n",
            "2 23\n"
          ],
          "name": "stdout"
        },
        {
          "output_type": "stream",
          "text": [
            "\n",
            "Reading Channels: 100%|██████████| 64/64 [00:00<00:00, 878.75it/s]\n",
            "Reading Channels: 100%|██████████| 64/64 [00:00<00:00, 866.37it/s]\n",
            "Reading Channels:   0%|          | 0/64 [00:00<?, ?it/s]"
          ],
          "name": "stderr"
        },
        {
          "output_type": "stream",
          "text": [
            "3 23\n",
            "4 23\n"
          ],
          "name": "stdout"
        },
        {
          "output_type": "stream",
          "text": [
            "Reading Channels: 100%|██████████| 64/64 [00:00<00:00, 878.41it/s]\n",
            "Reading Channels: 100%|██████████| 64/64 [00:00<00:00, 889.12it/s]\n",
            "Reading Channels:   0%|          | 0/64 [00:00<?, ?it/s]"
          ],
          "name": "stderr"
        },
        {
          "output_type": "stream",
          "text": [
            "5 23\n",
            "6 23\n"
          ],
          "name": "stdout"
        },
        {
          "output_type": "stream",
          "text": [
            "Reading Channels: 100%|██████████| 64/64 [00:00<00:00, 821.54it/s]\n",
            "Reading Channels: 100%|██████████| 64/64 [00:00<00:00, 909.67it/s]\n",
            "Reading Channels:   0%|          | 0/64 [00:00<?, ?it/s]"
          ],
          "name": "stderr"
        },
        {
          "output_type": "stream",
          "text": [
            "7 23\n",
            "8 23\n"
          ],
          "name": "stdout"
        },
        {
          "output_type": "stream",
          "text": [
            "Reading Channels: 100%|██████████| 64/64 [00:00<00:00, 860.47it/s]\n",
            "Reading Channels: 100%|██████████| 64/64 [00:00<00:00, 903.70it/s]\n",
            "Reading Channels:   0%|          | 0/64 [00:00<?, ?it/s]"
          ],
          "name": "stderr"
        },
        {
          "output_type": "stream",
          "text": [
            "9 23\n",
            "10 23\n"
          ],
          "name": "stdout"
        },
        {
          "output_type": "stream",
          "text": [
            "Reading Channels: 100%|██████████| 64/64 [00:00<00:00, 828.91it/s]\n",
            "Reading Channels: 100%|██████████| 64/64 [00:00<00:00, 893.16it/s]\n",
            "Reading Channels:   0%|          | 0/64 [00:00<?, ?it/s]"
          ],
          "name": "stderr"
        },
        {
          "output_type": "stream",
          "text": [
            "11 23\n",
            "12 23\n"
          ],
          "name": "stdout"
        },
        {
          "output_type": "stream",
          "text": [
            "\rReading Channels: 100%|██████████| 64/64 [00:00<00:00, 854.28it/s]\n"
          ],
          "name": "stderr"
        },
        {
          "output_type": "stream",
          "text": [
            "13 23\n"
          ],
          "name": "stdout"
        },
        {
          "output_type": "stream",
          "text": [
            "Reading Channels: 100%|██████████| 64/64 [00:00<00:00, 1518.39it/s]\n",
            "Reading Channels: 100%|██████████| 64/64 [00:00<00:00, 1671.71it/s]\n",
            "Reading Channels: 100%|██████████| 64/64 [00:00<00:00, 846.03it/s]"
          ],
          "name": "stderr"
        },
        {
          "output_type": "stream",
          "text": [
            "0 24\n",
            "1 24\n"
          ],
          "name": "stdout"
        },
        {
          "output_type": "stream",
          "text": [
            "\n",
            "Reading Channels: 100%|██████████| 64/64 [00:00<00:00, 881.63it/s]\n",
            "Reading Channels:   0%|          | 0/64 [00:00<?, ?it/s]"
          ],
          "name": "stderr"
        },
        {
          "output_type": "stream",
          "text": [
            "2 24\n",
            "3 24\n"
          ],
          "name": "stdout"
        },
        {
          "output_type": "stream",
          "text": [
            "Reading Channels: 100%|██████████| 64/64 [00:00<00:00, 849.49it/s]\n",
            "Reading Channels: 100%|██████████| 64/64 [00:00<00:00, 851.31it/s]\n",
            "Reading Channels:   0%|          | 0/64 [00:00<?, ?it/s]"
          ],
          "name": "stderr"
        },
        {
          "output_type": "stream",
          "text": [
            "4 24\n",
            "5 24\n"
          ],
          "name": "stdout"
        },
        {
          "output_type": "stream",
          "text": [
            "Reading Channels: 100%|██████████| 64/64 [00:00<00:00, 836.53it/s]\n",
            "Reading Channels: 100%|██████████| 64/64 [00:00<00:00, 901.39it/s]\n",
            "Reading Channels:   0%|          | 0/64 [00:00<?, ?it/s]"
          ],
          "name": "stderr"
        },
        {
          "output_type": "stream",
          "text": [
            "6 24\n",
            "7 24\n"
          ],
          "name": "stdout"
        },
        {
          "output_type": "stream",
          "text": [
            "Reading Channels: 100%|██████████| 64/64 [00:00<00:00, 847.01it/s]\n",
            "Reading Channels: 100%|██████████| 64/64 [00:00<00:00, 861.27it/s]\n",
            "Reading Channels:   0%|          | 0/64 [00:00<?, ?it/s]"
          ],
          "name": "stderr"
        },
        {
          "output_type": "stream",
          "text": [
            "8 24\n",
            "9 24\n"
          ],
          "name": "stdout"
        },
        {
          "output_type": "stream",
          "text": [
            "Reading Channels: 100%|██████████| 64/64 [00:00<00:00, 823.25it/s]\n",
            "Reading Channels: 100%|██████████| 64/64 [00:00<00:00, 849.67it/s]\n",
            "Reading Channels:   0%|          | 0/64 [00:00<?, ?it/s]"
          ],
          "name": "stderr"
        },
        {
          "output_type": "stream",
          "text": [
            "10 24\n",
            "11 24\n"
          ],
          "name": "stdout"
        },
        {
          "output_type": "stream",
          "text": [
            "Reading Channels: 100%|██████████| 64/64 [00:00<00:00, 862.29it/s]\n",
            "Reading Channels: 100%|██████████| 64/64 [00:00<00:00, 906.40it/s]\n"
          ],
          "name": "stderr"
        },
        {
          "output_type": "stream",
          "text": [
            "12 24\n",
            "13 24\n"
          ],
          "name": "stdout"
        },
        {
          "output_type": "stream",
          "text": [
            "Reading Channels: 100%|██████████| 64/64 [00:00<00:00, 1215.89it/s]\n",
            "Reading Channels: 100%|██████████| 64/64 [00:00<00:00, 1119.30it/s]\n",
            "Reading Channels:   0%|          | 0/64 [00:00<?, ?it/s]"
          ],
          "name": "stderr"
        },
        {
          "output_type": "stream",
          "text": [
            "0 25\n",
            "1 25\n"
          ],
          "name": "stdout"
        },
        {
          "output_type": "stream",
          "text": [
            "Reading Channels: 100%|██████████| 64/64 [00:00<00:00, 497.82it/s]\n",
            "Reading Channels: 100%|██████████| 64/64 [00:00<00:00, 657.46it/s]"
          ],
          "name": "stderr"
        },
        {
          "output_type": "stream",
          "text": [
            "2 25\n",
            "3 25\n"
          ],
          "name": "stdout"
        },
        {
          "output_type": "stream",
          "text": [
            "\n",
            "Reading Channels: 100%|██████████| 64/64 [00:00<00:00, 671.36it/s]\n",
            "Reading Channels: 100%|██████████| 64/64 [00:00<00:00, 723.57it/s]\n",
            "Reading Channels:   0%|          | 0/64 [00:00<?, ?it/s]"
          ],
          "name": "stderr"
        },
        {
          "output_type": "stream",
          "text": [
            "4 25\n",
            "5 25\n"
          ],
          "name": "stdout"
        },
        {
          "output_type": "stream",
          "text": [
            "Reading Channels: 100%|██████████| 64/64 [00:00<00:00, 770.06it/s]\n",
            "Reading Channels: 100%|██████████| 64/64 [00:00<00:00, 814.11it/s]\n",
            "Reading Channels:   0%|          | 0/64 [00:00<?, ?it/s]"
          ],
          "name": "stderr"
        },
        {
          "output_type": "stream",
          "text": [
            "6 25\n",
            "7 25\n"
          ],
          "name": "stdout"
        },
        {
          "output_type": "stream",
          "text": [
            "Reading Channels: 100%|██████████| 64/64 [00:00<00:00, 879.37it/s]\n",
            "Reading Channels: 100%|██████████| 64/64 [00:00<00:00, 914.48it/s]\n"
          ],
          "name": "stderr"
        },
        {
          "output_type": "stream",
          "text": [
            "8 25\n",
            "9 25\n"
          ],
          "name": "stdout"
        },
        {
          "output_type": "stream",
          "text": [
            "Reading Channels: 100%|██████████| 64/64 [00:00<00:00, 921.16it/s]\n",
            "Reading Channels: 100%|██████████| 64/64 [00:00<00:00, 917.25it/s]\n",
            "Reading Channels:   0%|          | 0/64 [00:00<?, ?it/s]"
          ],
          "name": "stderr"
        },
        {
          "output_type": "stream",
          "text": [
            "10 25\n",
            "11 25\n"
          ],
          "name": "stdout"
        },
        {
          "output_type": "stream",
          "text": [
            "Reading Channels: 100%|██████████| 64/64 [00:00<00:00, 835.84it/s]\n",
            "Reading Channels: 100%|██████████| 64/64 [00:00<00:00, 910.19it/s]\n"
          ],
          "name": "stderr"
        },
        {
          "output_type": "stream",
          "text": [
            "12 25\n",
            "13 25\n"
          ],
          "name": "stdout"
        },
        {
          "output_type": "stream",
          "text": [
            "Reading Channels: 100%|██████████| 64/64 [00:00<00:00, 1036.79it/s]\n",
            "Reading Channels: 100%|██████████| 64/64 [00:00<00:00, 1138.45it/s]\n"
          ],
          "name": "stderr"
        },
        {
          "output_type": "stream",
          "text": [
            "0 26\n",
            "1 26\n"
          ],
          "name": "stdout"
        },
        {
          "output_type": "stream",
          "text": [
            "Reading Channels: 100%|██████████| 64/64 [00:00<00:00, 688.72it/s]\n",
            "Reading Channels: 100%|██████████| 64/64 [00:00<00:00, 686.73it/s]\n",
            "Reading Channels:   0%|          | 0/64 [00:00<?, ?it/s]"
          ],
          "name": "stderr"
        },
        {
          "output_type": "stream",
          "text": [
            "2 26\n",
            "3 26\n"
          ],
          "name": "stdout"
        },
        {
          "output_type": "stream",
          "text": [
            "Reading Channels: 100%|██████████| 64/64 [00:00<00:00, 707.81it/s]\n",
            "Reading Channels: 100%|██████████| 64/64 [00:00<00:00, 676.85it/s]\n",
            "Reading Channels:   0%|          | 0/64 [00:00<?, ?it/s]"
          ],
          "name": "stderr"
        },
        {
          "output_type": "stream",
          "text": [
            "4 26\n",
            "5 26\n"
          ],
          "name": "stdout"
        },
        {
          "output_type": "stream",
          "text": [
            "Reading Channels: 100%|██████████| 64/64 [00:00<00:00, 743.55it/s]\n",
            "Reading Channels: 100%|██████████| 64/64 [00:00<00:00, 746.51it/s]\n",
            "Reading Channels:   0%|          | 0/64 [00:00<?, ?it/s]"
          ],
          "name": "stderr"
        },
        {
          "output_type": "stream",
          "text": [
            "6 26\n",
            "7 26\n"
          ],
          "name": "stdout"
        },
        {
          "output_type": "stream",
          "text": [
            "Reading Channels: 100%|██████████| 64/64 [00:00<00:00, 722.68it/s]\n",
            "Reading Channels: 100%|██████████| 64/64 [00:00<00:00, 848.35it/s]\n"
          ],
          "name": "stderr"
        },
        {
          "output_type": "stream",
          "text": [
            "8 26\n",
            "9 26\n"
          ],
          "name": "stdout"
        },
        {
          "output_type": "stream",
          "text": [
            "Reading Channels: 100%|██████████| 64/64 [00:00<00:00, 859.18it/s]\n",
            "Reading Channels: 100%|██████████| 64/64 [00:00<00:00, 899.09it/s]\n",
            "Reading Channels:   0%|          | 0/64 [00:00<?, ?it/s]"
          ],
          "name": "stderr"
        },
        {
          "output_type": "stream",
          "text": [
            "10 26\n",
            "11 26\n"
          ],
          "name": "stdout"
        },
        {
          "output_type": "stream",
          "text": [
            "Reading Channels: 100%|██████████| 64/64 [00:00<00:00, 820.26it/s]\n",
            "Reading Channels: 100%|██████████| 64/64 [00:00<00:00, 870.99it/s]\n"
          ],
          "name": "stderr"
        },
        {
          "output_type": "stream",
          "text": [
            "12 26\n",
            "13 26\n"
          ],
          "name": "stdout"
        },
        {
          "output_type": "stream",
          "text": [
            "Reading Channels: 100%|██████████| 64/64 [00:00<00:00, 1187.77it/s]\n",
            "Reading Channels: 100%|██████████| 64/64 [00:00<00:00, 1440.88it/s]\n"
          ],
          "name": "stderr"
        },
        {
          "output_type": "stream",
          "text": [
            "0 27\n",
            "1 27\n"
          ],
          "name": "stdout"
        },
        {
          "output_type": "stream",
          "text": [
            "Reading Channels: 100%|██████████| 64/64 [00:00<00:00, 714.09it/s]\n",
            "Reading Channels: 100%|██████████| 64/64 [00:00<00:00, 834.60it/s]\n",
            "Reading Channels:   0%|          | 0/64 [00:00<?, ?it/s]"
          ],
          "name": "stderr"
        },
        {
          "output_type": "stream",
          "text": [
            "2 27\n",
            "3 27\n"
          ],
          "name": "stdout"
        },
        {
          "output_type": "stream",
          "text": [
            "Reading Channels: 100%|██████████| 64/64 [00:00<00:00, 794.05it/s]\n",
            "Reading Channels: 100%|██████████| 64/64 [00:00<00:00, 769.39it/s]\n",
            "Reading Channels:   0%|          | 0/64 [00:00<?, ?it/s]"
          ],
          "name": "stderr"
        },
        {
          "output_type": "stream",
          "text": [
            "4 27\n",
            "5 27\n"
          ],
          "name": "stdout"
        },
        {
          "output_type": "stream",
          "text": [
            "Reading Channels: 100%|██████████| 64/64 [00:00<00:00, 747.87it/s]\n",
            "Reading Channels: 100%|██████████| 64/64 [00:00<00:00, 858.98it/s]\n",
            "Reading Channels:   0%|          | 0/64 [00:00<?, ?it/s]"
          ],
          "name": "stderr"
        },
        {
          "output_type": "stream",
          "text": [
            "6 27\n",
            "7 27\n"
          ],
          "name": "stdout"
        },
        {
          "output_type": "stream",
          "text": [
            "Reading Channels: 100%|██████████| 64/64 [00:00<00:00, 890.98it/s]\n",
            "Reading Channels: 100%|██████████| 64/64 [00:00<00:00, 924.52it/s]\n",
            "Reading Channels:   0%|          | 0/64 [00:00<?, ?it/s]"
          ],
          "name": "stderr"
        },
        {
          "output_type": "stream",
          "text": [
            "8 27\n",
            "9 27\n"
          ],
          "name": "stdout"
        },
        {
          "output_type": "stream",
          "text": [
            "Reading Channels: 100%|██████████| 64/64 [00:00<00:00, 902.89it/s]\n",
            "Reading Channels: 100%|██████████| 64/64 [00:00<00:00, 905.20it/s]\n",
            "Reading Channels:   0%|          | 0/64 [00:00<?, ?it/s]"
          ],
          "name": "stderr"
        },
        {
          "output_type": "stream",
          "text": [
            "10 27\n",
            "11 27\n"
          ],
          "name": "stdout"
        },
        {
          "output_type": "stream",
          "text": [
            "Reading Channels: 100%|██████████| 64/64 [00:00<00:00, 893.69it/s]\n",
            "Reading Channels: 100%|██████████| 64/64 [00:00<00:00, 855.68it/s]\n"
          ],
          "name": "stderr"
        },
        {
          "output_type": "stream",
          "text": [
            "12 27\n",
            "13 27\n"
          ],
          "name": "stdout"
        },
        {
          "output_type": "stream",
          "text": [
            "Reading Channels: 100%|██████████| 64/64 [00:00<00:00, 1268.06it/s]\n",
            "Reading Channels: 100%|██████████| 64/64 [00:00<00:00, 1333.06it/s]\n"
          ],
          "name": "stderr"
        },
        {
          "output_type": "stream",
          "text": [
            "0 28\n",
            "1 28\n"
          ],
          "name": "stdout"
        },
        {
          "output_type": "stream",
          "text": [
            "Reading Channels: 100%|██████████| 64/64 [00:00<00:00, 701.22it/s]\n",
            "Reading Channels: 100%|██████████| 64/64 [00:00<00:00, 685.36it/s]\n"
          ],
          "name": "stderr"
        },
        {
          "output_type": "stream",
          "text": [
            "2 28\n",
            "3 28\n"
          ],
          "name": "stdout"
        },
        {
          "output_type": "stream",
          "text": [
            "Reading Channels: 100%|██████████| 64/64 [00:00<00:00, 758.08it/s]\n",
            "Reading Channels: 100%|██████████| 64/64 [00:00<00:00, 809.47it/s]\n",
            "Reading Channels:   0%|          | 0/64 [00:00<?, ?it/s]"
          ],
          "name": "stderr"
        },
        {
          "output_type": "stream",
          "text": [
            "4 28\n",
            "5 28\n"
          ],
          "name": "stdout"
        },
        {
          "output_type": "stream",
          "text": [
            "Reading Channels: 100%|██████████| 64/64 [00:00<00:00, 803.74it/s]\n",
            "Reading Channels: 100%|██████████| 64/64 [00:00<00:00, 901.28it/s]\n",
            "Reading Channels:   0%|          | 0/64 [00:00<?, ?it/s]"
          ],
          "name": "stderr"
        },
        {
          "output_type": "stream",
          "text": [
            "6 28\n",
            "7 28\n"
          ],
          "name": "stdout"
        },
        {
          "output_type": "stream",
          "text": [
            "Reading Channels: 100%|██████████| 64/64 [00:00<00:00, 875.50it/s]\n",
            "Reading Channels: 100%|██████████| 64/64 [00:00<00:00, 897.43it/s]\n",
            "Reading Channels:   0%|          | 0/64 [00:00<?, ?it/s]"
          ],
          "name": "stderr"
        },
        {
          "output_type": "stream",
          "text": [
            "8 28\n",
            "9 28\n"
          ],
          "name": "stdout"
        },
        {
          "output_type": "stream",
          "text": [
            "Reading Channels: 100%|██████████| 64/64 [00:00<00:00, 850.35it/s]\n",
            "Reading Channels: 100%|██████████| 64/64 [00:00<00:00, 920.48it/s]\n"
          ],
          "name": "stderr"
        },
        {
          "output_type": "stream",
          "text": [
            "10 28\n",
            "11 28\n"
          ],
          "name": "stdout"
        },
        {
          "output_type": "stream",
          "text": [
            "Reading Channels: 100%|██████████| 64/64 [00:00<00:00, 921.11it/s]\n",
            "Reading Channels: 100%|██████████| 64/64 [00:00<00:00, 912.25it/s]\n"
          ],
          "name": "stderr"
        },
        {
          "output_type": "stream",
          "text": [
            "12 28\n",
            "13 28\n"
          ],
          "name": "stdout"
        },
        {
          "output_type": "stream",
          "text": [
            "Reading Channels: 100%|██████████| 64/64 [00:00<00:00, 1679.99it/s]\n",
            "Reading Channels: 100%|██████████| 64/64 [00:00<00:00, 1741.71it/s]\n",
            "Reading Channels: 100%|██████████| 64/64 [00:00<00:00, 883.52it/s]"
          ],
          "name": "stderr"
        },
        {
          "output_type": "stream",
          "text": [
            "0 29\n",
            "1 29\n",
            "2 29\n"
          ],
          "name": "stdout"
        },
        {
          "output_type": "stream",
          "text": [
            "\n",
            "Reading Channels: 100%|██████████| 64/64 [00:00<00:00, 748.57it/s]\n",
            "Reading Channels: 100%|██████████| 64/64 [00:00<00:00, 642.89it/s]\n"
          ],
          "name": "stderr"
        },
        {
          "output_type": "stream",
          "text": [
            "3 29\n",
            "4 29\n"
          ],
          "name": "stdout"
        },
        {
          "output_type": "stream",
          "text": [
            "Reading Channels: 100%|██████████| 64/64 [00:00<00:00, 783.96it/s]\n",
            "Reading Channels: 100%|██████████| 64/64 [00:00<00:00, 751.29it/s]\n"
          ],
          "name": "stderr"
        },
        {
          "output_type": "stream",
          "text": [
            "5 29\n",
            "6 29\n"
          ],
          "name": "stdout"
        },
        {
          "output_type": "stream",
          "text": [
            "Reading Channels: 100%|██████████| 64/64 [00:00<00:00, 772.66it/s]\n",
            "Reading Channels: 100%|██████████| 64/64 [00:00<00:00, 791.12it/s]\n",
            "Reading Channels:   0%|          | 0/64 [00:00<?, ?it/s]"
          ],
          "name": "stderr"
        },
        {
          "output_type": "stream",
          "text": [
            "7 29\n",
            "8 29\n"
          ],
          "name": "stdout"
        },
        {
          "output_type": "stream",
          "text": [
            "Reading Channels: 100%|██████████| 64/64 [00:00<00:00, 721.45it/s]\n",
            "Reading Channels: 100%|██████████| 64/64 [00:00<00:00, 897.26it/s]\n",
            "Reading Channels:   0%|          | 0/64 [00:00<?, ?it/s]"
          ],
          "name": "stderr"
        },
        {
          "output_type": "stream",
          "text": [
            "9 29\n",
            "10 29\n"
          ],
          "name": "stdout"
        },
        {
          "output_type": "stream",
          "text": [
            "Reading Channels: 100%|██████████| 64/64 [00:00<00:00, 914.00it/s]\n",
            "Reading Channels: 100%|██████████| 64/64 [00:00<00:00, 916.99it/s]\n",
            "Reading Channels:   0%|          | 0/64 [00:00<?, ?it/s]"
          ],
          "name": "stderr"
        },
        {
          "output_type": "stream",
          "text": [
            "11 29\n",
            "12 29\n"
          ],
          "name": "stdout"
        },
        {
          "output_type": "stream",
          "text": [
            "\rReading Channels: 100%|██████████| 64/64 [00:00<00:00, 875.45it/s]\n"
          ],
          "name": "stderr"
        },
        {
          "output_type": "stream",
          "text": [
            "13 29\n"
          ],
          "name": "stdout"
        },
        {
          "output_type": "stream",
          "text": [
            "Reading Channels: 100%|██████████| 64/64 [00:00<00:00, 1552.41it/s]\n",
            "Reading Channels: 100%|██████████| 64/64 [00:00<00:00, 1605.57it/s]\n"
          ],
          "name": "stderr"
        },
        {
          "output_type": "stream",
          "text": [
            "0 30\n",
            "1 30\n"
          ],
          "name": "stdout"
        },
        {
          "output_type": "stream",
          "text": [
            "Reading Channels: 100%|██████████| 64/64 [00:00<00:00, 893.30it/s]\n",
            "Reading Channels: 100%|██████████| 64/64 [00:00<00:00, 914.23it/s]\n",
            "Reading Channels:   0%|          | 0/64 [00:00<?, ?it/s]"
          ],
          "name": "stderr"
        },
        {
          "output_type": "stream",
          "text": [
            "2 30\n",
            "3 30\n"
          ],
          "name": "stdout"
        },
        {
          "output_type": "stream",
          "text": [
            "Reading Channels: 100%|██████████| 64/64 [00:00<00:00, 891.26it/s]\n",
            "Reading Channels: 100%|██████████| 64/64 [00:00<00:00, 694.60it/s]"
          ],
          "name": "stderr"
        },
        {
          "output_type": "stream",
          "text": [
            "4 30\n",
            "5 30\n"
          ],
          "name": "stdout"
        },
        {
          "output_type": "stream",
          "text": [
            "\n",
            "Reading Channels: 100%|██████████| 64/64 [00:00<00:00, 728.41it/s]\n",
            "Reading Channels: 100%|██████████| 64/64 [00:00<00:00, 655.18it/s]\n"
          ],
          "name": "stderr"
        },
        {
          "output_type": "stream",
          "text": [
            "6 30\n",
            "7 30\n"
          ],
          "name": "stdout"
        },
        {
          "output_type": "stream",
          "text": [
            "Reading Channels: 100%|██████████| 64/64 [00:00<00:00, 695.79it/s]\n",
            "Reading Channels: 100%|██████████| 64/64 [00:00<00:00, 735.66it/s]\n"
          ],
          "name": "stderr"
        },
        {
          "output_type": "stream",
          "text": [
            "8 30\n",
            "9 30\n"
          ],
          "name": "stdout"
        },
        {
          "output_type": "stream",
          "text": [
            "Reading Channels: 100%|██████████| 64/64 [00:00<00:00, 919.71it/s]\n",
            "Reading Channels: 100%|██████████| 64/64 [00:00<00:00, 875.52it/s]\n"
          ],
          "name": "stderr"
        },
        {
          "output_type": "stream",
          "text": [
            "10 30\n",
            "11 30\n"
          ],
          "name": "stdout"
        },
        {
          "output_type": "stream",
          "text": [
            "Reading Channels: 100%|██████████| 64/64 [00:00<00:00, 906.21it/s]\n",
            "Reading Channels: 100%|██████████| 64/64 [00:00<00:00, 892.07it/s]\n"
          ],
          "name": "stderr"
        },
        {
          "output_type": "stream",
          "text": [
            "12 30\n",
            "13 30\n"
          ],
          "name": "stdout"
        },
        {
          "output_type": "stream",
          "text": [
            "Reading Channels: 100%|██████████| 64/64 [00:00<00:00, 1263.04it/s]\n",
            "Reading Channels: 100%|██████████| 64/64 [00:00<00:00, 1609.01it/s]\n",
            "Reading Channels:   0%|          | 0/64 [00:00<?, ?it/s]"
          ],
          "name": "stderr"
        },
        {
          "output_type": "stream",
          "text": [
            "0 31\n",
            "1 31\n"
          ],
          "name": "stdout"
        },
        {
          "output_type": "stream",
          "text": [
            "Reading Channels: 100%|██████████| 64/64 [00:00<00:00, 820.34it/s]\n",
            "Reading Channels: 100%|██████████| 64/64 [00:00<00:00, 856.49it/s]\n",
            "Reading Channels:   0%|          | 0/64 [00:00<?, ?it/s]"
          ],
          "name": "stderr"
        },
        {
          "output_type": "stream",
          "text": [
            "2 31\n",
            "3 31\n"
          ],
          "name": "stdout"
        },
        {
          "output_type": "stream",
          "text": [
            "Reading Channels: 100%|██████████| 64/64 [00:00<00:00, 823.52it/s]\n",
            "Reading Channels: 100%|██████████| 64/64 [00:00<00:00, 919.02it/s]\n",
            "Reading Channels:   0%|          | 0/64 [00:00<?, ?it/s]"
          ],
          "name": "stderr"
        },
        {
          "output_type": "stream",
          "text": [
            "4 31\n",
            "5 31\n"
          ],
          "name": "stdout"
        },
        {
          "output_type": "stream",
          "text": [
            "Reading Channels: 100%|██████████| 64/64 [00:00<00:00, 877.44it/s]\n",
            "Reading Channels: 100%|██████████| 64/64 [00:00<00:00, 635.17it/s]"
          ],
          "name": "stderr"
        },
        {
          "output_type": "stream",
          "text": [
            "6 31\n"
          ],
          "name": "stdout"
        },
        {
          "output_type": "stream",
          "text": [
            "\n",
            "Reading Channels: 100%|██████████| 64/64 [00:00<00:00, 732.06it/s]\n",
            "Reading Channels:   0%|          | 0/64 [00:00<?, ?it/s]"
          ],
          "name": "stderr"
        },
        {
          "output_type": "stream",
          "text": [
            "7 31\n",
            "8 31\n"
          ],
          "name": "stdout"
        },
        {
          "output_type": "stream",
          "text": [
            "Reading Channels: 100%|██████████| 64/64 [00:00<00:00, 695.14it/s]\n",
            "Reading Channels: 100%|██████████| 64/64 [00:00<00:00, 785.74it/s]\n",
            "Reading Channels:   0%|          | 0/64 [00:00<?, ?it/s]"
          ],
          "name": "stderr"
        },
        {
          "output_type": "stream",
          "text": [
            "9 31\n",
            "10 31\n"
          ],
          "name": "stdout"
        },
        {
          "output_type": "stream",
          "text": [
            "Reading Channels: 100%|██████████| 64/64 [00:00<00:00, 761.34it/s]\n",
            "Reading Channels: 100%|██████████| 64/64 [00:00<00:00, 774.15it/s]\n",
            "Reading Channels:   0%|          | 0/64 [00:00<?, ?it/s]"
          ],
          "name": "stderr"
        },
        {
          "output_type": "stream",
          "text": [
            "11 31\n",
            "12 31\n"
          ],
          "name": "stdout"
        },
        {
          "output_type": "stream",
          "text": [
            "\rReading Channels: 100%|██████████| 64/64 [00:00<00:00, 810.71it/s]\n"
          ],
          "name": "stderr"
        },
        {
          "output_type": "stream",
          "text": [
            "13 31\n"
          ],
          "name": "stdout"
        },
        {
          "output_type": "stream",
          "text": [
            "Reading Channels: 100%|██████████| 64/64 [00:00<00:00, 1639.92it/s]\n",
            "Reading Channels: 100%|██████████| 64/64 [00:00<00:00, 1630.10it/s]\n",
            "Reading Channels: 100%|██████████| 64/64 [00:00<00:00, 920.71it/s]"
          ],
          "name": "stderr"
        },
        {
          "output_type": "stream",
          "text": [
            "0 32\n",
            "1 32\n",
            "2 32\n"
          ],
          "name": "stdout"
        },
        {
          "output_type": "stream",
          "text": [
            "\n",
            "Reading Channels: 100%|██████████| 64/64 [00:00<00:00, 914.24it/s]\n",
            "Reading Channels: 100%|██████████| 64/64 [00:00<00:00, 883.74it/s]\n",
            "Reading Channels:   0%|          | 0/64 [00:00<?, ?it/s]"
          ],
          "name": "stderr"
        },
        {
          "output_type": "stream",
          "text": [
            "3 32\n",
            "4 32\n"
          ],
          "name": "stdout"
        },
        {
          "output_type": "stream",
          "text": [
            "Reading Channels: 100%|██████████| 64/64 [00:00<00:00, 832.98it/s]\n",
            "Reading Channels: 100%|██████████| 64/64 [00:00<00:00, 913.92it/s]\n",
            "Reading Channels:   0%|          | 0/64 [00:00<?, ?it/s]"
          ],
          "name": "stderr"
        },
        {
          "output_type": "stream",
          "text": [
            "5 32\n",
            "6 32\n"
          ],
          "name": "stdout"
        },
        {
          "output_type": "stream",
          "text": [
            "Reading Channels: 100%|██████████| 64/64 [00:00<00:00, 886.66it/s]\n",
            "Reading Channels: 100%|██████████| 64/64 [00:00<00:00, 654.31it/s]\n"
          ],
          "name": "stderr"
        },
        {
          "output_type": "stream",
          "text": [
            "7 32\n"
          ],
          "name": "stdout"
        },
        {
          "output_type": "stream",
          "text": [
            "Reading Channels: 100%|██████████| 64/64 [00:00<00:00, 772.12it/s]"
          ],
          "name": "stderr"
        },
        {
          "output_type": "stream",
          "text": [
            "8 32\n"
          ],
          "name": "stdout"
        },
        {
          "output_type": "stream",
          "text": [
            "\n",
            "Reading Channels: 100%|██████████| 64/64 [00:00<00:00, 768.50it/s]\n",
            "Reading Channels:   0%|          | 0/64 [00:00<?, ?it/s]"
          ],
          "name": "stderr"
        },
        {
          "output_type": "stream",
          "text": [
            "9 32\n",
            "10 32\n"
          ],
          "name": "stdout"
        },
        {
          "output_type": "stream",
          "text": [
            "Reading Channels: 100%|██████████| 64/64 [00:00<00:00, 684.41it/s]\n",
            "Reading Channels: 100%|██████████| 64/64 [00:00<00:00, 728.37it/s]\n",
            "Reading Channels:   0%|          | 0/64 [00:00<?, ?it/s]"
          ],
          "name": "stderr"
        },
        {
          "output_type": "stream",
          "text": [
            "11 32\n",
            "12 32\n"
          ],
          "name": "stdout"
        },
        {
          "output_type": "stream",
          "text": [
            "\rReading Channels: 100%|██████████| 64/64 [00:00<00:00, 803.34it/s]\n"
          ],
          "name": "stderr"
        },
        {
          "output_type": "stream",
          "text": [
            "13 32\n"
          ],
          "name": "stdout"
        },
        {
          "output_type": "stream",
          "text": [
            "Reading Channels: 100%|██████████| 64/64 [00:00<00:00, 1603.58it/s]\n",
            "Reading Channels: 100%|██████████| 64/64 [00:00<00:00, 1637.80it/s]\n",
            "Reading Channels:   0%|          | 0/64 [00:00<?, ?it/s]"
          ],
          "name": "stderr"
        },
        {
          "output_type": "stream",
          "text": [
            "0 33\n",
            "1 33\n"
          ],
          "name": "stdout"
        },
        {
          "output_type": "stream",
          "text": [
            "Reading Channels: 100%|██████████| 64/64 [00:00<00:00, 884.29it/s]\n",
            "Reading Channels: 100%|██████████| 64/64 [00:00<00:00, 602.27it/s]\n"
          ],
          "name": "stderr"
        },
        {
          "output_type": "stream",
          "text": [
            "2 33\n"
          ],
          "name": "stdout"
        },
        {
          "output_type": "stream",
          "text": [
            "Reading Channels: 100%|██████████| 64/64 [00:00<00:00, 751.03it/s]\n",
            "Reading Channels:   0%|          | 0/64 [00:00<?, ?it/s]"
          ],
          "name": "stderr"
        },
        {
          "output_type": "stream",
          "text": [
            "3 33\n",
            "4 33\n"
          ],
          "name": "stdout"
        },
        {
          "output_type": "stream",
          "text": [
            "Reading Channels: 100%|██████████| 64/64 [00:00<00:00, 721.93it/s]\n",
            "Reading Channels: 100%|██████████| 64/64 [00:00<00:00, 719.35it/s]\n"
          ],
          "name": "stderr"
        },
        {
          "output_type": "stream",
          "text": [
            "5 33\n",
            "6 33\n"
          ],
          "name": "stdout"
        },
        {
          "output_type": "stream",
          "text": [
            "Reading Channels: 100%|██████████| 64/64 [00:00<00:00, 743.80it/s]\n",
            "Reading Channels: 100%|██████████| 64/64 [00:00<00:00, 805.82it/s]\n",
            "Reading Channels:   0%|          | 0/64 [00:00<?, ?it/s]"
          ],
          "name": "stderr"
        },
        {
          "output_type": "stream",
          "text": [
            "7 33\n",
            "8 33\n"
          ],
          "name": "stdout"
        },
        {
          "output_type": "stream",
          "text": [
            "Reading Channels: 100%|██████████| 64/64 [00:00<00:00, 879.90it/s]\n",
            "Reading Channels: 100%|██████████| 64/64 [00:00<00:00, 934.28it/s]\n",
            "Reading Channels:   0%|          | 0/64 [00:00<?, ?it/s]"
          ],
          "name": "stderr"
        },
        {
          "output_type": "stream",
          "text": [
            "9 33\n",
            "10 33\n"
          ],
          "name": "stdout"
        },
        {
          "output_type": "stream",
          "text": [
            "Reading Channels: 100%|██████████| 64/64 [00:00<00:00, 867.02it/s]\n",
            "Reading Channels: 100%|██████████| 64/64 [00:00<00:00, 914.96it/s]\n",
            "Reading Channels:   0%|          | 0/64 [00:00<?, ?it/s]"
          ],
          "name": "stderr"
        },
        {
          "output_type": "stream",
          "text": [
            "11 33\n",
            "12 33\n"
          ],
          "name": "stdout"
        },
        {
          "output_type": "stream",
          "text": [
            "\rReading Channels: 100%|██████████| 64/64 [00:00<00:00, 889.68it/s]\n"
          ],
          "name": "stderr"
        },
        {
          "output_type": "stream",
          "text": [
            "13 33\n"
          ],
          "name": "stdout"
        },
        {
          "output_type": "stream",
          "text": [
            "Reading Channels: 100%|██████████| 64/64 [00:00<00:00, 1468.22it/s]\n",
            "Reading Channels: 100%|██████████| 64/64 [00:00<00:00, 1772.17it/s]\n",
            "Reading Channels: 100%|██████████| 64/64 [00:00<00:00, 883.98it/s]"
          ],
          "name": "stderr"
        },
        {
          "output_type": "stream",
          "text": [
            "0 34\n",
            "1 34\n",
            "2 34\n"
          ],
          "name": "stdout"
        },
        {
          "output_type": "stream",
          "text": [
            "\n",
            "Reading Channels: 100%|██████████| 64/64 [00:00<00:00, 833.95it/s]\n",
            "Reading Channels: 100%|██████████| 64/64 [00:00<00:00, 758.66it/s]\n"
          ],
          "name": "stderr"
        },
        {
          "output_type": "stream",
          "text": [
            "3 34\n",
            "4 34\n"
          ],
          "name": "stdout"
        },
        {
          "output_type": "stream",
          "text": [
            "Reading Channels: 100%|██████████| 64/64 [00:00<00:00, 797.65it/s]\n",
            "Reading Channels: 100%|██████████| 64/64 [00:00<00:00, 722.29it/s]\n"
          ],
          "name": "stderr"
        },
        {
          "output_type": "stream",
          "text": [
            "5 34\n",
            "6 34\n"
          ],
          "name": "stdout"
        },
        {
          "output_type": "stream",
          "text": [
            "Reading Channels: 100%|██████████| 64/64 [00:00<00:00, 784.21it/s]\n",
            "Reading Channels: 100%|██████████| 64/64 [00:00<00:00, 802.98it/s]\n"
          ],
          "name": "stderr"
        },
        {
          "output_type": "stream",
          "text": [
            "7 34\n",
            "8 34\n"
          ],
          "name": "stdout"
        },
        {
          "output_type": "stream",
          "text": [
            "Reading Channels: 100%|██████████| 64/64 [00:00<00:00, 746.38it/s]\n",
            "Reading Channels: 100%|██████████| 64/64 [00:00<00:00, 807.05it/s]\n",
            "Reading Channels:   0%|          | 0/64 [00:00<?, ?it/s]"
          ],
          "name": "stderr"
        },
        {
          "output_type": "stream",
          "text": [
            "9 34\n",
            "10 34\n"
          ],
          "name": "stdout"
        },
        {
          "output_type": "stream",
          "text": [
            "Reading Channels: 100%|██████████| 64/64 [00:00<00:00, 762.91it/s]\n",
            "Reading Channels: 100%|██████████| 64/64 [00:00<00:00, 849.72it/s]\n",
            "Reading Channels:   0%|          | 0/64 [00:00<?, ?it/s]"
          ],
          "name": "stderr"
        },
        {
          "output_type": "stream",
          "text": [
            "11 34\n",
            "12 34\n"
          ],
          "name": "stdout"
        },
        {
          "output_type": "stream",
          "text": [
            "\rReading Channels: 100%|██████████| 64/64 [00:00<00:00, 712.35it/s]\n"
          ],
          "name": "stderr"
        },
        {
          "output_type": "stream",
          "text": [
            "13 34\n"
          ],
          "name": "stdout"
        },
        {
          "output_type": "stream",
          "text": [
            "Reading Channels: 100%|██████████| 64/64 [00:00<00:00, 1634.46it/s]\n",
            "Reading Channels: 100%|██████████| 64/64 [00:00<00:00, 1659.43it/s]\n",
            "Reading Channels: 100%|██████████| 64/64 [00:00<00:00, 897.70it/s]"
          ],
          "name": "stderr"
        },
        {
          "output_type": "stream",
          "text": [
            "0 35\n",
            "1 35\n",
            "2 35\n"
          ],
          "name": "stdout"
        },
        {
          "output_type": "stream",
          "text": [
            "\n",
            "Reading Channels: 100%|██████████| 64/64 [00:00<00:00, 872.55it/s]\n",
            "Reading Channels: 100%|██████████| 64/64 [00:00<00:00, 916.37it/s]\n",
            "Reading Channels:   0%|          | 0/64 [00:00<?, ?it/s]"
          ],
          "name": "stderr"
        },
        {
          "output_type": "stream",
          "text": [
            "3 35\n",
            "4 35\n"
          ],
          "name": "stdout"
        },
        {
          "output_type": "stream",
          "text": [
            "Reading Channels: 100%|██████████| 64/64 [00:00<00:00, 890.70it/s]\n",
            "Reading Channels: 100%|██████████| 64/64 [00:00<00:00, 914.84it/s]\n",
            "Reading Channels:   0%|          | 0/64 [00:00<?, ?it/s]"
          ],
          "name": "stderr"
        },
        {
          "output_type": "stream",
          "text": [
            "5 35\n",
            "6 35\n"
          ],
          "name": "stdout"
        },
        {
          "output_type": "stream",
          "text": [
            "Reading Channels: 100%|██████████| 64/64 [00:00<00:00, 875.98it/s]\n",
            "Reading Channels:   0%|          | 0/64 [00:00<?, ?it/s]"
          ],
          "name": "stderr"
        },
        {
          "output_type": "stream",
          "text": [
            "7 35\n"
          ],
          "name": "stdout"
        },
        {
          "output_type": "stream",
          "text": [
            "Reading Channels: 100%|██████████| 64/64 [00:00<00:00, 675.93it/s]\n",
            "Reading Channels: 100%|██████████| 64/64 [00:00<00:00, 713.61it/s]\n"
          ],
          "name": "stderr"
        },
        {
          "output_type": "stream",
          "text": [
            "8 35\n",
            "9 35\n"
          ],
          "name": "stdout"
        },
        {
          "output_type": "stream",
          "text": [
            "Reading Channels: 100%|██████████| 64/64 [00:00<00:00, 756.23it/s]\n",
            "Reading Channels: 100%|██████████| 64/64 [00:00<00:00, 756.17it/s]\n",
            "Reading Channels:   0%|          | 0/64 [00:00<?, ?it/s]"
          ],
          "name": "stderr"
        },
        {
          "output_type": "stream",
          "text": [
            "10 35\n",
            "11 35\n"
          ],
          "name": "stdout"
        },
        {
          "output_type": "stream",
          "text": [
            "Reading Channels: 100%|██████████| 64/64 [00:00<00:00, 791.60it/s]\n",
            "Reading Channels: 100%|██████████| 64/64 [00:00<00:00, 778.11it/s]\n"
          ],
          "name": "stderr"
        },
        {
          "output_type": "stream",
          "text": [
            "12 35\n",
            "13 35\n"
          ],
          "name": "stdout"
        },
        {
          "output_type": "stream",
          "text": [
            "Reading Channels: 100%|██████████| 64/64 [00:00<00:00, 1568.65it/s]\n",
            "Reading Channels: 100%|██████████| 64/64 [00:00<00:00, 1592.67it/s]\n",
            "Reading Channels: 100%|██████████| 64/64 [00:00<00:00, 898.21it/s]"
          ],
          "name": "stderr"
        },
        {
          "output_type": "stream",
          "text": [
            "0 36\n",
            "1 36\n",
            "2 36\n"
          ],
          "name": "stdout"
        },
        {
          "output_type": "stream",
          "text": [
            "\n",
            "Reading Channels: 100%|██████████| 64/64 [00:00<00:00, 865.16it/s]\n",
            "Reading Channels: 100%|██████████| 64/64 [00:00<00:00, 869.64it/s]\n",
            "Reading Channels:   0%|          | 0/64 [00:00<?, ?it/s]"
          ],
          "name": "stderr"
        },
        {
          "output_type": "stream",
          "text": [
            "3 36\n",
            "4 36\n"
          ],
          "name": "stdout"
        },
        {
          "output_type": "stream",
          "text": [
            "Reading Channels: 100%|██████████| 64/64 [00:00<00:00, 891.12it/s]\n",
            "Reading Channels: 100%|██████████| 64/64 [00:00<00:00, 896.45it/s]\n",
            "Reading Channels:   0%|          | 0/64 [00:00<?, ?it/s]"
          ],
          "name": "stderr"
        },
        {
          "output_type": "stream",
          "text": [
            "5 36\n",
            "6 36\n"
          ],
          "name": "stdout"
        },
        {
          "output_type": "stream",
          "text": [
            "Reading Channels: 100%|██████████| 64/64 [00:00<00:00, 880.50it/s]\n",
            "Reading Channels: 100%|██████████| 64/64 [00:00<00:00, 927.77it/s]\n",
            "Reading Channels:   0%|          | 0/64 [00:00<?, ?it/s]"
          ],
          "name": "stderr"
        },
        {
          "output_type": "stream",
          "text": [
            "7 36\n",
            "8 36\n"
          ],
          "name": "stdout"
        },
        {
          "output_type": "stream",
          "text": [
            "Reading Channels: 100%|██████████| 64/64 [00:00<00:00, 751.68it/s]\n",
            "Reading Channels: 100%|██████████| 64/64 [00:00<00:00, 712.58it/s]"
          ],
          "name": "stderr"
        },
        {
          "output_type": "stream",
          "text": [
            "9 36\n",
            "10 36\n"
          ],
          "name": "stdout"
        },
        {
          "output_type": "stream",
          "text": [
            "\n",
            "Reading Channels: 100%|██████████| 64/64 [00:00<00:00, 766.01it/s]\n",
            "Reading Channels: 100%|██████████| 64/64 [00:00<00:00, 736.35it/s]\n",
            "Reading Channels:   0%|          | 0/64 [00:00<?, ?it/s]"
          ],
          "name": "stderr"
        },
        {
          "output_type": "stream",
          "text": [
            "11 36\n",
            "12 36\n"
          ],
          "name": "stdout"
        },
        {
          "output_type": "stream",
          "text": [
            "\rReading Channels: 100%|██████████| 64/64 [00:00<00:00, 721.12it/s]\n"
          ],
          "name": "stderr"
        },
        {
          "output_type": "stream",
          "text": [
            "13 36\n"
          ],
          "name": "stdout"
        },
        {
          "output_type": "stream",
          "text": [
            "Reading Channels: 100%|██████████| 64/64 [00:00<00:00, 1598.98it/s]\n",
            "Reading Channels: 100%|██████████| 64/64 [00:00<00:00, 1599.69it/s]\n",
            "Reading Channels:   0%|          | 0/64 [00:00<?, ?it/s]"
          ],
          "name": "stderr"
        },
        {
          "output_type": "stream",
          "text": [
            "0 37\n",
            "1 37\n"
          ],
          "name": "stdout"
        },
        {
          "output_type": "stream",
          "text": [
            "Reading Channels: 100%|██████████| 64/64 [00:00<00:00, 835.28it/s]\n",
            "Reading Channels: 100%|██████████| 64/64 [00:00<00:00, 907.00it/s]\n",
            "Reading Channels:   0%|          | 0/64 [00:00<?, ?it/s]"
          ],
          "name": "stderr"
        },
        {
          "output_type": "stream",
          "text": [
            "2 37\n",
            "3 37\n"
          ],
          "name": "stdout"
        },
        {
          "output_type": "stream",
          "text": [
            "Reading Channels: 100%|██████████| 64/64 [00:00<00:00, 918.12it/s]\n",
            "Reading Channels: 100%|██████████| 64/64 [00:00<00:00, 922.94it/s]\n",
            "Reading Channels:   0%|          | 0/64 [00:00<?, ?it/s]"
          ],
          "name": "stderr"
        },
        {
          "output_type": "stream",
          "text": [
            "4 37\n",
            "5 37\n"
          ],
          "name": "stdout"
        },
        {
          "output_type": "stream",
          "text": [
            "Reading Channels: 100%|██████████| 64/64 [00:00<00:00, 797.00it/s]\n",
            "Reading Channels: 100%|██████████| 64/64 [00:00<00:00, 901.74it/s]\n",
            "Reading Channels:   0%|          | 0/64 [00:00<?, ?it/s]"
          ],
          "name": "stderr"
        },
        {
          "output_type": "stream",
          "text": [
            "6 37\n",
            "7 37\n"
          ],
          "name": "stdout"
        },
        {
          "output_type": "stream",
          "text": [
            "Reading Channels: 100%|██████████| 64/64 [00:00<00:00, 829.40it/s]\n",
            "Reading Channels: 100%|██████████| 64/64 [00:00<00:00, 944.18it/s]\n",
            "Reading Channels:   0%|          | 0/64 [00:00<?, ?it/s]"
          ],
          "name": "stderr"
        },
        {
          "output_type": "stream",
          "text": [
            "8 37\n",
            "9 37\n"
          ],
          "name": "stdout"
        },
        {
          "output_type": "stream",
          "text": [
            "Reading Channels: 100%|██████████| 64/64 [00:00<00:00, 903.18it/s]\n",
            "Reading Channels: 100%|██████████| 64/64 [00:00<00:00, 798.50it/s]\n",
            "Reading Channels:   0%|          | 0/64 [00:00<?, ?it/s]"
          ],
          "name": "stderr"
        },
        {
          "output_type": "stream",
          "text": [
            "10 37\n",
            "11 37\n"
          ],
          "name": "stdout"
        },
        {
          "output_type": "stream",
          "text": [
            "Reading Channels: 100%|██████████| 64/64 [00:00<00:00, 664.84it/s]\n",
            "Reading Channels: 100%|██████████| 64/64 [00:00<00:00, 787.87it/s]\n"
          ],
          "name": "stderr"
        },
        {
          "output_type": "stream",
          "text": [
            "12 37\n",
            "13 37\n"
          ],
          "name": "stdout"
        },
        {
          "output_type": "stream",
          "text": [
            "Reading Channels: 100%|██████████| 64/64 [00:00<00:00, 1416.66it/s]\n",
            "Reading Channels: 100%|██████████| 64/64 [00:00<00:00, 1593.51it/s]\n",
            "Reading Channels:   0%|          | 0/64 [00:00<?, ?it/s]"
          ],
          "name": "stderr"
        },
        {
          "output_type": "stream",
          "text": [
            "0 38\n",
            "1 38\n"
          ],
          "name": "stdout"
        },
        {
          "output_type": "stream",
          "text": [
            "Reading Channels: 100%|██████████| 64/64 [00:00<00:00, 890.24it/s]\n",
            "Reading Channels: 100%|██████████| 64/64 [00:00<00:00, 920.85it/s]\n"
          ],
          "name": "stderr"
        },
        {
          "output_type": "stream",
          "text": [
            "2 38\n",
            "3 38\n"
          ],
          "name": "stdout"
        },
        {
          "output_type": "stream",
          "text": [
            "Reading Channels: 100%|██████████| 64/64 [00:00<00:00, 894.81it/s]\n",
            "Reading Channels: 100%|██████████| 64/64 [00:00<00:00, 757.24it/s]"
          ],
          "name": "stderr"
        },
        {
          "output_type": "stream",
          "text": [
            "4 38\n",
            "5 38\n"
          ],
          "name": "stdout"
        },
        {
          "output_type": "stream",
          "text": [
            "\n",
            "Reading Channels: 100%|██████████| 64/64 [00:00<00:00, 724.76it/s]\n",
            "Reading Channels: 100%|██████████| 64/64 [00:00<00:00, 757.33it/s]\n"
          ],
          "name": "stderr"
        },
        {
          "output_type": "stream",
          "text": [
            "6 38\n",
            "7 38\n"
          ],
          "name": "stdout"
        },
        {
          "output_type": "stream",
          "text": [
            "Reading Channels: 100%|██████████| 64/64 [00:00<00:00, 772.53it/s]\n",
            "Reading Channels: 100%|██████████| 64/64 [00:00<00:00, 778.30it/s]\n"
          ],
          "name": "stderr"
        },
        {
          "output_type": "stream",
          "text": [
            "8 38\n",
            "9 38\n"
          ],
          "name": "stdout"
        },
        {
          "output_type": "stream",
          "text": [
            "Reading Channels: 100%|██████████| 64/64 [00:00<00:00, 752.68it/s]\n",
            "Reading Channels: 100%|██████████| 64/64 [00:00<00:00, 792.80it/s]\n"
          ],
          "name": "stderr"
        },
        {
          "output_type": "stream",
          "text": [
            "10 38\n",
            "11 38\n"
          ],
          "name": "stdout"
        },
        {
          "output_type": "stream",
          "text": [
            "Reading Channels: 100%|██████████| 64/64 [00:00<00:00, 834.77it/s]\n",
            "Reading Channels: 100%|██████████| 64/64 [00:00<00:00, 925.45it/s]\n"
          ],
          "name": "stderr"
        },
        {
          "output_type": "stream",
          "text": [
            "12 38\n",
            "13 38\n"
          ],
          "name": "stdout"
        },
        {
          "output_type": "stream",
          "text": [
            "Reading Channels: 100%|██████████| 64/64 [00:00<00:00, 1450.30it/s]\n",
            "Reading Channels: 100%|██████████| 64/64 [00:00<00:00, 1613.19it/s]\n",
            "Reading Channels:   0%|          | 0/64 [00:00<?, ?it/s]"
          ],
          "name": "stderr"
        },
        {
          "output_type": "stream",
          "text": [
            "0 39\n",
            "1 39\n"
          ],
          "name": "stdout"
        },
        {
          "output_type": "stream",
          "text": [
            "Reading Channels: 100%|██████████| 64/64 [00:00<00:00, 888.22it/s]\n",
            "Reading Channels: 100%|██████████| 64/64 [00:00<00:00, 867.82it/s]\n"
          ],
          "name": "stderr"
        },
        {
          "output_type": "stream",
          "text": [
            "2 39\n",
            "3 39\n"
          ],
          "name": "stdout"
        },
        {
          "output_type": "stream",
          "text": [
            "Reading Channels: 100%|██████████| 64/64 [00:00<00:00, 911.09it/s]\n",
            "Reading Channels: 100%|██████████| 64/64 [00:00<00:00, 913.51it/s]\n"
          ],
          "name": "stderr"
        },
        {
          "output_type": "stream",
          "text": [
            "4 39\n",
            "5 39\n"
          ],
          "name": "stdout"
        },
        {
          "output_type": "stream",
          "text": [
            "Reading Channels: 100%|██████████| 64/64 [00:00<00:00, 833.59it/s]\n",
            "Reading Channels: 100%|██████████| 64/64 [00:00<00:00, 735.38it/s]\n"
          ],
          "name": "stderr"
        },
        {
          "output_type": "stream",
          "text": [
            "6 39\n",
            "7 39\n"
          ],
          "name": "stdout"
        },
        {
          "output_type": "stream",
          "text": [
            "Reading Channels: 100%|██████████| 64/64 [00:00<00:00, 769.53it/s]\n",
            "Reading Channels: 100%|██████████| 64/64 [00:00<00:00, 791.09it/s]\n"
          ],
          "name": "stderr"
        },
        {
          "output_type": "stream",
          "text": [
            "8 39\n",
            "9 39\n"
          ],
          "name": "stdout"
        },
        {
          "output_type": "stream",
          "text": [
            "Reading Channels: 100%|██████████| 64/64 [00:00<00:00, 735.00it/s]\n",
            "Reading Channels: 100%|██████████| 64/64 [00:00<00:00, 794.36it/s]\n"
          ],
          "name": "stderr"
        },
        {
          "output_type": "stream",
          "text": [
            "10 39\n",
            "11 39\n"
          ],
          "name": "stdout"
        },
        {
          "output_type": "stream",
          "text": [
            "Reading Channels: 100%|██████████| 64/64 [00:00<00:00, 678.29it/s]\n",
            "Reading Channels: 100%|██████████| 64/64 [00:00<00:00, 797.18it/s]\n"
          ],
          "name": "stderr"
        },
        {
          "output_type": "stream",
          "text": [
            "12 39\n",
            "13 39\n"
          ],
          "name": "stdout"
        },
        {
          "output_type": "stream",
          "text": [
            "Reading Channels: 100%|██████████| 64/64 [00:00<00:00, 1402.40it/s]\n",
            "Reading Channels: 100%|██████████| 64/64 [00:00<00:00, 1189.43it/s]\n"
          ],
          "name": "stderr"
        },
        {
          "output_type": "stream",
          "text": [
            "0 40\n",
            "1 40\n"
          ],
          "name": "stdout"
        },
        {
          "output_type": "stream",
          "text": [
            "Reading Channels: 100%|██████████| 64/64 [00:00<00:00, 790.74it/s]\n",
            "Reading Channels: 100%|██████████| 64/64 [00:00<00:00, 777.64it/s]\n"
          ],
          "name": "stderr"
        },
        {
          "output_type": "stream",
          "text": [
            "2 40\n",
            "3 40\n"
          ],
          "name": "stdout"
        },
        {
          "output_type": "stream",
          "text": [
            "Reading Channels: 100%|██████████| 64/64 [00:00<00:00, 797.24it/s]\n",
            "Reading Channels: 100%|██████████| 64/64 [00:00<00:00, 784.05it/s]\n",
            "Reading Channels:   0%|          | 0/64 [00:00<?, ?it/s]"
          ],
          "name": "stderr"
        },
        {
          "output_type": "stream",
          "text": [
            "4 40\n",
            "5 40\n"
          ],
          "name": "stdout"
        },
        {
          "output_type": "stream",
          "text": [
            "Reading Channels: 100%|██████████| 64/64 [00:00<00:00, 771.34it/s]\n",
            "Reading Channels: 100%|██████████| 64/64 [00:00<00:00, 871.50it/s]\n"
          ],
          "name": "stderr"
        },
        {
          "output_type": "stream",
          "text": [
            "6 40\n",
            "7 40\n"
          ],
          "name": "stdout"
        },
        {
          "output_type": "stream",
          "text": [
            "Reading Channels: 100%|██████████| 64/64 [00:00<00:00, 926.25it/s]\n",
            "Reading Channels: 100%|██████████| 64/64 [00:00<00:00, 901.03it/s]\n",
            "Reading Channels:   0%|          | 0/64 [00:00<?, ?it/s]"
          ],
          "name": "stderr"
        },
        {
          "output_type": "stream",
          "text": [
            "8 40\n",
            "9 40\n"
          ],
          "name": "stdout"
        },
        {
          "output_type": "stream",
          "text": [
            "Reading Channels: 100%|██████████| 64/64 [00:00<00:00, 888.19it/s]\n",
            "Reading Channels: 100%|██████████| 64/64 [00:00<00:00, 926.13it/s]\n",
            "Reading Channels:   0%|          | 0/64 [00:00<?, ?it/s]"
          ],
          "name": "stderr"
        },
        {
          "output_type": "stream",
          "text": [
            "10 40\n",
            "11 40\n"
          ],
          "name": "stdout"
        },
        {
          "output_type": "stream",
          "text": [
            "Reading Channels: 100%|██████████| 64/64 [00:00<00:00, 912.77it/s]\n",
            "Reading Channels: 100%|██████████| 64/64 [00:00<00:00, 878.99it/s]\n"
          ],
          "name": "stderr"
        },
        {
          "output_type": "stream",
          "text": [
            "12 40\n",
            "13 40\n"
          ],
          "name": "stdout"
        },
        {
          "output_type": "stream",
          "text": [
            "Reading Channels: 100%|██████████| 64/64 [00:00<00:00, 1603.26it/s]\n",
            "Reading Channels: 100%|██████████| 64/64 [00:00<00:00, 1600.01it/s]\n",
            "Reading Channels:   0%|          | 0/64 [00:00<?, ?it/s]"
          ],
          "name": "stderr"
        },
        {
          "output_type": "stream",
          "text": [
            "0 41\n",
            "1 41\n"
          ],
          "name": "stdout"
        },
        {
          "output_type": "stream",
          "text": [
            "Reading Channels: 100%|██████████| 64/64 [00:00<00:00, 518.61it/s]\n",
            "Reading Channels: 100%|██████████| 64/64 [00:00<00:00, 711.76it/s]"
          ],
          "name": "stderr"
        },
        {
          "output_type": "stream",
          "text": [
            "2 41\n",
            "3 41\n"
          ],
          "name": "stdout"
        },
        {
          "output_type": "stream",
          "text": [
            "\n",
            "Reading Channels: 100%|██████████| 64/64 [00:00<00:00, 738.80it/s]\n",
            "Reading Channels: 100%|██████████| 64/64 [00:00<00:00, 792.05it/s]\n"
          ],
          "name": "stderr"
        },
        {
          "output_type": "stream",
          "text": [
            "4 41\n",
            "5 41\n"
          ],
          "name": "stdout"
        },
        {
          "output_type": "stream",
          "text": [
            "Reading Channels: 100%|██████████| 64/64 [00:00<00:00, 716.26it/s]\n",
            "Reading Channels: 100%|██████████| 64/64 [00:00<00:00, 729.85it/s]"
          ],
          "name": "stderr"
        },
        {
          "output_type": "stream",
          "text": [
            "6 41\n",
            "7 41\n"
          ],
          "name": "stdout"
        },
        {
          "output_type": "stream",
          "text": [
            "\n",
            "Reading Channels: 100%|██████████| 64/64 [00:00<00:00, 838.10it/s]\n",
            "Reading Channels: 100%|██████████| 64/64 [00:00<00:00, 931.27it/s]\n"
          ],
          "name": "stderr"
        },
        {
          "output_type": "stream",
          "text": [
            "8 41\n",
            "9 41\n"
          ],
          "name": "stdout"
        },
        {
          "output_type": "stream",
          "text": [
            "Reading Channels: 100%|██████████| 64/64 [00:00<00:00, 906.57it/s]\n",
            "Reading Channels: 100%|██████████| 64/64 [00:00<00:00, 904.32it/s]\n"
          ],
          "name": "stderr"
        },
        {
          "output_type": "stream",
          "text": [
            "10 41\n",
            "11 41\n"
          ],
          "name": "stdout"
        },
        {
          "output_type": "stream",
          "text": [
            "Reading Channels: 100%|██████████| 64/64 [00:00<00:00, 891.67it/s]\n",
            "Reading Channels: 100%|██████████| 64/64 [00:00<00:00, 806.20it/s]\n"
          ],
          "name": "stderr"
        },
        {
          "output_type": "stream",
          "text": [
            "12 41\n",
            "13 41\n"
          ],
          "name": "stdout"
        },
        {
          "output_type": "stream",
          "text": [
            "Reading Channels: 100%|██████████| 64/64 [00:00<00:00, 1679.42it/s]\n",
            "Reading Channels: 100%|██████████| 64/64 [00:00<00:00, 1691.71it/s]\n",
            "Reading Channels:   0%|          | 0/64 [00:00<?, ?it/s]"
          ],
          "name": "stderr"
        },
        {
          "output_type": "stream",
          "text": [
            "0 42\n",
            "1 42\n"
          ],
          "name": "stdout"
        },
        {
          "output_type": "stream",
          "text": [
            "Reading Channels: 100%|██████████| 64/64 [00:00<00:00, 867.66it/s]\n",
            "Reading Channels: 100%|██████████| 64/64 [00:00<00:00, 947.50it/s]\n"
          ],
          "name": "stderr"
        },
        {
          "output_type": "stream",
          "text": [
            "2 42\n",
            "3 42\n"
          ],
          "name": "stdout"
        },
        {
          "output_type": "stream",
          "text": [
            "Reading Channels: 100%|██████████| 64/64 [00:00<00:00, 918.72it/s]\n",
            "Reading Channels: 100%|██████████| 64/64 [00:00<00:00, 892.16it/s]\n"
          ],
          "name": "stderr"
        },
        {
          "output_type": "stream",
          "text": [
            "4 42\n",
            "5 42\n"
          ],
          "name": "stdout"
        },
        {
          "output_type": "stream",
          "text": [
            "Reading Channels: 100%|██████████| 64/64 [00:00<00:00, 856.20it/s]\n"
          ],
          "name": "stderr"
        },
        {
          "output_type": "stream",
          "text": [
            "6 42\n"
          ],
          "name": "stdout"
        },
        {
          "output_type": "stream",
          "text": [
            "Reading Channels: 100%|██████████| 64/64 [00:00<00:00, 919.45it/s]\n",
            "Reading Channels: 100%|██████████| 64/64 [00:00<00:00, 922.14it/s]\n"
          ],
          "name": "stderr"
        },
        {
          "output_type": "stream",
          "text": [
            "7 42\n",
            "8 42\n"
          ],
          "name": "stdout"
        },
        {
          "output_type": "stream",
          "text": [
            "Reading Channels: 100%|██████████| 64/64 [00:00<00:00, 652.54it/s]\n",
            "Reading Channels:   0%|          | 0/64 [00:00<?, ?it/s]"
          ],
          "name": "stderr"
        },
        {
          "output_type": "stream",
          "text": [
            "9 42\n"
          ],
          "name": "stdout"
        },
        {
          "output_type": "stream",
          "text": [
            "Reading Channels: 100%|██████████| 64/64 [00:00<00:00, 664.38it/s]\n",
            "Reading Channels: 100%|██████████| 64/64 [00:00<00:00, 719.42it/s]\n"
          ],
          "name": "stderr"
        },
        {
          "output_type": "stream",
          "text": [
            "10 42\n",
            "11 42\n"
          ],
          "name": "stdout"
        },
        {
          "output_type": "stream",
          "text": [
            "Reading Channels: 100%|██████████| 64/64 [00:00<00:00, 711.96it/s]\n",
            "Reading Channels: 100%|██████████| 64/64 [00:00<00:00, 808.35it/s]\n"
          ],
          "name": "stderr"
        },
        {
          "output_type": "stream",
          "text": [
            "12 42\n",
            "13 42\n"
          ],
          "name": "stdout"
        },
        {
          "output_type": "stream",
          "text": [
            "Reading Channels: 100%|██████████| 64/64 [00:00<00:00, 1473.28it/s]\n",
            "Reading Channels: 100%|██████████| 64/64 [00:00<00:00, 1731.19it/s]\n"
          ],
          "name": "stderr"
        },
        {
          "output_type": "stream",
          "text": [
            "0 43\n",
            "1 43\n"
          ],
          "name": "stdout"
        },
        {
          "output_type": "stream",
          "text": [
            "Reading Channels: 100%|██████████| 64/64 [00:00<00:00, 913.04it/s]\n",
            "Reading Channels: 100%|██████████| 64/64 [00:00<00:00, 921.25it/s]\n",
            "Reading Channels:   0%|          | 0/64 [00:00<?, ?it/s]"
          ],
          "name": "stderr"
        },
        {
          "output_type": "stream",
          "text": [
            "2 43\n",
            "3 43\n"
          ],
          "name": "stdout"
        },
        {
          "output_type": "stream",
          "text": [
            "Reading Channels: 100%|██████████| 64/64 [00:00<00:00, 846.80it/s]\n",
            "Reading Channels: 100%|██████████| 64/64 [00:00<00:00, 702.82it/s]\n"
          ],
          "name": "stderr"
        },
        {
          "output_type": "stream",
          "text": [
            "4 43\n",
            "5 43\n"
          ],
          "name": "stdout"
        },
        {
          "output_type": "stream",
          "text": [
            "Reading Channels: 100%|██████████| 64/64 [00:00<00:00, 636.19it/s]\n",
            "Reading Channels: 100%|██████████| 64/64 [00:00<00:00, 687.64it/s]\n",
            "Reading Channels:   0%|          | 0/64 [00:00<?, ?it/s]"
          ],
          "name": "stderr"
        },
        {
          "output_type": "stream",
          "text": [
            "6 43\n",
            "7 43\n"
          ],
          "name": "stdout"
        },
        {
          "output_type": "stream",
          "text": [
            "Reading Channels: 100%|██████████| 64/64 [00:00<00:00, 712.79it/s]\n",
            "Reading Channels: 100%|██████████| 64/64 [00:00<00:00, 715.74it/s]\n",
            "Reading Channels:   0%|          | 0/64 [00:00<?, ?it/s]"
          ],
          "name": "stderr"
        },
        {
          "output_type": "stream",
          "text": [
            "8 43\n",
            "9 43\n"
          ],
          "name": "stdout"
        },
        {
          "output_type": "stream",
          "text": [
            "Reading Channels: 100%|██████████| 64/64 [00:00<00:00, 744.64it/s]\n",
            "Reading Channels: 100%|██████████| 64/64 [00:00<00:00, 756.62it/s]\n"
          ],
          "name": "stderr"
        },
        {
          "output_type": "stream",
          "text": [
            "10 43\n",
            "11 43\n"
          ],
          "name": "stdout"
        },
        {
          "output_type": "stream",
          "text": [
            "Reading Channels: 100%|██████████| 64/64 [00:00<00:00, 905.23it/s]\n",
            "Reading Channels: 100%|██████████| 64/64 [00:00<00:00, 885.86it/s]\n"
          ],
          "name": "stderr"
        },
        {
          "output_type": "stream",
          "text": [
            "12 43\n",
            "13 43\n"
          ],
          "name": "stdout"
        },
        {
          "output_type": "stream",
          "text": [
            "Reading Channels: 100%|██████████| 64/64 [00:00<00:00, 1681.29it/s]\n",
            "Reading Channels: 100%|██████████| 64/64 [00:00<00:00, 1688.38it/s]\n",
            "Reading Channels:   0%|          | 0/64 [00:00<?, ?it/s]"
          ],
          "name": "stderr"
        },
        {
          "output_type": "stream",
          "text": [
            "0 44\n",
            "1 44\n"
          ],
          "name": "stdout"
        },
        {
          "output_type": "stream",
          "text": [
            "Reading Channels: 100%|██████████| 64/64 [00:00<00:00, 860.49it/s]\n",
            "Reading Channels: 100%|██████████| 64/64 [00:00<00:00, 886.46it/s]\n"
          ],
          "name": "stderr"
        },
        {
          "output_type": "stream",
          "text": [
            "2 44\n",
            "3 44\n"
          ],
          "name": "stdout"
        },
        {
          "output_type": "stream",
          "text": [
            "Reading Channels: 100%|██████████| 64/64 [00:00<00:00, 901.63it/s]\n",
            "Reading Channels: 100%|██████████| 64/64 [00:00<00:00, 869.09it/s]\n"
          ],
          "name": "stderr"
        },
        {
          "output_type": "stream",
          "text": [
            "4 44\n",
            "5 44\n"
          ],
          "name": "stdout"
        },
        {
          "output_type": "stream",
          "text": [
            "Reading Channels: 100%|██████████| 64/64 [00:00<00:00, 614.95it/s]\n",
            "Reading Channels: 100%|██████████| 64/64 [00:00<00:00, 734.30it/s]"
          ],
          "name": "stderr"
        },
        {
          "output_type": "stream",
          "text": [
            "6 44\n",
            "7 44\n"
          ],
          "name": "stdout"
        },
        {
          "output_type": "stream",
          "text": [
            "\n",
            "Reading Channels: 100%|██████████| 64/64 [00:00<00:00, 774.90it/s]\n",
            "Reading Channels: 100%|██████████| 64/64 [00:00<00:00, 755.15it/s]\n"
          ],
          "name": "stderr"
        },
        {
          "output_type": "stream",
          "text": [
            "8 44\n",
            "9 44\n"
          ],
          "name": "stdout"
        },
        {
          "output_type": "stream",
          "text": [
            "Reading Channels: 100%|██████████| 64/64 [00:00<00:00, 598.58it/s]\n",
            "Reading Channels: 100%|██████████| 64/64 [00:00<00:00, 704.05it/s]"
          ],
          "name": "stderr"
        },
        {
          "output_type": "stream",
          "text": [
            "10 44\n",
            "11 44\n"
          ],
          "name": "stdout"
        },
        {
          "output_type": "stream",
          "text": [
            "\n",
            "Reading Channels: 100%|██████████| 64/64 [00:00<00:00, 820.91it/s]\n",
            "Reading Channels: 100%|██████████| 64/64 [00:00<00:00, 588.30it/s]"
          ],
          "name": "stderr"
        },
        {
          "output_type": "stream",
          "text": [
            "12 44\n"
          ],
          "name": "stdout"
        },
        {
          "output_type": "stream",
          "text": [
            "\n"
          ],
          "name": "stderr"
        },
        {
          "output_type": "stream",
          "text": [
            "13 44\n"
          ],
          "name": "stdout"
        },
        {
          "output_type": "stream",
          "text": [
            "Reading Channels: 100%|██████████| 64/64 [00:00<00:00, 1104.99it/s]\n",
            "Reading Channels: 100%|██████████| 64/64 [00:00<00:00, 1590.91it/s]\n",
            "Reading Channels: 100%|██████████| 64/64 [00:00<00:00, 871.99it/s]"
          ],
          "name": "stderr"
        },
        {
          "output_type": "stream",
          "text": [
            "0 45\n",
            "1 45\n"
          ],
          "name": "stdout"
        },
        {
          "output_type": "stream",
          "text": [
            "\n",
            "Reading Channels: 100%|██████████| 64/64 [00:00<00:00, 908.99it/s]\n",
            "Reading Channels:   0%|          | 0/64 [00:00<?, ?it/s]"
          ],
          "name": "stderr"
        },
        {
          "output_type": "stream",
          "text": [
            "2 45\n",
            "3 45\n"
          ],
          "name": "stdout"
        },
        {
          "output_type": "stream",
          "text": [
            "Reading Channels: 100%|██████████| 64/64 [00:00<00:00, 869.62it/s]\n",
            "Reading Channels: 100%|██████████| 64/64 [00:00<00:00, 863.89it/s]\n",
            "Reading Channels:   0%|          | 0/64 [00:00<?, ?it/s]"
          ],
          "name": "stderr"
        },
        {
          "output_type": "stream",
          "text": [
            "4 45\n",
            "5 45\n"
          ],
          "name": "stdout"
        },
        {
          "output_type": "stream",
          "text": [
            "Reading Channels: 100%|██████████| 64/64 [00:00<00:00, 831.15it/s]\n",
            "Reading Channels: 100%|██████████| 64/64 [00:00<00:00, 883.43it/s]\n",
            "Reading Channels:   0%|          | 0/64 [00:00<?, ?it/s]"
          ],
          "name": "stderr"
        },
        {
          "output_type": "stream",
          "text": [
            "6 45\n",
            "7 45\n"
          ],
          "name": "stdout"
        },
        {
          "output_type": "stream",
          "text": [
            "Reading Channels: 100%|██████████| 64/64 [00:00<00:00, 844.41it/s]\n",
            "Reading Channels: 100%|██████████| 64/64 [00:00<00:00, 870.66it/s]\n",
            "Reading Channels:   0%|          | 0/64 [00:00<?, ?it/s]"
          ],
          "name": "stderr"
        },
        {
          "output_type": "stream",
          "text": [
            "8 45\n",
            "9 45\n"
          ],
          "name": "stdout"
        },
        {
          "output_type": "stream",
          "text": [
            "Reading Channels: 100%|██████████| 64/64 [00:00<00:00, 872.44it/s]\n",
            "Reading Channels: 100%|██████████| 64/64 [00:00<00:00, 843.56it/s]\n",
            "Reading Channels:   0%|          | 0/64 [00:00<?, ?it/s]"
          ],
          "name": "stderr"
        },
        {
          "output_type": "stream",
          "text": [
            "10 45\n",
            "11 45\n"
          ],
          "name": "stdout"
        },
        {
          "output_type": "stream",
          "text": [
            "Reading Channels: 100%|██████████| 64/64 [00:00<00:00, 863.59it/s]\n",
            "Reading Channels: 100%|██████████| 64/64 [00:00<00:00, 888.67it/s]\n"
          ],
          "name": "stderr"
        },
        {
          "output_type": "stream",
          "text": [
            "12 45\n",
            "13 45\n"
          ],
          "name": "stdout"
        },
        {
          "output_type": "stream",
          "text": [
            "Reading Channels: 100%|██████████| 64/64 [00:00<00:00, 1496.20it/s]\n",
            "Reading Channels: 100%|██████████| 64/64 [00:00<00:00, 1711.90it/s]\n",
            "Reading Channels:   0%|          | 0/64 [00:00<?, ?it/s]"
          ],
          "name": "stderr"
        },
        {
          "output_type": "stream",
          "text": [
            "0 46\n",
            "1 46\n"
          ],
          "name": "stdout"
        },
        {
          "output_type": "stream",
          "text": [
            "Reading Channels: 100%|██████████| 64/64 [00:00<00:00, 881.64it/s]\n",
            "Reading Channels: 100%|██████████| 64/64 [00:00<00:00, 911.78it/s]\n"
          ],
          "name": "stderr"
        },
        {
          "output_type": "stream",
          "text": [
            "2 46\n",
            "3 46\n"
          ],
          "name": "stdout"
        },
        {
          "output_type": "stream",
          "text": [
            "Reading Channels: 100%|██████████| 64/64 [00:00<00:00, 899.42it/s]\n",
            "Reading Channels: 100%|██████████| 64/64 [00:00<00:00, 918.57it/s]\n"
          ],
          "name": "stderr"
        },
        {
          "output_type": "stream",
          "text": [
            "4 46\n",
            "5 46\n"
          ],
          "name": "stdout"
        },
        {
          "output_type": "stream",
          "text": [
            "Reading Channels: 100%|██████████| 64/64 [00:00<00:00, 676.81it/s]\n",
            "Reading Channels: 100%|██████████| 64/64 [00:00<00:00, 694.29it/s]\n"
          ],
          "name": "stderr"
        },
        {
          "output_type": "stream",
          "text": [
            "6 46\n",
            "7 46\n"
          ],
          "name": "stdout"
        },
        {
          "output_type": "stream",
          "text": [
            "Reading Channels: 100%|██████████| 64/64 [00:00<00:00, 652.21it/s]\n",
            "Reading Channels: 100%|██████████| 64/64 [00:00<00:00, 711.10it/s]\n"
          ],
          "name": "stderr"
        },
        {
          "output_type": "stream",
          "text": [
            "8 46\n",
            "9 46\n"
          ],
          "name": "stdout"
        },
        {
          "output_type": "stream",
          "text": [
            "Reading Channels: 100%|██████████| 64/64 [00:00<00:00, 796.71it/s]\n",
            "Reading Channels: 100%|██████████| 64/64 [00:00<00:00, 783.22it/s]\n"
          ],
          "name": "stderr"
        },
        {
          "output_type": "stream",
          "text": [
            "10 46\n",
            "11 46\n"
          ],
          "name": "stdout"
        },
        {
          "output_type": "stream",
          "text": [
            "Reading Channels: 100%|██████████| 64/64 [00:00<00:00, 759.55it/s]\n",
            "Reading Channels: 100%|██████████| 64/64 [00:00<00:00, 825.21it/s]\n"
          ],
          "name": "stderr"
        },
        {
          "output_type": "stream",
          "text": [
            "12 46\n",
            "13 46\n"
          ],
          "name": "stdout"
        },
        {
          "output_type": "stream",
          "text": [
            "Reading Channels: 100%|██████████| 64/64 [00:00<00:00, 1739.06it/s]\n",
            "Reading Channels: 100%|██████████| 64/64 [00:00<00:00, 1712.66it/s]\n",
            "Reading Channels:   0%|          | 0/64 [00:00<?, ?it/s]"
          ],
          "name": "stderr"
        },
        {
          "output_type": "stream",
          "text": [
            "0 47\n",
            "1 47\n"
          ],
          "name": "stdout"
        },
        {
          "output_type": "stream",
          "text": [
            "Reading Channels: 100%|██████████| 64/64 [00:00<00:00, 860.68it/s]\n",
            "Reading Channels: 100%|██████████| 64/64 [00:00<00:00, 926.13it/s]\n"
          ],
          "name": "stderr"
        },
        {
          "output_type": "stream",
          "text": [
            "2 47\n",
            "3 47\n"
          ],
          "name": "stdout"
        },
        {
          "output_type": "stream",
          "text": [
            "Reading Channels: 100%|██████████| 64/64 [00:00<00:00, 946.07it/s]\n",
            "Reading Channels: 100%|██████████| 64/64 [00:00<00:00, 906.63it/s]\n"
          ],
          "name": "stderr"
        },
        {
          "output_type": "stream",
          "text": [
            "4 47\n",
            "5 47\n"
          ],
          "name": "stdout"
        },
        {
          "output_type": "stream",
          "text": [
            "Reading Channels: 100%|██████████| 64/64 [00:00<00:00, 812.42it/s]\n",
            "Reading Channels: 100%|██████████| 64/64 [00:00<00:00, 891.67it/s]"
          ],
          "name": "stderr"
        },
        {
          "output_type": "stream",
          "text": [
            "6 47\n",
            "7 47\n"
          ],
          "name": "stdout"
        },
        {
          "output_type": "stream",
          "text": [
            "\n",
            "Reading Channels: 100%|██████████| 64/64 [00:00<00:00, 894.83it/s]\n",
            "Reading Channels: 100%|██████████| 64/64 [00:00<00:00, 808.72it/s]\n"
          ],
          "name": "stderr"
        },
        {
          "output_type": "stream",
          "text": [
            "8 47\n",
            "9 47\n"
          ],
          "name": "stdout"
        },
        {
          "output_type": "stream",
          "text": [
            "Reading Channels: 100%|██████████| 64/64 [00:00<00:00, 709.35it/s]\n",
            "Reading Channels: 100%|██████████| 64/64 [00:00<00:00, 699.57it/s]\n"
          ],
          "name": "stderr"
        },
        {
          "output_type": "stream",
          "text": [
            "10 47\n",
            "11 47\n"
          ],
          "name": "stdout"
        },
        {
          "output_type": "stream",
          "text": [
            "Reading Channels: 100%|██████████| 64/64 [00:00<00:00, 777.22it/s]\n",
            "Reading Channels: 100%|██████████| 64/64 [00:00<00:00, 735.21it/s]\n"
          ],
          "name": "stderr"
        },
        {
          "output_type": "stream",
          "text": [
            "12 47\n",
            "13 47\n"
          ],
          "name": "stdout"
        },
        {
          "output_type": "stream",
          "text": [
            "Reading Channels: 100%|██████████| 64/64 [00:00<00:00, 1143.15it/s]\n",
            "Reading Channels: 100%|██████████| 64/64 [00:00<00:00, 1238.78it/s]\n"
          ],
          "name": "stderr"
        },
        {
          "output_type": "stream",
          "text": [
            "0 48\n",
            "1 48\n"
          ],
          "name": "stdout"
        },
        {
          "output_type": "stream",
          "text": [
            "Reading Channels: 100%|██████████| 64/64 [00:00<00:00, 665.54it/s]\n",
            "Reading Channels: 100%|██████████| 64/64 [00:00<00:00, 904.86it/s]\n"
          ],
          "name": "stderr"
        },
        {
          "output_type": "stream",
          "text": [
            "2 48\n",
            "3 48\n"
          ],
          "name": "stdout"
        },
        {
          "output_type": "stream",
          "text": [
            "Reading Channels: 100%|██████████| 64/64 [00:00<00:00, 928.76it/s]\n",
            "Reading Channels: 100%|██████████| 64/64 [00:00<00:00, 924.93it/s]\n"
          ],
          "name": "stderr"
        },
        {
          "output_type": "stream",
          "text": [
            "4 48\n",
            "5 48\n"
          ],
          "name": "stdout"
        },
        {
          "output_type": "stream",
          "text": [
            "Reading Channels: 100%|██████████| 64/64 [00:00<00:00, 886.91it/s]\n",
            "Reading Channels: 100%|██████████| 64/64 [00:00<00:00, 894.28it/s]\n"
          ],
          "name": "stderr"
        },
        {
          "output_type": "stream",
          "text": [
            "6 48\n",
            "7 48\n"
          ],
          "name": "stdout"
        },
        {
          "output_type": "stream",
          "text": [
            "Reading Channels: 100%|██████████| 64/64 [00:00<00:00, 901.77it/s]\n",
            "Reading Channels: 100%|██████████| 64/64 [00:00<00:00, 898.82it/s]\n"
          ],
          "name": "stderr"
        },
        {
          "output_type": "stream",
          "text": [
            "8 48\n",
            "9 48\n"
          ],
          "name": "stdout"
        },
        {
          "output_type": "stream",
          "text": [
            "Reading Channels: 100%|██████████| 64/64 [00:00<00:00, 881.42it/s]\n",
            "Reading Channels: 100%|██████████| 64/64 [00:00<00:00, 936.59it/s]\n"
          ],
          "name": "stderr"
        },
        {
          "output_type": "stream",
          "text": [
            "10 48\n",
            "11 48\n"
          ],
          "name": "stdout"
        },
        {
          "output_type": "stream",
          "text": [
            "Reading Channels: 100%|██████████| 64/64 [00:00<00:00, 926.36it/s]\n",
            "Reading Channels: 100%|██████████| 64/64 [00:00<00:00, 923.47it/s]\n"
          ],
          "name": "stderr"
        },
        {
          "output_type": "stream",
          "text": [
            "12 48\n",
            "13 48\n"
          ],
          "name": "stdout"
        },
        {
          "output_type": "stream",
          "text": [
            "Reading Channels: 100%|██████████| 64/64 [00:00<00:00, 1715.30it/s]\n",
            "Reading Channels: 100%|██████████| 64/64 [00:00<00:00, 1750.58it/s]\n"
          ],
          "name": "stderr"
        },
        {
          "output_type": "stream",
          "text": [
            "0 49\n",
            "1 49\n"
          ],
          "name": "stdout"
        },
        {
          "output_type": "stream",
          "text": [
            "Reading Channels: 100%|██████████| 64/64 [00:00<00:00, 727.93it/s]\n",
            "Reading Channels: 100%|██████████| 64/64 [00:00<00:00, 804.62it/s]\n"
          ],
          "name": "stderr"
        },
        {
          "output_type": "stream",
          "text": [
            "2 49\n",
            "3 49\n"
          ],
          "name": "stdout"
        },
        {
          "output_type": "stream",
          "text": [
            "Reading Channels: 100%|██████████| 64/64 [00:00<00:00, 506.00it/s]\n",
            "Reading Channels: 100%|██████████| 64/64 [00:00<00:00, 715.87it/s]"
          ],
          "name": "stderr"
        },
        {
          "output_type": "stream",
          "text": [
            "4 49\n",
            "5 49\n"
          ],
          "name": "stdout"
        },
        {
          "output_type": "stream",
          "text": [
            "\n",
            "Reading Channels: 100%|██████████| 64/64 [00:00<00:00, 790.29it/s]\n",
            "Reading Channels: 100%|██████████| 64/64 [00:00<00:00, 786.08it/s]\n"
          ],
          "name": "stderr"
        },
        {
          "output_type": "stream",
          "text": [
            "6 49\n",
            "7 49\n"
          ],
          "name": "stdout"
        },
        {
          "output_type": "stream",
          "text": [
            "Reading Channels: 100%|██████████| 64/64 [00:00<00:00, 805.74it/s]\n",
            "Reading Channels: 100%|██████████| 64/64 [00:00<00:00, 784.70it/s]\n"
          ],
          "name": "stderr"
        },
        {
          "output_type": "stream",
          "text": [
            "8 49\n",
            "9 49\n"
          ],
          "name": "stdout"
        },
        {
          "output_type": "stream",
          "text": [
            "Reading Channels: 100%|██████████| 64/64 [00:00<00:00, 876.97it/s]\n",
            "Reading Channels: 100%|██████████| 64/64 [00:00<00:00, 923.18it/s]\n"
          ],
          "name": "stderr"
        },
        {
          "output_type": "stream",
          "text": [
            "10 49\n",
            "11 49\n"
          ],
          "name": "stdout"
        },
        {
          "output_type": "stream",
          "text": [
            "Reading Channels: 100%|██████████| 64/64 [00:00<00:00, 898.91it/s]\n",
            "Reading Channels: 100%|██████████| 64/64 [00:00<00:00, 840.11it/s]\n"
          ],
          "name": "stderr"
        },
        {
          "output_type": "stream",
          "text": [
            "12 49\n",
            "13 49\n"
          ],
          "name": "stdout"
        },
        {
          "output_type": "stream",
          "text": [
            "Reading Channels: 100%|██████████| 64/64 [00:00<00:00, 1566.90it/s]\n",
            "Reading Channels: 100%|██████████| 64/64 [00:00<00:00, 1628.64it/s]\n",
            "Reading Channels:   0%|          | 0/64 [00:00<?, ?it/s]"
          ],
          "name": "stderr"
        },
        {
          "output_type": "stream",
          "text": [
            "0 50\n",
            "1 50\n"
          ],
          "name": "stdout"
        },
        {
          "output_type": "stream",
          "text": [
            "Reading Channels: 100%|██████████| 64/64 [00:00<00:00, 833.33it/s]\n",
            "Reading Channels: 100%|██████████| 64/64 [00:00<00:00, 880.67it/s]\n"
          ],
          "name": "stderr"
        },
        {
          "output_type": "stream",
          "text": [
            "2 50\n",
            "3 50\n"
          ],
          "name": "stdout"
        },
        {
          "output_type": "stream",
          "text": [
            "Reading Channels: 100%|██████████| 64/64 [00:00<00:00, 893.72it/s]\n",
            "Reading Channels: 100%|██████████| 64/64 [00:00<00:00, 852.24it/s]\n"
          ],
          "name": "stderr"
        },
        {
          "output_type": "stream",
          "text": [
            "4 50\n",
            "5 50\n"
          ],
          "name": "stdout"
        },
        {
          "output_type": "stream",
          "text": [
            "Reading Channels: 100%|██████████| 64/64 [00:00<00:00, 907.55it/s]\n",
            "Reading Channels: 100%|██████████| 64/64 [00:00<00:00, 896.80it/s]\n"
          ],
          "name": "stderr"
        },
        {
          "output_type": "stream",
          "text": [
            "6 50\n",
            "7 50\n"
          ],
          "name": "stdout"
        },
        {
          "output_type": "stream",
          "text": [
            "Reading Channels: 100%|██████████| 64/64 [00:00<00:00, 704.65it/s]\n",
            "Reading Channels: 100%|██████████| 64/64 [00:00<00:00, 850.49it/s]\n",
            "Reading Channels:   0%|          | 0/64 [00:00<?, ?it/s]"
          ],
          "name": "stderr"
        },
        {
          "output_type": "stream",
          "text": [
            "8 50\n",
            "9 50\n"
          ],
          "name": "stdout"
        },
        {
          "output_type": "stream",
          "text": [
            "Reading Channels: 100%|██████████| 64/64 [00:00<00:00, 743.81it/s]\n",
            "Reading Channels: 100%|██████████| 64/64 [00:00<00:00, 747.30it/s]\n"
          ],
          "name": "stderr"
        },
        {
          "output_type": "stream",
          "text": [
            "10 50\n",
            "11 50\n"
          ],
          "name": "stdout"
        },
        {
          "output_type": "stream",
          "text": [
            "Reading Channels: 100%|██████████| 64/64 [00:00<00:00, 761.89it/s]\n",
            "Reading Channels: 100%|██████████| 64/64 [00:00<00:00, 769.50it/s]\n"
          ],
          "name": "stderr"
        },
        {
          "output_type": "stream",
          "text": [
            "12 50\n",
            "13 50\n"
          ],
          "name": "stdout"
        },
        {
          "output_type": "stream",
          "text": [
            "Reading Channels: 100%|██████████| 64/64 [00:00<00:00, 1654.99it/s]\n",
            "Reading Channels: 100%|██████████| 64/64 [00:00<00:00, 1568.97it/s]\n"
          ],
          "name": "stderr"
        },
        {
          "output_type": "stream",
          "text": [
            "0 51\n",
            "1 51\n"
          ],
          "name": "stdout"
        },
        {
          "output_type": "stream",
          "text": [
            "Reading Channels: 100%|██████████| 64/64 [00:00<00:00, 797.73it/s]\n",
            "Reading Channels: 100%|██████████| 64/64 [00:00<00:00, 643.47it/s]"
          ],
          "name": "stderr"
        },
        {
          "output_type": "stream",
          "text": [
            "2 51\n",
            "3 51\n"
          ],
          "name": "stdout"
        },
        {
          "output_type": "stream",
          "text": [
            "\n",
            "Reading Channels: 100%|██████████| 64/64 [00:00<00:00, 681.06it/s]\n",
            "Reading Channels: 100%|██████████| 64/64 [00:00<00:00, 745.72it/s]"
          ],
          "name": "stderr"
        },
        {
          "output_type": "stream",
          "text": [
            "4 51\n",
            "5 51\n"
          ],
          "name": "stdout"
        },
        {
          "output_type": "stream",
          "text": [
            "\n",
            "Reading Channels: 100%|██████████| 64/64 [00:00<00:00, 756.89it/s]\n",
            "Reading Channels: 100%|██████████| 64/64 [00:00<00:00, 821.79it/s]\n"
          ],
          "name": "stderr"
        },
        {
          "output_type": "stream",
          "text": [
            "6 51\n",
            "7 51\n"
          ],
          "name": "stdout"
        },
        {
          "output_type": "stream",
          "text": [
            "Reading Channels: 100%|██████████| 64/64 [00:00<00:00, 753.65it/s]\n",
            "Reading Channels: 100%|██████████| 64/64 [00:00<00:00, 920.63it/s]\n"
          ],
          "name": "stderr"
        },
        {
          "output_type": "stream",
          "text": [
            "8 51\n",
            "9 51\n"
          ],
          "name": "stdout"
        },
        {
          "output_type": "stream",
          "text": [
            "Reading Channels: 100%|██████████| 64/64 [00:00<00:00, 876.11it/s]\n",
            "Reading Channels: 100%|██████████| 64/64 [00:00<00:00, 924.86it/s]\n"
          ],
          "name": "stderr"
        },
        {
          "output_type": "stream",
          "text": [
            "10 51\n",
            "11 51\n"
          ],
          "name": "stdout"
        },
        {
          "output_type": "stream",
          "text": [
            "Reading Channels: 100%|██████████| 64/64 [00:00<00:00, 883.02it/s]\n",
            "Reading Channels: 100%|██████████| 64/64 [00:00<00:00, 912.39it/s]\n"
          ],
          "name": "stderr"
        },
        {
          "output_type": "stream",
          "text": [
            "12 51\n",
            "13 51\n"
          ],
          "name": "stdout"
        },
        {
          "output_type": "stream",
          "text": [
            "Reading Channels: 100%|██████████| 64/64 [00:00<00:00, 1702.84it/s]\n",
            "Reading Channels: 100%|██████████| 64/64 [00:00<00:00, 1547.76it/s]\n",
            "Reading Channels:   0%|          | 0/64 [00:00<?, ?it/s]"
          ],
          "name": "stderr"
        },
        {
          "output_type": "stream",
          "text": [
            "0 52\n",
            "1 52\n"
          ],
          "name": "stdout"
        },
        {
          "output_type": "stream",
          "text": [
            "Reading Channels: 100%|██████████| 64/64 [00:00<00:00, 839.15it/s]\n",
            "Reading Channels: 100%|██████████| 64/64 [00:00<00:00, 638.54it/s]"
          ],
          "name": "stderr"
        },
        {
          "output_type": "stream",
          "text": [
            "2 52\n"
          ],
          "name": "stdout"
        },
        {
          "output_type": "stream",
          "text": [
            "\n",
            "Reading Channels:   0%|          | 0/64 [00:00<?, ?it/s]"
          ],
          "name": "stderr"
        },
        {
          "output_type": "stream",
          "text": [
            "3 52\n"
          ],
          "name": "stdout"
        },
        {
          "output_type": "stream",
          "text": [
            "Reading Channels: 100%|██████████| 64/64 [00:00<00:00, 707.34it/s]\n",
            "Reading Channels: 100%|██████████| 64/64 [00:00<00:00, 752.80it/s]\n"
          ],
          "name": "stderr"
        },
        {
          "output_type": "stream",
          "text": [
            "4 52\n",
            "5 52\n"
          ],
          "name": "stdout"
        },
        {
          "output_type": "stream",
          "text": [
            "Reading Channels: 100%|██████████| 64/64 [00:00<00:00, 709.62it/s]\n",
            "Reading Channels: 100%|██████████| 64/64 [00:00<00:00, 783.51it/s]\n"
          ],
          "name": "stderr"
        },
        {
          "output_type": "stream",
          "text": [
            "6 52\n",
            "7 52\n"
          ],
          "name": "stdout"
        },
        {
          "output_type": "stream",
          "text": [
            "Reading Channels: 100%|██████████| 64/64 [00:00<00:00, 863.84it/s]\n",
            "Reading Channels: 100%|██████████| 64/64 [00:00<00:00, 882.94it/s]\n"
          ],
          "name": "stderr"
        },
        {
          "output_type": "stream",
          "text": [
            "8 52\n",
            "9 52\n"
          ],
          "name": "stdout"
        },
        {
          "output_type": "stream",
          "text": [
            "Reading Channels: 100%|██████████| 64/64 [00:00<00:00, 942.05it/s]\n",
            "Reading Channels: 100%|██████████| 64/64 [00:00<00:00, 899.88it/s]\n"
          ],
          "name": "stderr"
        },
        {
          "output_type": "stream",
          "text": [
            "10 52\n",
            "11 52\n"
          ],
          "name": "stdout"
        },
        {
          "output_type": "stream",
          "text": [
            "Reading Channels: 100%|██████████| 64/64 [00:00<00:00, 909.17it/s]\n",
            "Reading Channels: 100%|██████████| 64/64 [00:00<00:00, 907.28it/s]\n"
          ],
          "name": "stderr"
        },
        {
          "output_type": "stream",
          "text": [
            "12 52\n",
            "13 52\n"
          ],
          "name": "stdout"
        },
        {
          "output_type": "stream",
          "text": [
            "Reading Channels: 100%|██████████| 64/64 [00:00<00:00, 1365.94it/s]\n",
            "Reading Channels: 100%|██████████| 64/64 [00:00<00:00, 1795.05it/s]\n",
            "Reading Channels:   0%|          | 0/64 [00:00<?, ?it/s]"
          ],
          "name": "stderr"
        },
        {
          "output_type": "stream",
          "text": [
            "0 53\n",
            "1 53\n"
          ],
          "name": "stdout"
        },
        {
          "output_type": "stream",
          "text": [
            "Reading Channels: 100%|██████████| 64/64 [00:00<00:00, 756.27it/s]\n",
            "Reading Channels: 100%|██████████| 64/64 [00:00<00:00, 907.53it/s]\n"
          ],
          "name": "stderr"
        },
        {
          "output_type": "stream",
          "text": [
            "2 53\n",
            "3 53\n"
          ],
          "name": "stdout"
        },
        {
          "output_type": "stream",
          "text": [
            "Reading Channels: 100%|██████████| 64/64 [00:00<00:00, 709.55it/s]\n",
            "Reading Channels: 100%|██████████| 64/64 [00:00<00:00, 760.13it/s]\n"
          ],
          "name": "stderr"
        },
        {
          "output_type": "stream",
          "text": [
            "4 53\n",
            "5 53\n"
          ],
          "name": "stdout"
        },
        {
          "output_type": "stream",
          "text": [
            "Reading Channels: 100%|██████████| 64/64 [00:00<00:00, 724.11it/s]\n",
            "Reading Channels: 100%|██████████| 64/64 [00:00<00:00, 746.96it/s]\n"
          ],
          "name": "stderr"
        },
        {
          "output_type": "stream",
          "text": [
            "6 53\n",
            "7 53\n"
          ],
          "name": "stdout"
        },
        {
          "output_type": "stream",
          "text": [
            "Reading Channels: 100%|██████████| 64/64 [00:00<00:00, 773.46it/s]\n",
            "Reading Channels: 100%|██████████| 64/64 [00:00<00:00, 679.47it/s]\n"
          ],
          "name": "stderr"
        },
        {
          "output_type": "stream",
          "text": [
            "8 53\n",
            "9 53\n"
          ],
          "name": "stdout"
        },
        {
          "output_type": "stream",
          "text": [
            "Reading Channels: 100%|██████████| 64/64 [00:00<00:00, 782.56it/s]\n",
            "Reading Channels: 100%|██████████| 64/64 [00:00<00:00, 926.04it/s]\n"
          ],
          "name": "stderr"
        },
        {
          "output_type": "stream",
          "text": [
            "10 53\n",
            "11 53\n"
          ],
          "name": "stdout"
        },
        {
          "output_type": "stream",
          "text": [
            "Reading Channels: 100%|██████████| 64/64 [00:00<00:00, 904.34it/s]\n",
            "Reading Channels: 100%|██████████| 64/64 [00:00<00:00, 864.08it/s]\n"
          ],
          "name": "stderr"
        },
        {
          "output_type": "stream",
          "text": [
            "12 53\n",
            "13 53\n"
          ],
          "name": "stdout"
        },
        {
          "output_type": "stream",
          "text": [
            "Reading Channels: 100%|██████████| 64/64 [00:00<00:00, 1384.51it/s]\n",
            "Reading Channels: 100%|██████████| 64/64 [00:00<00:00, 1656.67it/s]\n",
            "Reading Channels:   0%|          | 0/64 [00:00<?, ?it/s]"
          ],
          "name": "stderr"
        },
        {
          "output_type": "stream",
          "text": [
            "0 54\n",
            "1 54\n"
          ],
          "name": "stdout"
        },
        {
          "output_type": "stream",
          "text": [
            "Reading Channels: 100%|██████████| 64/64 [00:00<00:00, 897.68it/s]\n",
            "Reading Channels: 100%|██████████| 64/64 [00:00<00:00, 720.97it/s]\n"
          ],
          "name": "stderr"
        },
        {
          "output_type": "stream",
          "text": [
            "2 54\n",
            "3 54\n"
          ],
          "name": "stdout"
        },
        {
          "output_type": "stream",
          "text": [
            "Reading Channels: 100%|██████████| 64/64 [00:00<00:00, 729.08it/s]\n",
            "Reading Channels: 100%|██████████| 64/64 [00:00<00:00, 760.97it/s]\n"
          ],
          "name": "stderr"
        },
        {
          "output_type": "stream",
          "text": [
            "4 54\n",
            "5 54\n"
          ],
          "name": "stdout"
        },
        {
          "output_type": "stream",
          "text": [
            "Reading Channels: 100%|██████████| 64/64 [00:00<00:00, 810.45it/s]\n",
            "Reading Channels: 100%|██████████| 64/64 [00:00<00:00, 755.36it/s]\n"
          ],
          "name": "stderr"
        },
        {
          "output_type": "stream",
          "text": [
            "6 54\n",
            "7 54\n"
          ],
          "name": "stdout"
        },
        {
          "output_type": "stream",
          "text": [
            "Reading Channels: 100%|██████████| 64/64 [00:00<00:00, 726.44it/s]\n",
            "Reading Channels: 100%|██████████| 64/64 [00:00<00:00, 825.27it/s]\n"
          ],
          "name": "stderr"
        },
        {
          "output_type": "stream",
          "text": [
            "8 54\n",
            "9 54\n"
          ],
          "name": "stdout"
        },
        {
          "output_type": "stream",
          "text": [
            "Reading Channels: 100%|██████████| 64/64 [00:00<00:00, 908.25it/s]\n",
            "Reading Channels: 100%|██████████| 64/64 [00:00<00:00, 899.11it/s]\n"
          ],
          "name": "stderr"
        },
        {
          "output_type": "stream",
          "text": [
            "10 54\n",
            "11 54\n"
          ],
          "name": "stdout"
        },
        {
          "output_type": "stream",
          "text": [
            "Reading Channels: 100%|██████████| 64/64 [00:00<00:00, 889.14it/s]\n",
            "Reading Channels: 100%|██████████| 64/64 [00:00<00:00, 896.87it/s]\n"
          ],
          "name": "stderr"
        },
        {
          "output_type": "stream",
          "text": [
            "12 54\n",
            "13 54\n"
          ],
          "name": "stdout"
        },
        {
          "output_type": "stream",
          "text": [
            "Reading Channels: 100%|██████████| 64/64 [00:00<00:00, 1529.36it/s]\n",
            "Reading Channels: 100%|██████████| 64/64 [00:00<00:00, 1153.43it/s]"
          ],
          "name": "stderr"
        },
        {
          "output_type": "stream",
          "text": [
            "0 55\n",
            "1 55\n"
          ],
          "name": "stdout"
        },
        {
          "output_type": "stream",
          "text": [
            "\n",
            "Reading Channels: 100%|██████████| 64/64 [00:00<00:00, 734.11it/s]\n",
            "Reading Channels: 100%|██████████| 64/64 [00:00<00:00, 756.25it/s]"
          ],
          "name": "stderr"
        },
        {
          "output_type": "stream",
          "text": [
            "2 55\n"
          ],
          "name": "stdout"
        },
        {
          "output_type": "stream",
          "text": [
            "\n",
            "Reading Channels: 100%|██████████| 64/64 [00:00<00:00, 725.29it/s]"
          ],
          "name": "stderr"
        },
        {
          "output_type": "stream",
          "text": [
            "3 55\n"
          ],
          "name": "stdout"
        },
        {
          "output_type": "stream",
          "text": [
            "\n",
            "Reading Channels: 100%|██████████| 64/64 [00:00<00:00, 765.58it/s]\n"
          ],
          "name": "stderr"
        },
        {
          "output_type": "stream",
          "text": [
            "4 55\n",
            "5 55\n"
          ],
          "name": "stdout"
        },
        {
          "output_type": "stream",
          "text": [
            "Reading Channels: 100%|██████████| 64/64 [00:00<00:00, 775.97it/s]\n",
            "Reading Channels: 100%|██████████| 64/64 [00:00<00:00, 786.95it/s]\n"
          ],
          "name": "stderr"
        },
        {
          "output_type": "stream",
          "text": [
            "6 55\n",
            "7 55\n"
          ],
          "name": "stdout"
        },
        {
          "output_type": "stream",
          "text": [
            "Reading Channels: 100%|██████████| 64/64 [00:00<00:00, 775.29it/s]\n",
            "Reading Channels: 100%|██████████| 64/64 [00:00<00:00, 736.64it/s]\n",
            "Reading Channels:   0%|          | 0/64 [00:00<?, ?it/s]"
          ],
          "name": "stderr"
        },
        {
          "output_type": "stream",
          "text": [
            "8 55\n",
            "9 55\n"
          ],
          "name": "stdout"
        },
        {
          "output_type": "stream",
          "text": [
            "Reading Channels: 100%|██████████| 64/64 [00:00<00:00, 881.10it/s]\n",
            "Reading Channels:   0%|          | 0/64 [00:00<?, ?it/s]"
          ],
          "name": "stderr"
        },
        {
          "output_type": "stream",
          "text": [
            "10 55\n"
          ],
          "name": "stdout"
        },
        {
          "output_type": "stream",
          "text": [
            "Reading Channels: 100%|██████████| 64/64 [00:00<00:00, 695.29it/s]\n",
            "Reading Channels: 100%|██████████| 64/64 [00:00<00:00, 648.85it/s]"
          ],
          "name": "stderr"
        },
        {
          "output_type": "stream",
          "text": [
            "11 55\n"
          ],
          "name": "stdout"
        },
        {
          "output_type": "stream",
          "text": [
            "\n",
            "Reading Channels: 100%|██████████| 64/64 [00:00<00:00, 762.74it/s]\n"
          ],
          "name": "stderr"
        },
        {
          "output_type": "stream",
          "text": [
            "12 55\n",
            "13 55\n"
          ],
          "name": "stdout"
        },
        {
          "output_type": "stream",
          "text": [
            "Reading Channels: 100%|██████████| 64/64 [00:00<00:00, 1614.60it/s]\n",
            "Reading Channels: 100%|██████████| 64/64 [00:00<00:00, 1733.64it/s]\n",
            "Reading Channels:   0%|          | 0/64 [00:00<?, ?it/s]"
          ],
          "name": "stderr"
        },
        {
          "output_type": "stream",
          "text": [
            "0 56\n",
            "1 56\n"
          ],
          "name": "stdout"
        },
        {
          "output_type": "stream",
          "text": [
            "Reading Channels: 100%|██████████| 64/64 [00:00<00:00, 877.95it/s]\n",
            "Reading Channels: 100%|██████████| 64/64 [00:00<00:00, 912.19it/s]\n"
          ],
          "name": "stderr"
        },
        {
          "output_type": "stream",
          "text": [
            "2 56\n",
            "3 56\n"
          ],
          "name": "stdout"
        },
        {
          "output_type": "stream",
          "text": [
            "Reading Channels: 100%|██████████| 64/64 [00:00<00:00, 910.88it/s]\n",
            "Reading Channels: 100%|██████████| 64/64 [00:00<00:00, 846.06it/s]\n"
          ],
          "name": "stderr"
        },
        {
          "output_type": "stream",
          "text": [
            "4 56\n",
            "5 56\n"
          ],
          "name": "stdout"
        },
        {
          "output_type": "stream",
          "text": [
            "Reading Channels: 100%|██████████| 64/64 [00:00<00:00, 878.33it/s]\n",
            "Reading Channels: 100%|██████████| 64/64 [00:00<00:00, 874.98it/s]\n"
          ],
          "name": "stderr"
        },
        {
          "output_type": "stream",
          "text": [
            "6 56\n",
            "7 56\n"
          ],
          "name": "stdout"
        },
        {
          "output_type": "stream",
          "text": [
            "Reading Channels: 100%|██████████| 64/64 [00:00<00:00, 881.83it/s]\n",
            "Reading Channels: 100%|██████████| 64/64 [00:00<00:00, 899.70it/s]\n"
          ],
          "name": "stderr"
        },
        {
          "output_type": "stream",
          "text": [
            "8 56\n",
            "9 56\n"
          ],
          "name": "stdout"
        },
        {
          "output_type": "stream",
          "text": [
            "Reading Channels: 100%|██████████| 64/64 [00:00<00:00, 869.48it/s]\n",
            "Reading Channels: 100%|██████████| 64/64 [00:00<00:00, 727.56it/s]\n"
          ],
          "name": "stderr"
        },
        {
          "output_type": "stream",
          "text": [
            "10 56\n",
            "11 56\n"
          ],
          "name": "stdout"
        },
        {
          "output_type": "stream",
          "text": [
            "Reading Channels: 100%|██████████| 64/64 [00:00<00:00, 705.73it/s]\n",
            "Reading Channels: 100%|██████████| 64/64 [00:00<00:00, 695.61it/s]\n"
          ],
          "name": "stderr"
        },
        {
          "output_type": "stream",
          "text": [
            "12 56\n",
            "13 56\n"
          ],
          "name": "stdout"
        },
        {
          "output_type": "stream",
          "text": [
            "Reading Channels: 100%|██████████| 64/64 [00:00<00:00, 1724.91it/s]\n",
            "Reading Channels: 100%|██████████| 64/64 [00:00<00:00, 1566.21it/s]\n",
            "Reading Channels:   0%|          | 0/64 [00:00<?, ?it/s]"
          ],
          "name": "stderr"
        },
        {
          "output_type": "stream",
          "text": [
            "0 57\n",
            "1 57\n"
          ],
          "name": "stdout"
        },
        {
          "output_type": "stream",
          "text": [
            "Reading Channels: 100%|██████████| 64/64 [00:00<00:00, 855.31it/s]\n",
            "Reading Channels: 100%|██████████| 64/64 [00:00<00:00, 908.79it/s]\n"
          ],
          "name": "stderr"
        },
        {
          "output_type": "stream",
          "text": [
            "2 57\n",
            "3 57\n"
          ],
          "name": "stdout"
        },
        {
          "output_type": "stream",
          "text": [
            "Reading Channels: 100%|██████████| 64/64 [00:00<00:00, 910.39it/s]\n",
            "Reading Channels: 100%|██████████| 64/64 [00:00<00:00, 933.61it/s]\n"
          ],
          "name": "stderr"
        },
        {
          "output_type": "stream",
          "text": [
            "4 57\n",
            "5 57\n"
          ],
          "name": "stdout"
        },
        {
          "output_type": "stream",
          "text": [
            "Reading Channels: 100%|██████████| 64/64 [00:00<00:00, 898.68it/s]\n",
            "Reading Channels: 100%|██████████| 64/64 [00:00<00:00, 926.45it/s]\n"
          ],
          "name": "stderr"
        },
        {
          "output_type": "stream",
          "text": [
            "6 57\n",
            "7 57\n"
          ],
          "name": "stdout"
        },
        {
          "output_type": "stream",
          "text": [
            "Reading Channels: 100%|██████████| 64/64 [00:00<00:00, 880.59it/s]\n",
            "Reading Channels: 100%|██████████| 64/64 [00:00<00:00, 928.06it/s]\n"
          ],
          "name": "stderr"
        },
        {
          "output_type": "stream",
          "text": [
            "8 57\n",
            "9 57\n"
          ],
          "name": "stdout"
        },
        {
          "output_type": "stream",
          "text": [
            "Reading Channels: 100%|██████████| 64/64 [00:00<00:00, 912.34it/s]\n",
            "Reading Channels: 100%|██████████| 64/64 [00:00<00:00, 926.59it/s]\n"
          ],
          "name": "stderr"
        },
        {
          "output_type": "stream",
          "text": [
            "10 57\n",
            "11 57\n"
          ],
          "name": "stdout"
        },
        {
          "output_type": "stream",
          "text": [
            "Reading Channels: 100%|██████████| 64/64 [00:00<00:00, 907.26it/s]\n",
            "Reading Channels: 100%|██████████| 64/64 [00:00<00:00, 913.53it/s]\n"
          ],
          "name": "stderr"
        },
        {
          "output_type": "stream",
          "text": [
            "12 57\n",
            "13 57\n"
          ],
          "name": "stdout"
        },
        {
          "output_type": "stream",
          "text": [
            "Reading Channels: 100%|██████████| 64/64 [00:00<00:00, 1433.17it/s]\n",
            "Reading Channels: 100%|██████████| 64/64 [00:00<00:00, 1734.82it/s]\n",
            "Reading Channels:   0%|          | 0/64 [00:00<?, ?it/s]"
          ],
          "name": "stderr"
        },
        {
          "output_type": "stream",
          "text": [
            "0 58\n",
            "1 58\n"
          ],
          "name": "stdout"
        },
        {
          "output_type": "stream",
          "text": [
            "Reading Channels: 100%|██████████| 64/64 [00:00<00:00, 884.64it/s]\n",
            "Reading Channels: 100%|██████████| 64/64 [00:00<00:00, 890.06it/s]\n"
          ],
          "name": "stderr"
        },
        {
          "output_type": "stream",
          "text": [
            "2 58\n",
            "3 58\n"
          ],
          "name": "stdout"
        },
        {
          "output_type": "stream",
          "text": [
            "Reading Channels: 100%|██████████| 64/64 [00:00<00:00, 920.90it/s]\n",
            "Reading Channels: 100%|██████████| 64/64 [00:00<00:00, 922.68it/s]"
          ],
          "name": "stderr"
        },
        {
          "output_type": "stream",
          "text": [
            "4 58\n",
            "5 58\n"
          ],
          "name": "stdout"
        },
        {
          "output_type": "stream",
          "text": [
            "\n",
            "Reading Channels: 100%|██████████| 64/64 [00:00<00:00, 921.85it/s]\n",
            "Reading Channels: 100%|██████████| 64/64 [00:00<00:00, 908.78it/s]\n"
          ],
          "name": "stderr"
        },
        {
          "output_type": "stream",
          "text": [
            "6 58\n",
            "7 58\n"
          ],
          "name": "stdout"
        },
        {
          "output_type": "stream",
          "text": [
            "Reading Channels: 100%|██████████| 64/64 [00:00<00:00, 900.05it/s]\n",
            "Reading Channels: 100%|██████████| 64/64 [00:00<00:00, 920.24it/s]\n"
          ],
          "name": "stderr"
        },
        {
          "output_type": "stream",
          "text": [
            "8 58\n",
            "9 58\n"
          ],
          "name": "stdout"
        },
        {
          "output_type": "stream",
          "text": [
            "Reading Channels: 100%|██████████| 64/64 [00:00<00:00, 859.68it/s]\n",
            "Reading Channels: 100%|██████████| 64/64 [00:00<00:00, 920.16it/s]\n"
          ],
          "name": "stderr"
        },
        {
          "output_type": "stream",
          "text": [
            "10 58\n",
            "11 58\n"
          ],
          "name": "stdout"
        },
        {
          "output_type": "stream",
          "text": [
            "Reading Channels: 100%|██████████| 64/64 [00:00<00:00, 883.51it/s]\n",
            "Reading Channels: 100%|██████████| 64/64 [00:00<00:00, 912.13it/s]\n"
          ],
          "name": "stderr"
        },
        {
          "output_type": "stream",
          "text": [
            "12 58\n",
            "13 58\n"
          ],
          "name": "stdout"
        },
        {
          "output_type": "stream",
          "text": [
            "Reading Channels: 100%|██████████| 64/64 [00:00<00:00, 1291.59it/s]\n",
            "Reading Channels: 100%|██████████| 64/64 [00:00<00:00, 1129.29it/s]\n"
          ],
          "name": "stderr"
        },
        {
          "output_type": "stream",
          "text": [
            "0 59\n",
            "1 59\n"
          ],
          "name": "stdout"
        },
        {
          "output_type": "stream",
          "text": [
            "Reading Channels: 100%|██████████| 64/64 [00:00<00:00, 699.46it/s]\n",
            "Reading Channels: 100%|██████████| 64/64 [00:00<00:00, 733.14it/s]"
          ],
          "name": "stderr"
        },
        {
          "output_type": "stream",
          "text": [
            "2 59\n",
            "3 59\n"
          ],
          "name": "stdout"
        },
        {
          "output_type": "stream",
          "text": [
            "\n",
            "Reading Channels: 100%|██████████| 64/64 [00:00<00:00, 554.32it/s]\n",
            "Reading Channels:   0%|          | 0/64 [00:00<?, ?it/s]"
          ],
          "name": "stderr"
        },
        {
          "output_type": "stream",
          "text": [
            "4 59\n"
          ],
          "name": "stdout"
        },
        {
          "output_type": "stream",
          "text": [
            "Reading Channels: 100%|██████████| 64/64 [00:00<00:00, 548.11it/s]\n",
            "Reading Channels:   0%|          | 0/64 [00:00<?, ?it/s]"
          ],
          "name": "stderr"
        },
        {
          "output_type": "stream",
          "text": [
            "5 59\n"
          ],
          "name": "stdout"
        },
        {
          "output_type": "stream",
          "text": [
            "Reading Channels: 100%|██████████| 64/64 [00:00<00:00, 588.14it/s]\n",
            "Reading Channels:   0%|          | 0/64 [00:00<?, ?it/s]"
          ],
          "name": "stderr"
        },
        {
          "output_type": "stream",
          "text": [
            "6 59\n"
          ],
          "name": "stdout"
        },
        {
          "output_type": "stream",
          "text": [
            "Reading Channels: 100%|██████████| 64/64 [00:00<00:00, 596.02it/s]\n",
            "Reading Channels: 100%|██████████| 64/64 [00:00<00:00, 691.77it/s]"
          ],
          "name": "stderr"
        },
        {
          "output_type": "stream",
          "text": [
            "7 59\n"
          ],
          "name": "stdout"
        },
        {
          "output_type": "stream",
          "text": [
            "\n",
            "Reading Channels: 100%|██████████| 64/64 [00:00<00:00, 871.51it/s]\n"
          ],
          "name": "stderr"
        },
        {
          "output_type": "stream",
          "text": [
            "8 59\n",
            "9 59\n"
          ],
          "name": "stdout"
        },
        {
          "output_type": "stream",
          "text": [
            "Reading Channels: 100%|██████████| 64/64 [00:00<00:00, 881.34it/s]\n",
            "Reading Channels: 100%|██████████| 64/64 [00:00<00:00, 914.20it/s]\n"
          ],
          "name": "stderr"
        },
        {
          "output_type": "stream",
          "text": [
            "10 59\n",
            "11 59\n"
          ],
          "name": "stdout"
        },
        {
          "output_type": "stream",
          "text": [
            "Reading Channels: 100%|██████████| 64/64 [00:00<00:00, 912.63it/s]\n",
            "Reading Channels: 100%|██████████| 64/64 [00:00<00:00, 824.89it/s]\n"
          ],
          "name": "stderr"
        },
        {
          "output_type": "stream",
          "text": [
            "12 59\n",
            "13 59\n"
          ],
          "name": "stdout"
        },
        {
          "output_type": "stream",
          "text": [
            "Reading Channels: 100%|██████████| 64/64 [00:00<00:00, 1431.59it/s]\n",
            "Reading Channels: 100%|██████████| 64/64 [00:00<00:00, 1743.82it/s]\n",
            "Reading Channels:   0%|          | 0/64 [00:00<?, ?it/s]"
          ],
          "name": "stderr"
        },
        {
          "output_type": "stream",
          "text": [
            "0 60\n",
            "1 60\n"
          ],
          "name": "stdout"
        },
        {
          "output_type": "stream",
          "text": [
            "Reading Channels: 100%|██████████| 64/64 [00:00<00:00, 667.63it/s]\n",
            "Reading Channels: 100%|██████████| 64/64 [00:00<00:00, 733.54it/s]"
          ],
          "name": "stderr"
        },
        {
          "output_type": "stream",
          "text": [
            "2 60\n"
          ],
          "name": "stdout"
        },
        {
          "output_type": "stream",
          "text": [
            "\n",
            "Reading Channels: 100%|██████████| 64/64 [00:00<00:00, 702.69it/s]"
          ],
          "name": "stderr"
        },
        {
          "output_type": "stream",
          "text": [
            "3 60\n",
            "4 60\n"
          ],
          "name": "stdout"
        },
        {
          "output_type": "stream",
          "text": [
            "\n",
            "Reading Channels: 100%|██████████| 64/64 [00:00<00:00, 699.41it/s]\n",
            "Reading Channels: 100%|██████████| 64/64 [00:00<00:00, 816.26it/s]\n",
            "Reading Channels:   0%|          | 0/64 [00:00<?, ?it/s]"
          ],
          "name": "stderr"
        },
        {
          "output_type": "stream",
          "text": [
            "5 60\n",
            "6 60\n"
          ],
          "name": "stdout"
        },
        {
          "output_type": "stream",
          "text": [
            "Reading Channels: 100%|██████████| 64/64 [00:00<00:00, 711.33it/s]\n",
            "Reading Channels: 100%|██████████| 64/64 [00:00<00:00, 814.32it/s]\n"
          ],
          "name": "stderr"
        },
        {
          "output_type": "stream",
          "text": [
            "7 60\n",
            "8 60\n"
          ],
          "name": "stdout"
        },
        {
          "output_type": "stream",
          "text": [
            "Reading Channels: 100%|██████████| 64/64 [00:00<00:00, 813.18it/s]\n",
            "Reading Channels: 100%|██████████| 64/64 [00:00<00:00, 892.68it/s]\n"
          ],
          "name": "stderr"
        },
        {
          "output_type": "stream",
          "text": [
            "9 60\n",
            "10 60\n"
          ],
          "name": "stdout"
        },
        {
          "output_type": "stream",
          "text": [
            "Reading Channels: 100%|██████████| 64/64 [00:00<00:00, 890.05it/s]\n",
            "Reading Channels: 100%|██████████| 64/64 [00:00<00:00, 882.01it/s]\n"
          ],
          "name": "stderr"
        },
        {
          "output_type": "stream",
          "text": [
            "11 60\n",
            "12 60\n"
          ],
          "name": "stdout"
        },
        {
          "output_type": "stream",
          "text": [
            "Reading Channels: 100%|██████████| 64/64 [00:00<00:00, 865.42it/s]\n"
          ],
          "name": "stderr"
        },
        {
          "output_type": "stream",
          "text": [
            "13 60\n"
          ],
          "name": "stdout"
        },
        {
          "output_type": "stream",
          "text": [
            "Reading Channels: 100%|██████████| 64/64 [00:00<00:00, 1634.60it/s]\n",
            "Reading Channels: 100%|██████████| 64/64 [00:00<00:00, 1724.48it/s]\n",
            "Reading Channels:   0%|          | 0/64 [00:00<?, ?it/s]"
          ],
          "name": "stderr"
        },
        {
          "output_type": "stream",
          "text": [
            "0 61\n",
            "1 61\n"
          ],
          "name": "stdout"
        },
        {
          "output_type": "stream",
          "text": [
            "Reading Channels: 100%|██████████| 64/64 [00:00<00:00, 885.13it/s]\n",
            "Reading Channels: 100%|██████████| 64/64 [00:00<00:00, 847.26it/s]\n"
          ],
          "name": "stderr"
        },
        {
          "output_type": "stream",
          "text": [
            "2 61\n",
            "3 61\n"
          ],
          "name": "stdout"
        },
        {
          "output_type": "stream",
          "text": [
            "Reading Channels: 100%|██████████| 64/64 [00:00<00:00, 642.35it/s]\n",
            "Reading Channels: 100%|██████████| 64/64 [00:00<00:00, 673.87it/s]"
          ],
          "name": "stderr"
        },
        {
          "output_type": "stream",
          "text": [
            "4 61\n",
            "5 61\n"
          ],
          "name": "stdout"
        },
        {
          "output_type": "stream",
          "text": [
            "\n",
            "Reading Channels: 100%|██████████| 64/64 [00:00<00:00, 758.79it/s]\n",
            "Reading Channels: 100%|██████████| 64/64 [00:00<00:00, 747.14it/s]\n"
          ],
          "name": "stderr"
        },
        {
          "output_type": "stream",
          "text": [
            "6 61\n",
            "7 61\n"
          ],
          "name": "stdout"
        },
        {
          "output_type": "stream",
          "text": [
            "Reading Channels: 100%|██████████| 64/64 [00:00<00:00, 772.35it/s]\n",
            "Reading Channels: 100%|██████████| 64/64 [00:00<00:00, 675.95it/s]\n"
          ],
          "name": "stderr"
        },
        {
          "output_type": "stream",
          "text": [
            "8 61\n",
            "9 61\n"
          ],
          "name": "stdout"
        },
        {
          "output_type": "stream",
          "text": [
            "Reading Channels: 100%|██████████| 64/64 [00:00<00:00, 888.51it/s]\n",
            "Reading Channels: 100%|██████████| 64/64 [00:00<00:00, 924.54it/s]\n"
          ],
          "name": "stderr"
        },
        {
          "output_type": "stream",
          "text": [
            "10 61\n",
            "11 61\n"
          ],
          "name": "stdout"
        },
        {
          "output_type": "stream",
          "text": [
            "Reading Channels: 100%|██████████| 64/64 [00:00<00:00, 898.55it/s]\n",
            "Reading Channels: 100%|██████████| 64/64 [00:00<00:00, 911.99it/s]\n"
          ],
          "name": "stderr"
        },
        {
          "output_type": "stream",
          "text": [
            "12 61\n",
            "13 61\n"
          ],
          "name": "stdout"
        },
        {
          "output_type": "stream",
          "text": [
            "Reading Channels: 100%|██████████| 64/64 [00:00<00:00, 1580.92it/s]\n",
            "Reading Channels: 100%|██████████| 64/64 [00:00<00:00, 1746.01it/s]\n",
            "Reading Channels:   0%|          | 0/64 [00:00<?, ?it/s]"
          ],
          "name": "stderr"
        },
        {
          "output_type": "stream",
          "text": [
            "0 62\n",
            "1 62\n"
          ],
          "name": "stdout"
        },
        {
          "output_type": "stream",
          "text": [
            "Reading Channels: 100%|██████████| 64/64 [00:00<00:00, 848.59it/s]\n",
            "Reading Channels: 100%|██████████| 64/64 [00:00<00:00, 913.37it/s]\n"
          ],
          "name": "stderr"
        },
        {
          "output_type": "stream",
          "text": [
            "2 62\n",
            "3 62\n"
          ],
          "name": "stdout"
        },
        {
          "output_type": "stream",
          "text": [
            "Reading Channels: 100%|██████████| 64/64 [00:00<00:00, 684.52it/s]\n",
            "Reading Channels: 100%|██████████| 64/64 [00:00<00:00, 780.49it/s]\n"
          ],
          "name": "stderr"
        },
        {
          "output_type": "stream",
          "text": [
            "4 62\n",
            "5 62\n"
          ],
          "name": "stdout"
        },
        {
          "output_type": "stream",
          "text": [
            "Reading Channels: 100%|██████████| 64/64 [00:00<00:00, 796.02it/s]\n",
            "Reading Channels: 100%|██████████| 64/64 [00:00<00:00, 769.31it/s]\n"
          ],
          "name": "stderr"
        },
        {
          "output_type": "stream",
          "text": [
            "6 62\n",
            "7 62\n"
          ],
          "name": "stdout"
        },
        {
          "output_type": "stream",
          "text": [
            "Reading Channels: 100%|██████████| 64/64 [00:00<00:00, 738.12it/s]\n",
            "Reading Channels: 100%|██████████| 64/64 [00:00<00:00, 804.98it/s]\n"
          ],
          "name": "stderr"
        },
        {
          "output_type": "stream",
          "text": [
            "8 62\n",
            "9 62\n"
          ],
          "name": "stdout"
        },
        {
          "output_type": "stream",
          "text": [
            "Reading Channels: 100%|██████████| 64/64 [00:00<00:00, 766.35it/s]\n",
            "Reading Channels: 100%|██████████| 64/64 [00:00<00:00, 776.04it/s]\n"
          ],
          "name": "stderr"
        },
        {
          "output_type": "stream",
          "text": [
            "10 62\n",
            "11 62\n"
          ],
          "name": "stdout"
        },
        {
          "output_type": "stream",
          "text": [
            "Reading Channels: 100%|██████████| 64/64 [00:00<00:00, 897.71it/s]\n",
            "Reading Channels: 100%|██████████| 64/64 [00:00<00:00, 898.72it/s]\n"
          ],
          "name": "stderr"
        },
        {
          "output_type": "stream",
          "text": [
            "12 62\n",
            "13 62\n"
          ],
          "name": "stdout"
        },
        {
          "output_type": "stream",
          "text": [
            "Reading Channels: 100%|██████████| 64/64 [00:00<00:00, 1729.55it/s]\n",
            "Reading Channels: 100%|██████████| 64/64 [00:00<00:00, 1704.44it/s]\n",
            "Reading Channels:   0%|          | 0/64 [00:00<?, ?it/s]"
          ],
          "name": "stderr"
        },
        {
          "output_type": "stream",
          "text": [
            "0 63\n",
            "1 63\n"
          ],
          "name": "stdout"
        },
        {
          "output_type": "stream",
          "text": [
            "Reading Channels: 100%|██████████| 64/64 [00:00<00:00, 894.59it/s]\n",
            "Reading Channels: 100%|██████████| 64/64 [00:00<00:00, 797.59it/s]\n"
          ],
          "name": "stderr"
        },
        {
          "output_type": "stream",
          "text": [
            "2 63\n",
            "3 63\n"
          ],
          "name": "stdout"
        },
        {
          "output_type": "stream",
          "text": [
            "Reading Channels: 100%|██████████| 64/64 [00:00<00:00, 927.84it/s]\n",
            "Reading Channels: 100%|██████████| 64/64 [00:00<00:00, 918.14it/s]\n"
          ],
          "name": "stderr"
        },
        {
          "output_type": "stream",
          "text": [
            "4 63\n",
            "5 63\n"
          ],
          "name": "stdout"
        },
        {
          "output_type": "stream",
          "text": [
            "Reading Channels: 100%|██████████| 64/64 [00:00<00:00, 762.69it/s]\n",
            "Reading Channels:   0%|          | 0/64 [00:00<?, ?it/s]"
          ],
          "name": "stderr"
        },
        {
          "output_type": "stream",
          "text": [
            "6 63\n"
          ],
          "name": "stdout"
        },
        {
          "output_type": "stream",
          "text": [
            "Reading Channels: 100%|██████████| 64/64 [00:00<00:00, 659.00it/s]\n",
            "Reading Channels: 100%|██████████| 64/64 [00:00<00:00, 813.83it/s]\n"
          ],
          "name": "stderr"
        },
        {
          "output_type": "stream",
          "text": [
            "7 63\n",
            "8 63\n"
          ],
          "name": "stdout"
        },
        {
          "output_type": "stream",
          "text": [
            "Reading Channels: 100%|██████████| 64/64 [00:00<00:00, 769.92it/s]\n",
            "Reading Channels:   0%|          | 0/64 [00:00<?, ?it/s]"
          ],
          "name": "stderr"
        },
        {
          "output_type": "stream",
          "text": [
            "9 63\n"
          ],
          "name": "stdout"
        },
        {
          "output_type": "stream",
          "text": [
            "Reading Channels: 100%|██████████| 64/64 [00:00<00:00, 686.76it/s]\n",
            "Reading Channels: 100%|██████████| 64/64 [00:00<00:00, 641.37it/s]"
          ],
          "name": "stderr"
        },
        {
          "output_type": "stream",
          "text": [
            "10 63\n",
            "11 63\n"
          ],
          "name": "stdout"
        },
        {
          "output_type": "stream",
          "text": [
            "\n",
            "Reading Channels: 100%|██████████| 64/64 [00:00<00:00, 700.13it/s]\n",
            "Reading Channels: 100%|██████████| 64/64 [00:00<00:00, 784.22it/s]\n"
          ],
          "name": "stderr"
        },
        {
          "output_type": "stream",
          "text": [
            "12 63\n",
            "13 63\n"
          ],
          "name": "stdout"
        },
        {
          "output_type": "stream",
          "text": [
            "Reading Channels: 100%|██████████| 64/64 [00:00<00:00, 1428.88it/s]\n",
            "Reading Channels: 100%|██████████| 64/64 [00:00<00:00, 1493.33it/s]\n",
            "Reading Channels:   0%|          | 0/64 [00:00<?, ?it/s]"
          ],
          "name": "stderr"
        },
        {
          "output_type": "stream",
          "text": [
            "0 64\n",
            "1 64\n"
          ],
          "name": "stdout"
        },
        {
          "output_type": "stream",
          "text": [
            "Reading Channels: 100%|██████████| 64/64 [00:00<00:00, 891.84it/s]\n",
            "Reading Channels: 100%|██████████| 64/64 [00:00<00:00, 883.37it/s]\n"
          ],
          "name": "stderr"
        },
        {
          "output_type": "stream",
          "text": [
            "2 64\n",
            "3 64\n"
          ],
          "name": "stdout"
        },
        {
          "output_type": "stream",
          "text": [
            "Reading Channels: 100%|██████████| 64/64 [00:00<00:00, 829.97it/s]\n",
            "Reading Channels: 100%|██████████| 64/64 [00:00<00:00, 898.35it/s]\n"
          ],
          "name": "stderr"
        },
        {
          "output_type": "stream",
          "text": [
            "4 64\n",
            "5 64\n"
          ],
          "name": "stdout"
        },
        {
          "output_type": "stream",
          "text": [
            "Reading Channels: 100%|██████████| 64/64 [00:00<00:00, 882.60it/s]\n",
            "Reading Channels: 100%|██████████| 64/64 [00:00<00:00, 912.03it/s]\n"
          ],
          "name": "stderr"
        },
        {
          "output_type": "stream",
          "text": [
            "6 64\n",
            "7 64\n"
          ],
          "name": "stdout"
        },
        {
          "output_type": "stream",
          "text": [
            "Reading Channels: 100%|██████████| 64/64 [00:00<00:00, 890.38it/s]\n",
            "Reading Channels: 100%|██████████| 64/64 [00:00<00:00, 861.76it/s]\n"
          ],
          "name": "stderr"
        },
        {
          "output_type": "stream",
          "text": [
            "8 64\n",
            "9 64\n"
          ],
          "name": "stdout"
        },
        {
          "output_type": "stream",
          "text": [
            "Reading Channels: 100%|██████████| 64/64 [00:00<00:00, 774.32it/s]\n",
            "Reading Channels: 100%|██████████| 64/64 [00:00<00:00, 853.76it/s]"
          ],
          "name": "stderr"
        },
        {
          "output_type": "stream",
          "text": [
            "10 64\n",
            "11 64\n"
          ],
          "name": "stdout"
        },
        {
          "output_type": "stream",
          "text": [
            "\n",
            "Reading Channels: 100%|██████████| 64/64 [00:00<00:00, 869.31it/s]\n",
            "Reading Channels: 100%|██████████| 64/64 [00:00<00:00, 771.71it/s]\n"
          ],
          "name": "stderr"
        },
        {
          "output_type": "stream",
          "text": [
            "12 64\n",
            "13 64\n"
          ],
          "name": "stdout"
        },
        {
          "output_type": "stream",
          "text": [
            "Reading Channels: 100%|██████████| 64/64 [00:00<00:00, 1302.16it/s]\n",
            "Reading Channels: 100%|██████████| 64/64 [00:00<00:00, 1353.05it/s]\n",
            "Reading Channels:   0%|          | 0/64 [00:00<?, ?it/s]"
          ],
          "name": "stderr"
        },
        {
          "output_type": "stream",
          "text": [
            "0 65\n",
            "1 65\n"
          ],
          "name": "stdout"
        },
        {
          "output_type": "stream",
          "text": [
            "Reading Channels: 100%|██████████| 64/64 [00:00<00:00, 771.01it/s]\n",
            "Reading Channels: 100%|██████████| 64/64 [00:00<00:00, 875.33it/s]\n"
          ],
          "name": "stderr"
        },
        {
          "output_type": "stream",
          "text": [
            "2 65\n",
            "3 65\n"
          ],
          "name": "stdout"
        },
        {
          "output_type": "stream",
          "text": [
            "Reading Channels: 100%|██████████| 64/64 [00:00<00:00, 866.85it/s]\n",
            "Reading Channels: 100%|██████████| 64/64 [00:00<00:00, 915.34it/s]\n"
          ],
          "name": "stderr"
        },
        {
          "output_type": "stream",
          "text": [
            "4 65\n",
            "5 65\n"
          ],
          "name": "stdout"
        },
        {
          "output_type": "stream",
          "text": [
            "Reading Channels: 100%|██████████| 64/64 [00:00<00:00, 909.90it/s]\n",
            "Reading Channels: 100%|██████████| 64/64 [00:00<00:00, 865.52it/s]\n"
          ],
          "name": "stderr"
        },
        {
          "output_type": "stream",
          "text": [
            "6 65\n",
            "7 65\n"
          ],
          "name": "stdout"
        },
        {
          "output_type": "stream",
          "text": [
            "Reading Channels: 100%|██████████| 64/64 [00:00<00:00, 891.68it/s]\n",
            "Reading Channels: 100%|██████████| 64/64 [00:00<00:00, 908.43it/s]\n"
          ],
          "name": "stderr"
        },
        {
          "output_type": "stream",
          "text": [
            "8 65\n",
            "9 65\n"
          ],
          "name": "stdout"
        },
        {
          "output_type": "stream",
          "text": [
            "Reading Channels: 100%|██████████| 64/64 [00:00<00:00, 907.66it/s]\n",
            "Reading Channels: 100%|██████████| 64/64 [00:00<00:00, 882.62it/s]\n"
          ],
          "name": "stderr"
        },
        {
          "output_type": "stream",
          "text": [
            "10 65\n",
            "11 65\n"
          ],
          "name": "stdout"
        },
        {
          "output_type": "stream",
          "text": [
            "Reading Channels: 100%|██████████| 64/64 [00:00<00:00, 857.39it/s]\n",
            "Reading Channels: 100%|██████████| 64/64 [00:00<00:00, 859.39it/s]\n"
          ],
          "name": "stderr"
        },
        {
          "output_type": "stream",
          "text": [
            "12 65\n",
            "13 65\n"
          ],
          "name": "stdout"
        },
        {
          "output_type": "stream",
          "text": [
            "Reading Channels: 100%|██████████| 64/64 [00:00<00:00, 1532.31it/s]\n",
            "Reading Channels: 100%|██████████| 64/64 [00:00<00:00, 1770.04it/s]\n",
            "Reading Channels:   0%|          | 0/64 [00:00<?, ?it/s]"
          ],
          "name": "stderr"
        },
        {
          "output_type": "stream",
          "text": [
            "0 66\n",
            "1 66\n"
          ],
          "name": "stdout"
        },
        {
          "output_type": "stream",
          "text": [
            "Reading Channels: 100%|██████████| 64/64 [00:00<00:00, 898.10it/s]\n",
            "Reading Channels: 100%|██████████| 64/64 [00:00<00:00, 924.18it/s]\n"
          ],
          "name": "stderr"
        },
        {
          "output_type": "stream",
          "text": [
            "2 66\n",
            "3 66\n"
          ],
          "name": "stdout"
        },
        {
          "output_type": "stream",
          "text": [
            "Reading Channels: 100%|██████████| 64/64 [00:00<00:00, 870.25it/s]\n",
            "Reading Channels: 100%|██████████| 64/64 [00:00<00:00, 887.08it/s]\n",
            "Reading Channels:   0%|          | 0/64 [00:00<?, ?it/s]"
          ],
          "name": "stderr"
        },
        {
          "output_type": "stream",
          "text": [
            "4 66\n",
            "5 66\n"
          ],
          "name": "stdout"
        },
        {
          "output_type": "stream",
          "text": [
            "Reading Channels: 100%|██████████| 64/64 [00:00<00:00, 893.18it/s]\n",
            "Reading Channels: 100%|██████████| 64/64 [00:00<00:00, 893.02it/s]\n"
          ],
          "name": "stderr"
        },
        {
          "output_type": "stream",
          "text": [
            "6 66\n",
            "7 66\n"
          ],
          "name": "stdout"
        },
        {
          "output_type": "stream",
          "text": [
            "Reading Channels: 100%|██████████| 64/64 [00:00<00:00, 910.41it/s]\n",
            "Reading Channels: 100%|██████████| 64/64 [00:00<00:00, 900.34it/s]\n"
          ],
          "name": "stderr"
        },
        {
          "output_type": "stream",
          "text": [
            "8 66\n",
            "9 66\n"
          ],
          "name": "stdout"
        },
        {
          "output_type": "stream",
          "text": [
            "Reading Channels: 100%|██████████| 64/64 [00:00<00:00, 918.63it/s]\n",
            "Reading Channels: 100%|██████████| 64/64 [00:00<00:00, 938.41it/s]\n"
          ],
          "name": "stderr"
        },
        {
          "output_type": "stream",
          "text": [
            "10 66\n",
            "11 66\n"
          ],
          "name": "stdout"
        },
        {
          "output_type": "stream",
          "text": [
            "Reading Channels: 100%|██████████| 64/64 [00:00<00:00, 918.19it/s]\n",
            "Reading Channels: 100%|██████████| 64/64 [00:00<00:00, 867.58it/s]\n"
          ],
          "name": "stderr"
        },
        {
          "output_type": "stream",
          "text": [
            "12 66\n",
            "13 66\n"
          ],
          "name": "stdout"
        },
        {
          "output_type": "stream",
          "text": [
            "Reading Channels: 100%|██████████| 64/64 [00:00<00:00, 1072.27it/s]\n",
            "Reading Channels: 100%|██████████| 64/64 [00:00<00:00, 1064.09it/s]\n"
          ],
          "name": "stderr"
        },
        {
          "output_type": "stream",
          "text": [
            "0 67\n",
            "1 67\n"
          ],
          "name": "stdout"
        },
        {
          "output_type": "stream",
          "text": [
            "Reading Channels: 100%|██████████| 64/64 [00:00<00:00, 654.96it/s]\n",
            "Reading Channels:   0%|          | 0/64 [00:00<?, ?it/s]"
          ],
          "name": "stderr"
        },
        {
          "output_type": "stream",
          "text": [
            "2 67\n"
          ],
          "name": "stdout"
        },
        {
          "output_type": "stream",
          "text": [
            "Reading Channels: 100%|██████████| 64/64 [00:00<00:00, 554.64it/s]\n",
            "Reading Channels:   0%|          | 0/64 [00:00<?, ?it/s]"
          ],
          "name": "stderr"
        },
        {
          "output_type": "stream",
          "text": [
            "3 67\n"
          ],
          "name": "stdout"
        },
        {
          "output_type": "stream",
          "text": [
            "Reading Channels: 100%|██████████| 64/64 [00:00<00:00, 707.40it/s]\n",
            "Reading Channels: 100%|██████████| 64/64 [00:00<00:00, 734.44it/s]\n"
          ],
          "name": "stderr"
        },
        {
          "output_type": "stream",
          "text": [
            "4 67\n",
            "5 67\n"
          ],
          "name": "stdout"
        },
        {
          "output_type": "stream",
          "text": [
            "Reading Channels: 100%|██████████| 64/64 [00:00<00:00, 627.69it/s]\n",
            "Reading Channels:   0%|          | 0/64 [00:00<?, ?it/s]"
          ],
          "name": "stderr"
        },
        {
          "output_type": "stream",
          "text": [
            "6 67\n"
          ],
          "name": "stdout"
        },
        {
          "output_type": "stream",
          "text": [
            "Reading Channels: 100%|██████████| 64/64 [00:00<00:00, 597.01it/s]\n",
            "Reading Channels: 100%|██████████| 64/64 [00:00<00:00, 735.75it/s]\n"
          ],
          "name": "stderr"
        },
        {
          "output_type": "stream",
          "text": [
            "7 67\n",
            "8 67\n"
          ],
          "name": "stdout"
        },
        {
          "output_type": "stream",
          "text": [
            "Reading Channels: 100%|██████████| 64/64 [00:00<00:00, 711.74it/s]\n",
            "Reading Channels: 100%|██████████| 64/64 [00:00<00:00, 796.50it/s]\n"
          ],
          "name": "stderr"
        },
        {
          "output_type": "stream",
          "text": [
            "9 67\n",
            "10 67\n"
          ],
          "name": "stdout"
        },
        {
          "output_type": "stream",
          "text": [
            "Reading Channels: 100%|██████████| 64/64 [00:00<00:00, 876.04it/s]\n",
            "Reading Channels: 100%|██████████| 64/64 [00:00<00:00, 927.26it/s]\n"
          ],
          "name": "stderr"
        },
        {
          "output_type": "stream",
          "text": [
            "11 67\n",
            "12 67\n"
          ],
          "name": "stdout"
        },
        {
          "output_type": "stream",
          "text": [
            "Reading Channels: 100%|██████████| 64/64 [00:00<00:00, 904.76it/s]\n"
          ],
          "name": "stderr"
        },
        {
          "output_type": "stream",
          "text": [
            "13 67\n"
          ],
          "name": "stdout"
        },
        {
          "output_type": "stream",
          "text": [
            "Reading Channels: 100%|██████████| 64/64 [00:00<00:00, 1189.67it/s]\n",
            "Reading Channels: 100%|██████████| 64/64 [00:00<00:00, 1305.97it/s]\n"
          ],
          "name": "stderr"
        },
        {
          "output_type": "stream",
          "text": [
            "0 68\n",
            "1 68\n"
          ],
          "name": "stdout"
        },
        {
          "output_type": "stream",
          "text": [
            "Reading Channels: 100%|██████████| 64/64 [00:00<00:00, 815.86it/s]\n",
            "Reading Channels: 100%|██████████| 64/64 [00:00<00:00, 794.36it/s]\n"
          ],
          "name": "stderr"
        },
        {
          "output_type": "stream",
          "text": [
            "2 68\n",
            "3 68\n"
          ],
          "name": "stdout"
        },
        {
          "output_type": "stream",
          "text": [
            "Reading Channels: 100%|██████████| 64/64 [00:00<00:00, 768.98it/s]\n",
            "Reading Channels: 100%|██████████| 64/64 [00:00<00:00, 706.04it/s]"
          ],
          "name": "stderr"
        },
        {
          "output_type": "stream",
          "text": [
            "4 68\n"
          ],
          "name": "stdout"
        },
        {
          "output_type": "stream",
          "text": [
            "\n",
            "Reading Channels: 100%|██████████| 64/64 [00:00<00:00, 845.93it/s]\n"
          ],
          "name": "stderr"
        },
        {
          "output_type": "stream",
          "text": [
            "5 68\n",
            "6 68\n"
          ],
          "name": "stdout"
        },
        {
          "output_type": "stream",
          "text": [
            "Reading Channels: 100%|██████████| 64/64 [00:00<00:00, 920.44it/s]\n",
            "Reading Channels: 100%|██████████| 64/64 [00:00<00:00, 881.66it/s]\n"
          ],
          "name": "stderr"
        },
        {
          "output_type": "stream",
          "text": [
            "7 68\n",
            "8 68\n"
          ],
          "name": "stdout"
        },
        {
          "output_type": "stream",
          "text": [
            "Reading Channels: 100%|██████████| 64/64 [00:00<00:00, 898.61it/s]\n",
            "Reading Channels: 100%|██████████| 64/64 [00:00<00:00, 906.99it/s]\n"
          ],
          "name": "stderr"
        },
        {
          "output_type": "stream",
          "text": [
            "9 68\n",
            "10 68\n"
          ],
          "name": "stdout"
        },
        {
          "output_type": "stream",
          "text": [
            "Reading Channels: 100%|██████████| 64/64 [00:00<00:00, 833.50it/s]\n",
            "Reading Channels: 100%|██████████| 64/64 [00:00<00:00, 921.40it/s]\n"
          ],
          "name": "stderr"
        },
        {
          "output_type": "stream",
          "text": [
            "11 68\n",
            "12 68\n"
          ],
          "name": "stdout"
        },
        {
          "output_type": "stream",
          "text": [
            "Reading Channels: 100%|██████████| 64/64 [00:00<00:00, 922.63it/s]\n"
          ],
          "name": "stderr"
        },
        {
          "output_type": "stream",
          "text": [
            "13 68\n"
          ],
          "name": "stdout"
        },
        {
          "output_type": "stream",
          "text": [
            "Reading Channels: 100%|██████████| 64/64 [00:00<00:00, 1694.65it/s]\n",
            "Reading Channels: 100%|██████████| 64/64 [00:00<00:00, 1668.38it/s]\n"
          ],
          "name": "stderr"
        },
        {
          "output_type": "stream",
          "text": [
            "0 69\n",
            "1 69\n"
          ],
          "name": "stdout"
        },
        {
          "output_type": "stream",
          "text": [
            "Reading Channels: 100%|██████████| 64/64 [00:00<00:00, 645.90it/s]\n",
            "Reading Channels: 100%|██████████| 64/64 [00:00<00:00, 764.66it/s]\n"
          ],
          "name": "stderr"
        },
        {
          "output_type": "stream",
          "text": [
            "2 69\n",
            "3 69\n"
          ],
          "name": "stdout"
        },
        {
          "output_type": "stream",
          "text": [
            "Reading Channels: 100%|██████████| 64/64 [00:00<00:00, 738.70it/s]\n",
            "Reading Channels: 100%|██████████| 64/64 [00:00<00:00, 792.00it/s]\n"
          ],
          "name": "stderr"
        },
        {
          "output_type": "stream",
          "text": [
            "4 69\n",
            "5 69\n"
          ],
          "name": "stdout"
        },
        {
          "output_type": "stream",
          "text": [
            "Reading Channels: 100%|██████████| 64/64 [00:00<00:00, 812.71it/s]\n",
            "Reading Channels: 100%|██████████| 64/64 [00:00<00:00, 731.17it/s]\n"
          ],
          "name": "stderr"
        },
        {
          "output_type": "stream",
          "text": [
            "6 69\n"
          ],
          "name": "stdout"
        },
        {
          "output_type": "stream",
          "text": [
            "Reading Channels: 100%|██████████| 64/64 [00:00<00:00, 766.96it/s]\n"
          ],
          "name": "stderr"
        },
        {
          "output_type": "stream",
          "text": [
            "7 69\n",
            "8 69\n"
          ],
          "name": "stdout"
        },
        {
          "output_type": "stream",
          "text": [
            "Reading Channels: 100%|██████████| 64/64 [00:00<00:00, 907.27it/s]\n",
            "Reading Channels: 100%|██████████| 64/64 [00:00<00:00, 870.81it/s]\n"
          ],
          "name": "stderr"
        },
        {
          "output_type": "stream",
          "text": [
            "9 69\n",
            "10 69\n"
          ],
          "name": "stdout"
        },
        {
          "output_type": "stream",
          "text": [
            "Reading Channels: 100%|██████████| 64/64 [00:00<00:00, 905.82it/s]\n",
            "Reading Channels: 100%|██████████| 64/64 [00:00<00:00, 939.60it/s]\n"
          ],
          "name": "stderr"
        },
        {
          "output_type": "stream",
          "text": [
            "11 69\n",
            "12 69\n"
          ],
          "name": "stdout"
        },
        {
          "output_type": "stream",
          "text": [
            "Reading Channels: 100%|██████████| 64/64 [00:00<00:00, 749.61it/s]\n"
          ],
          "name": "stderr"
        },
        {
          "output_type": "stream",
          "text": [
            "13 69\n"
          ],
          "name": "stdout"
        },
        {
          "output_type": "stream",
          "text": [
            "Reading Channels: 100%|██████████| 64/64 [00:00<00:00, 1650.01it/s]\n",
            "Reading Channels: 100%|██████████| 64/64 [00:00<00:00, 1662.91it/s]\n",
            "Reading Channels:   0%|          | 0/64 [00:00<?, ?it/s]"
          ],
          "name": "stderr"
        },
        {
          "output_type": "stream",
          "text": [
            "0 70\n",
            "1 70\n"
          ],
          "name": "stdout"
        },
        {
          "output_type": "stream",
          "text": [
            "Reading Channels: 100%|██████████| 64/64 [00:00<00:00, 725.62it/s]\n",
            "Reading Channels: 100%|██████████| 64/64 [00:00<00:00, 673.14it/s]"
          ],
          "name": "stderr"
        },
        {
          "output_type": "stream",
          "text": [
            "2 70\n",
            "3 70\n"
          ],
          "name": "stdout"
        },
        {
          "output_type": "stream",
          "text": [
            "\n",
            "Reading Channels: 100%|██████████| 64/64 [00:00<00:00, 809.22it/s]\n",
            "Reading Channels: 100%|██████████| 64/64 [00:00<00:00, 715.52it/s]\n"
          ],
          "name": "stderr"
        },
        {
          "output_type": "stream",
          "text": [
            "4 70\n",
            "5 70\n"
          ],
          "name": "stdout"
        },
        {
          "output_type": "stream",
          "text": [
            "Reading Channels: 100%|██████████| 64/64 [00:00<00:00, 713.53it/s]\n",
            "Reading Channels: 100%|██████████| 64/64 [00:00<00:00, 741.77it/s]\n"
          ],
          "name": "stderr"
        },
        {
          "output_type": "stream",
          "text": [
            "6 70\n",
            "7 70\n"
          ],
          "name": "stdout"
        },
        {
          "output_type": "stream",
          "text": [
            "Reading Channels: 100%|██████████| 64/64 [00:00<00:00, 808.21it/s]\n",
            "Reading Channels: 100%|██████████| 64/64 [00:00<00:00, 844.44it/s]\n"
          ],
          "name": "stderr"
        },
        {
          "output_type": "stream",
          "text": [
            "8 70\n",
            "9 70\n"
          ],
          "name": "stdout"
        },
        {
          "output_type": "stream",
          "text": [
            "Reading Channels: 100%|██████████| 64/64 [00:00<00:00, 899.06it/s]\n",
            "Reading Channels: 100%|██████████| 64/64 [00:00<00:00, 880.94it/s]\n"
          ],
          "name": "stderr"
        },
        {
          "output_type": "stream",
          "text": [
            "10 70\n",
            "11 70\n"
          ],
          "name": "stdout"
        },
        {
          "output_type": "stream",
          "text": [
            "Reading Channels: 100%|██████████| 64/64 [00:00<00:00, 891.29it/s]\n",
            "Reading Channels: 100%|██████████| 64/64 [00:00<00:00, 903.50it/s]\n"
          ],
          "name": "stderr"
        },
        {
          "output_type": "stream",
          "text": [
            "12 70\n",
            "13 70\n"
          ],
          "name": "stdout"
        },
        {
          "output_type": "stream",
          "text": [
            "Reading Channels: 100%|██████████| 64/64 [00:00<00:00, 1685.75it/s]\n",
            "Reading Channels: 100%|██████████| 64/64 [00:00<00:00, 1665.94it/s]\n",
            "Reading Channels:   0%|          | 0/64 [00:00<?, ?it/s]"
          ],
          "name": "stderr"
        },
        {
          "output_type": "stream",
          "text": [
            "0 71\n",
            "1 71\n"
          ],
          "name": "stdout"
        },
        {
          "output_type": "stream",
          "text": [
            "Reading Channels: 100%|██████████| 64/64 [00:00<00:00, 886.30it/s]\n",
            "Reading Channels: 100%|██████████| 64/64 [00:00<00:00, 670.02it/s]"
          ],
          "name": "stderr"
        },
        {
          "output_type": "stream",
          "text": [
            "2 71\n",
            "3 71\n"
          ],
          "name": "stdout"
        },
        {
          "output_type": "stream",
          "text": [
            "\n",
            "Reading Channels: 100%|██████████| 64/64 [00:00<00:00, 729.44it/s]\n",
            "Reading Channels: 100%|██████████| 64/64 [00:00<00:00, 812.01it/s]\n"
          ],
          "name": "stderr"
        },
        {
          "output_type": "stream",
          "text": [
            "4 71\n",
            "5 71\n"
          ],
          "name": "stdout"
        },
        {
          "output_type": "stream",
          "text": [
            "Reading Channels: 100%|██████████| 64/64 [00:00<00:00, 747.13it/s]\n",
            "Reading Channels: 100%|██████████| 64/64 [00:00<00:00, 726.88it/s]\n"
          ],
          "name": "stderr"
        },
        {
          "output_type": "stream",
          "text": [
            "6 71\n",
            "7 71\n"
          ],
          "name": "stdout"
        },
        {
          "output_type": "stream",
          "text": [
            "Reading Channels: 100%|██████████| 64/64 [00:00<00:00, 796.36it/s]\n",
            "Reading Channels: 100%|██████████| 64/64 [00:00<00:00, 754.29it/s]\n"
          ],
          "name": "stderr"
        },
        {
          "output_type": "stream",
          "text": [
            "8 71\n",
            "9 71\n"
          ],
          "name": "stdout"
        },
        {
          "output_type": "stream",
          "text": [
            "Reading Channels: 100%|██████████| 64/64 [00:00<00:00, 724.65it/s]\n",
            "Reading Channels: 100%|██████████| 64/64 [00:00<00:00, 885.70it/s]\n"
          ],
          "name": "stderr"
        },
        {
          "output_type": "stream",
          "text": [
            "10 71\n",
            "11 71\n"
          ],
          "name": "stdout"
        },
        {
          "output_type": "stream",
          "text": [
            "Reading Channels: 100%|██████████| 64/64 [00:00<00:00, 913.80it/s]\n",
            "Reading Channels: 100%|██████████| 64/64 [00:00<00:00, 912.97it/s]\n"
          ],
          "name": "stderr"
        },
        {
          "output_type": "stream",
          "text": [
            "12 71\n",
            "13 71\n"
          ],
          "name": "stdout"
        },
        {
          "output_type": "stream",
          "text": [
            "Reading Channels: 100%|██████████| 64/64 [00:00<00:00, 1613.62it/s]\n",
            "Reading Channels: 100%|██████████| 64/64 [00:00<00:00, 1655.37it/s]\n",
            "Reading Channels:   0%|          | 0/64 [00:00<?, ?it/s]"
          ],
          "name": "stderr"
        },
        {
          "output_type": "stream",
          "text": [
            "0 72\n",
            "1 72\n"
          ],
          "name": "stdout"
        },
        {
          "output_type": "stream",
          "text": [
            "Reading Channels: 100%|██████████| 64/64 [00:00<00:00, 827.41it/s]\n",
            "Reading Channels: 100%|██████████| 64/64 [00:00<00:00, 948.19it/s]"
          ],
          "name": "stderr"
        },
        {
          "output_type": "stream",
          "text": [
            "2 72\n",
            "3 72\n"
          ],
          "name": "stdout"
        },
        {
          "output_type": "stream",
          "text": [
            "\n",
            "Reading Channels: 100%|██████████| 64/64 [00:00<00:00, 913.20it/s]\n",
            "Reading Channels: 100%|██████████| 64/64 [00:00<00:00, 688.33it/s]\n"
          ],
          "name": "stderr"
        },
        {
          "output_type": "stream",
          "text": [
            "4 72\n",
            "5 72\n"
          ],
          "name": "stdout"
        },
        {
          "output_type": "stream",
          "text": [
            "Reading Channels: 100%|██████████| 64/64 [00:00<00:00, 672.62it/s]\n",
            "Reading Channels: 100%|██████████| 64/64 [00:00<00:00, 811.16it/s]\n"
          ],
          "name": "stderr"
        },
        {
          "output_type": "stream",
          "text": [
            "6 72\n",
            "7 72\n"
          ],
          "name": "stdout"
        },
        {
          "output_type": "stream",
          "text": [
            "Reading Channels: 100%|██████████| 64/64 [00:00<00:00, 770.66it/s]\n",
            "Reading Channels: 100%|██████████| 64/64 [00:00<00:00, 761.42it/s]\n",
            "Reading Channels:   0%|          | 0/64 [00:00<?, ?it/s]"
          ],
          "name": "stderr"
        },
        {
          "output_type": "stream",
          "text": [
            "8 72\n",
            "9 72\n"
          ],
          "name": "stdout"
        },
        {
          "output_type": "stream",
          "text": [
            "Reading Channels: 100%|██████████| 64/64 [00:00<00:00, 829.69it/s]\n",
            "Reading Channels: 100%|██████████| 64/64 [00:00<00:00, 780.84it/s]\n"
          ],
          "name": "stderr"
        },
        {
          "output_type": "stream",
          "text": [
            "10 72\n",
            "11 72\n"
          ],
          "name": "stdout"
        },
        {
          "output_type": "stream",
          "text": [
            "Reading Channels: 100%|██████████| 64/64 [00:00<00:00, 794.59it/s]\n",
            "Reading Channels: 100%|██████████| 64/64 [00:00<00:00, 839.17it/s]\n"
          ],
          "name": "stderr"
        },
        {
          "output_type": "stream",
          "text": [
            "12 72\n",
            "13 72\n"
          ],
          "name": "stdout"
        },
        {
          "output_type": "stream",
          "text": [
            "Reading Channels: 100%|██████████| 64/64 [00:00<00:00, 1268.17it/s]\n",
            "Reading Channels: 100%|██████████| 64/64 [00:00<00:00, 1235.20it/s]\n",
            "Reading Channels:   0%|          | 0/64 [00:00<?, ?it/s]"
          ],
          "name": "stderr"
        },
        {
          "output_type": "stream",
          "text": [
            "0 73\n",
            "1 73\n"
          ],
          "name": "stdout"
        },
        {
          "output_type": "stream",
          "text": [
            "Reading Channels: 100%|██████████| 64/64 [00:00<00:00, 800.02it/s]\n",
            "Reading Channels: 100%|██████████| 64/64 [00:00<00:00, 740.15it/s]\n"
          ],
          "name": "stderr"
        },
        {
          "output_type": "stream",
          "text": [
            "2 73\n",
            "3 73\n"
          ],
          "name": "stdout"
        },
        {
          "output_type": "stream",
          "text": [
            "Reading Channels: 100%|██████████| 64/64 [00:00<00:00, 735.69it/s]\n",
            "Reading Channels: 100%|██████████| 64/64 [00:00<00:00, 823.81it/s]\n"
          ],
          "name": "stderr"
        },
        {
          "output_type": "stream",
          "text": [
            "4 73\n",
            "5 73\n"
          ],
          "name": "stdout"
        },
        {
          "output_type": "stream",
          "text": [
            "Reading Channels: 100%|██████████| 64/64 [00:00<00:00, 768.85it/s]\n",
            "Reading Channels: 100%|██████████| 64/64 [00:00<00:00, 918.88it/s]\n"
          ],
          "name": "stderr"
        },
        {
          "output_type": "stream",
          "text": [
            "6 73\n",
            "7 73\n"
          ],
          "name": "stdout"
        },
        {
          "output_type": "stream",
          "text": [
            "Reading Channels: 100%|██████████| 64/64 [00:00<00:00, 910.06it/s]\n",
            "Reading Channels: 100%|██████████| 64/64 [00:00<00:00, 883.42it/s]\n"
          ],
          "name": "stderr"
        },
        {
          "output_type": "stream",
          "text": [
            "8 73\n",
            "9 73\n"
          ],
          "name": "stdout"
        },
        {
          "output_type": "stream",
          "text": [
            "Reading Channels: 100%|██████████| 64/64 [00:00<00:00, 912.97it/s]\n",
            "Reading Channels: 100%|██████████| 64/64 [00:00<00:00, 914.17it/s]\n"
          ],
          "name": "stderr"
        },
        {
          "output_type": "stream",
          "text": [
            "10 73\n",
            "11 73\n"
          ],
          "name": "stdout"
        },
        {
          "output_type": "stream",
          "text": [
            "Reading Channels: 100%|██████████| 64/64 [00:00<00:00, 912.34it/s]\n",
            "Reading Channels: 100%|██████████| 64/64 [00:00<00:00, 884.28it/s]\n"
          ],
          "name": "stderr"
        },
        {
          "output_type": "stream",
          "text": [
            "12 73\n",
            "13 73\n"
          ],
          "name": "stdout"
        },
        {
          "output_type": "stream",
          "text": [
            "Reading Channels: 100%|██████████| 64/64 [00:00<00:00, 1488.36it/s]\n",
            "Reading Channels: 100%|██████████| 64/64 [00:00<00:00, 1249.84it/s]\n"
          ],
          "name": "stderr"
        },
        {
          "output_type": "stream",
          "text": [
            "0 74\n",
            "1 74\n"
          ],
          "name": "stdout"
        },
        {
          "output_type": "stream",
          "text": [
            "Reading Channels: 100%|██████████| 64/64 [00:00<00:00, 683.06it/s]\n",
            "Reading Channels: 100%|██████████| 64/64 [00:00<00:00, 809.26it/s]\n"
          ],
          "name": "stderr"
        },
        {
          "output_type": "stream",
          "text": [
            "2 74\n",
            "3 74\n"
          ],
          "name": "stdout"
        },
        {
          "output_type": "stream",
          "text": [
            "Reading Channels: 100%|██████████| 64/64 [00:00<00:00, 725.99it/s]\n",
            "Reading Channels: 100%|██████████| 64/64 [00:00<00:00, 778.69it/s]\n"
          ],
          "name": "stderr"
        },
        {
          "output_type": "stream",
          "text": [
            "4 74\n",
            "5 74\n"
          ],
          "name": "stdout"
        },
        {
          "output_type": "stream",
          "text": [
            "Reading Channels: 100%|██████████| 64/64 [00:00<00:00, 737.72it/s]\n",
            "Reading Channels: 100%|██████████| 64/64 [00:00<00:00, 768.00it/s]\n"
          ],
          "name": "stderr"
        },
        {
          "output_type": "stream",
          "text": [
            "6 74\n",
            "7 74\n"
          ],
          "name": "stdout"
        },
        {
          "output_type": "stream",
          "text": [
            "Reading Channels: 100%|██████████| 64/64 [00:00<00:00, 916.05it/s]\n",
            "Reading Channels: 100%|██████████| 64/64 [00:00<00:00, 902.84it/s]\n"
          ],
          "name": "stderr"
        },
        {
          "output_type": "stream",
          "text": [
            "8 74\n",
            "9 74\n"
          ],
          "name": "stdout"
        },
        {
          "output_type": "stream",
          "text": [
            "Reading Channels: 100%|██████████| 64/64 [00:00<00:00, 892.04it/s]\n",
            "Reading Channels: 100%|██████████| 64/64 [00:00<00:00, 905.14it/s]\n"
          ],
          "name": "stderr"
        },
        {
          "output_type": "stream",
          "text": [
            "10 74\n",
            "11 74\n"
          ],
          "name": "stdout"
        },
        {
          "output_type": "stream",
          "text": [
            "Reading Channels: 100%|██████████| 64/64 [00:00<00:00, 814.63it/s]\n",
            "Reading Channels: 100%|██████████| 64/64 [00:00<00:00, 899.24it/s]\n"
          ],
          "name": "stderr"
        },
        {
          "output_type": "stream",
          "text": [
            "12 74\n",
            "13 74\n"
          ],
          "name": "stdout"
        },
        {
          "output_type": "stream",
          "text": [
            "Reading Channels: 100%|██████████| 64/64 [00:00<00:00, 1139.78it/s]\n",
            "Reading Channels: 100%|██████████| 64/64 [00:00<00:00, 1192.07it/s]\n"
          ],
          "name": "stderr"
        },
        {
          "output_type": "stream",
          "text": [
            "0 75\n",
            "1 75\n"
          ],
          "name": "stdout"
        },
        {
          "output_type": "stream",
          "text": [
            "Reading Channels: 100%|██████████| 64/64 [00:00<00:00, 703.58it/s]\n",
            "Reading Channels: 100%|██████████| 64/64 [00:00<00:00, 766.10it/s]\n"
          ],
          "name": "stderr"
        },
        {
          "output_type": "stream",
          "text": [
            "2 75\n",
            "3 75\n"
          ],
          "name": "stdout"
        },
        {
          "output_type": "stream",
          "text": [
            "Reading Channels: 100%|██████████| 64/64 [00:00<00:00, 762.56it/s]\n",
            "Reading Channels: 100%|██████████| 64/64 [00:00<00:00, 808.01it/s]\n"
          ],
          "name": "stderr"
        },
        {
          "output_type": "stream",
          "text": [
            "4 75\n",
            "5 75\n"
          ],
          "name": "stdout"
        },
        {
          "output_type": "stream",
          "text": [
            "Reading Channels: 100%|██████████| 64/64 [00:00<00:00, 778.09it/s]\n",
            "Reading Channels: 100%|██████████| 64/64 [00:00<00:00, 742.22it/s]\n"
          ],
          "name": "stderr"
        },
        {
          "output_type": "stream",
          "text": [
            "6 75\n",
            "7 75\n"
          ],
          "name": "stdout"
        },
        {
          "output_type": "stream",
          "text": [
            "Reading Channels: 100%|██████████| 64/64 [00:00<00:00, 859.99it/s]\n",
            "Reading Channels: 100%|██████████| 64/64 [00:00<00:00, 905.40it/s]\n"
          ],
          "name": "stderr"
        },
        {
          "output_type": "stream",
          "text": [
            "8 75\n",
            "9 75\n"
          ],
          "name": "stdout"
        },
        {
          "output_type": "stream",
          "text": [
            "Reading Channels: 100%|██████████| 64/64 [00:00<00:00, 914.54it/s]\n",
            "Reading Channels: 100%|██████████| 64/64 [00:00<00:00, 943.09it/s]\n"
          ],
          "name": "stderr"
        },
        {
          "output_type": "stream",
          "text": [
            "10 75\n",
            "11 75\n"
          ],
          "name": "stdout"
        },
        {
          "output_type": "stream",
          "text": [
            "Reading Channels: 100%|██████████| 64/64 [00:00<00:00, 909.79it/s]\n",
            "Reading Channels: 100%|██████████| 64/64 [00:00<00:00, 907.38it/s]\n"
          ],
          "name": "stderr"
        },
        {
          "output_type": "stream",
          "text": [
            "12 75\n",
            "13 75\n"
          ],
          "name": "stdout"
        },
        {
          "output_type": "stream",
          "text": [
            "Reading Channels: 100%|██████████| 64/64 [00:00<00:00, 1554.32it/s]\n",
            "Reading Channels: 100%|██████████| 64/64 [00:00<00:00, 1659.96it/s]\n",
            "Reading Channels:   0%|          | 0/64 [00:00<?, ?it/s]"
          ],
          "name": "stderr"
        },
        {
          "output_type": "stream",
          "text": [
            "0 76\n",
            "1 76\n"
          ],
          "name": "stdout"
        },
        {
          "output_type": "stream",
          "text": [
            "Reading Channels: 100%|██████████| 64/64 [00:00<00:00, 828.94it/s]\n",
            "Reading Channels: 100%|██████████| 64/64 [00:00<00:00, 736.74it/s]"
          ],
          "name": "stderr"
        },
        {
          "output_type": "stream",
          "text": [
            "2 76\n"
          ],
          "name": "stdout"
        },
        {
          "output_type": "stream",
          "text": [
            "\n",
            "Reading Channels: 100%|██████████| 64/64 [00:00<00:00, 734.79it/s]"
          ],
          "name": "stderr"
        },
        {
          "output_type": "stream",
          "text": [
            "3 76\n"
          ],
          "name": "stdout"
        },
        {
          "output_type": "stream",
          "text": [
            "\n",
            "Reading Channels: 100%|██████████| 64/64 [00:00<00:00, 715.41it/s]\n"
          ],
          "name": "stderr"
        },
        {
          "output_type": "stream",
          "text": [
            "4 76\n",
            "5 76\n"
          ],
          "name": "stdout"
        },
        {
          "output_type": "stream",
          "text": [
            "Reading Channels: 100%|██████████| 64/64 [00:00<00:00, 823.59it/s]\n",
            "Reading Channels: 100%|██████████| 64/64 [00:00<00:00, 735.98it/s]\n"
          ],
          "name": "stderr"
        },
        {
          "output_type": "stream",
          "text": [
            "6 76\n",
            "7 76\n"
          ],
          "name": "stdout"
        },
        {
          "output_type": "stream",
          "text": [
            "Reading Channels: 100%|██████████| 64/64 [00:00<00:00, 758.30it/s]\n",
            "Reading Channels: 100%|██████████| 64/64 [00:00<00:00, 763.16it/s]"
          ],
          "name": "stderr"
        },
        {
          "output_type": "stream",
          "text": [
            "8 76\n",
            "9 76\n"
          ],
          "name": "stdout"
        },
        {
          "output_type": "stream",
          "text": [
            "\n",
            "Reading Channels: 100%|██████████| 64/64 [00:00<00:00, 874.00it/s]\n",
            "Reading Channels: 100%|██████████| 64/64 [00:00<00:00, 921.74it/s]\n"
          ],
          "name": "stderr"
        },
        {
          "output_type": "stream",
          "text": [
            "10 76\n",
            "11 76\n"
          ],
          "name": "stdout"
        },
        {
          "output_type": "stream",
          "text": [
            "Reading Channels: 100%|██████████| 64/64 [00:00<00:00, 898.58it/s]\n",
            "Reading Channels: 100%|██████████| 64/64 [00:00<00:00, 889.00it/s]\n"
          ],
          "name": "stderr"
        },
        {
          "output_type": "stream",
          "text": [
            "12 76\n",
            "13 76\n"
          ],
          "name": "stdout"
        },
        {
          "output_type": "stream",
          "text": [
            "Reading Channels: 100%|██████████| 64/64 [00:00<00:00, 1565.93it/s]\n",
            "Reading Channels: 100%|██████████| 64/64 [00:00<00:00, 1621.32it/s]\n",
            "Reading Channels:   0%|          | 0/64 [00:00<?, ?it/s]"
          ],
          "name": "stderr"
        },
        {
          "output_type": "stream",
          "text": [
            "0 77\n",
            "1 77\n"
          ],
          "name": "stdout"
        },
        {
          "output_type": "stream",
          "text": [
            "Reading Channels: 100%|██████████| 64/64 [00:00<00:00, 703.01it/s]\n",
            "Reading Channels: 100%|██████████| 64/64 [00:00<00:00, 914.31it/s]\n"
          ],
          "name": "stderr"
        },
        {
          "output_type": "stream",
          "text": [
            "2 77\n",
            "3 77\n"
          ],
          "name": "stdout"
        },
        {
          "output_type": "stream",
          "text": [
            "Reading Channels: 100%|██████████| 64/64 [00:00<00:00, 904.04it/s]\n",
            "Reading Channels: 100%|██████████| 64/64 [00:00<00:00, 935.91it/s]\n"
          ],
          "name": "stderr"
        },
        {
          "output_type": "stream",
          "text": [
            "4 77\n",
            "5 77\n"
          ],
          "name": "stdout"
        },
        {
          "output_type": "stream",
          "text": [
            "Reading Channels: 100%|██████████| 64/64 [00:00<00:00, 918.64it/s]\n",
            "Reading Channels: 100%|██████████| 64/64 [00:00<00:00, 896.59it/s]\n"
          ],
          "name": "stderr"
        },
        {
          "output_type": "stream",
          "text": [
            "6 77\n",
            "7 77\n"
          ],
          "name": "stdout"
        },
        {
          "output_type": "stream",
          "text": [
            "Reading Channels: 100%|██████████| 64/64 [00:00<00:00, 909.24it/s]\n",
            "Reading Channels: 100%|██████████| 64/64 [00:00<00:00, 843.86it/s]\n"
          ],
          "name": "stderr"
        },
        {
          "output_type": "stream",
          "text": [
            "8 77\n",
            "9 77\n"
          ],
          "name": "stdout"
        },
        {
          "output_type": "stream",
          "text": [
            "Reading Channels: 100%|██████████| 64/64 [00:00<00:00, 908.19it/s]\n",
            "Reading Channels: 100%|██████████| 64/64 [00:00<00:00, 886.12it/s]\n"
          ],
          "name": "stderr"
        },
        {
          "output_type": "stream",
          "text": [
            "10 77\n",
            "11 77\n"
          ],
          "name": "stdout"
        },
        {
          "output_type": "stream",
          "text": [
            "Reading Channels: 100%|██████████| 64/64 [00:00<00:00, 894.98it/s]\n",
            "Reading Channels: 100%|██████████| 64/64 [00:00<00:00, 923.00it/s]\n"
          ],
          "name": "stderr"
        },
        {
          "output_type": "stream",
          "text": [
            "12 77\n",
            "13 77\n"
          ],
          "name": "stdout"
        },
        {
          "output_type": "stream",
          "text": [
            "Reading Channels: 100%|██████████| 64/64 [00:00<00:00, 1125.69it/s]\n",
            "Reading Channels: 100%|██████████| 64/64 [00:00<00:00, 1073.67it/s]\n",
            "Reading Channels:   0%|          | 0/64 [00:00<?, ?it/s]"
          ],
          "name": "stderr"
        },
        {
          "output_type": "stream",
          "text": [
            "0 78\n",
            "1 78\n"
          ],
          "name": "stdout"
        },
        {
          "output_type": "stream",
          "text": [
            "Reading Channels: 100%|██████████| 64/64 [00:00<00:00, 594.66it/s]\n",
            "Reading Channels:   0%|          | 0/64 [00:00<?, ?it/s]"
          ],
          "name": "stderr"
        },
        {
          "output_type": "stream",
          "text": [
            "2 78\n"
          ],
          "name": "stdout"
        },
        {
          "output_type": "stream",
          "text": [
            "Reading Channels: 100%|██████████| 64/64 [00:00<00:00, 563.37it/s]\n",
            "Reading Channels:   0%|          | 0/64 [00:00<?, ?it/s]"
          ],
          "name": "stderr"
        },
        {
          "output_type": "stream",
          "text": [
            "3 78\n"
          ],
          "name": "stdout"
        },
        {
          "output_type": "stream",
          "text": [
            "Reading Channels: 100%|██████████| 64/64 [00:00<00:00, 575.19it/s]\n",
            "Reading Channels:   0%|          | 0/64 [00:00<?, ?it/s]"
          ],
          "name": "stderr"
        },
        {
          "output_type": "stream",
          "text": [
            "4 78\n"
          ],
          "name": "stdout"
        },
        {
          "output_type": "stream",
          "text": [
            "Reading Channels: 100%|██████████| 64/64 [00:00<00:00, 675.86it/s]\n",
            "Reading Channels: 100%|██████████| 64/64 [00:00<00:00, 679.97it/s]"
          ],
          "name": "stderr"
        },
        {
          "output_type": "stream",
          "text": [
            "5 78\n"
          ],
          "name": "stdout"
        },
        {
          "output_type": "stream",
          "text": [
            "\n",
            "Reading Channels: 100%|██████████| 64/64 [00:00<00:00, 760.63it/s]\n"
          ],
          "name": "stderr"
        },
        {
          "output_type": "stream",
          "text": [
            "6 78\n",
            "7 78\n"
          ],
          "name": "stdout"
        },
        {
          "output_type": "stream",
          "text": [
            "Reading Channels: 100%|██████████| 64/64 [00:00<00:00, 884.13it/s]\n",
            "Reading Channels: 100%|██████████| 64/64 [00:00<00:00, 821.25it/s]\n"
          ],
          "name": "stderr"
        },
        {
          "output_type": "stream",
          "text": [
            "8 78\n",
            "9 78\n"
          ],
          "name": "stdout"
        },
        {
          "output_type": "stream",
          "text": [
            "Reading Channels: 100%|██████████| 64/64 [00:00<00:00, 844.91it/s]\n",
            "Reading Channels: 100%|██████████| 64/64 [00:00<00:00, 896.10it/s]\n"
          ],
          "name": "stderr"
        },
        {
          "output_type": "stream",
          "text": [
            "10 78\n",
            "11 78\n"
          ],
          "name": "stdout"
        },
        {
          "output_type": "stream",
          "text": [
            "Reading Channels: 100%|██████████| 64/64 [00:00<00:00, 900.27it/s]\n",
            "Reading Channels: 100%|██████████| 64/64 [00:00<00:00, 615.25it/s]"
          ],
          "name": "stderr"
        },
        {
          "output_type": "stream",
          "text": [
            "12 78\n"
          ],
          "name": "stdout"
        },
        {
          "output_type": "stream",
          "text": [
            "\n"
          ],
          "name": "stderr"
        },
        {
          "output_type": "stream",
          "text": [
            "13 78\n"
          ],
          "name": "stdout"
        },
        {
          "output_type": "stream",
          "text": [
            "Reading Channels: 100%|██████████| 64/64 [00:00<00:00, 1283.91it/s]\n",
            "Reading Channels: 100%|██████████| 64/64 [00:00<00:00, 1530.83it/s]\n"
          ],
          "name": "stderr"
        },
        {
          "output_type": "stream",
          "text": [
            "0 79\n",
            "1 79\n"
          ],
          "name": "stdout"
        },
        {
          "output_type": "stream",
          "text": [
            "Reading Channels: 100%|██████████| 64/64 [00:00<00:00, 924.53it/s]\n",
            "Reading Channels: 100%|██████████| 64/64 [00:00<00:00, 888.82it/s]\n"
          ],
          "name": "stderr"
        },
        {
          "output_type": "stream",
          "text": [
            "2 79\n",
            "3 79\n"
          ],
          "name": "stdout"
        },
        {
          "output_type": "stream",
          "text": [
            "Reading Channels: 100%|██████████| 64/64 [00:00<00:00, 909.91it/s]\n",
            "Reading Channels: 100%|██████████| 64/64 [00:00<00:00, 918.92it/s]\n"
          ],
          "name": "stderr"
        },
        {
          "output_type": "stream",
          "text": [
            "4 79\n",
            "5 79\n"
          ],
          "name": "stdout"
        },
        {
          "output_type": "stream",
          "text": [
            "Reading Channels: 100%|██████████| 64/64 [00:00<00:00, 913.02it/s]\n",
            "Reading Channels: 100%|██████████| 64/64 [00:00<00:00, 914.64it/s]\n"
          ],
          "name": "stderr"
        },
        {
          "output_type": "stream",
          "text": [
            "6 79\n",
            "7 79\n"
          ],
          "name": "stdout"
        },
        {
          "output_type": "stream",
          "text": [
            "Reading Channels: 100%|██████████| 64/64 [00:00<00:00, 893.52it/s]\n",
            "Reading Channels: 100%|██████████| 64/64 [00:00<00:00, 901.11it/s]\n"
          ],
          "name": "stderr"
        },
        {
          "output_type": "stream",
          "text": [
            "8 79\n",
            "9 79\n"
          ],
          "name": "stdout"
        },
        {
          "output_type": "stream",
          "text": [
            "Reading Channels: 100%|██████████| 64/64 [00:00<00:00, 789.76it/s]\n",
            "Reading Channels: 100%|██████████| 64/64 [00:00<00:00, 920.95it/s]"
          ],
          "name": "stderr"
        },
        {
          "output_type": "stream",
          "text": [
            "10 79\n",
            "11 79\n"
          ],
          "name": "stdout"
        },
        {
          "output_type": "stream",
          "text": [
            "\n",
            "Reading Channels: 100%|██████████| 64/64 [00:00<00:00, 920.48it/s]\n",
            "Reading Channels: 100%|██████████| 64/64 [00:00<00:00, 848.07it/s]\n"
          ],
          "name": "stderr"
        },
        {
          "output_type": "stream",
          "text": [
            "12 79\n",
            "13 79\n"
          ],
          "name": "stdout"
        },
        {
          "output_type": "stream",
          "text": [
            "Reading Channels: 100%|██████████| 64/64 [00:00<00:00, 1235.77it/s]\n",
            "Reading Channels: 100%|██████████| 64/64 [00:00<00:00, 1257.60it/s]\n"
          ],
          "name": "stderr"
        },
        {
          "output_type": "stream",
          "text": [
            "0 80\n",
            "1 80\n"
          ],
          "name": "stdout"
        },
        {
          "output_type": "stream",
          "text": [
            "Reading Channels: 100%|██████████| 64/64 [00:00<00:00, 826.28it/s]\n",
            "Reading Channels: 100%|██████████| 64/64 [00:00<00:00, 807.08it/s]\n"
          ],
          "name": "stderr"
        },
        {
          "output_type": "stream",
          "text": [
            "2 80\n",
            "3 80\n"
          ],
          "name": "stdout"
        },
        {
          "output_type": "stream",
          "text": [
            "Reading Channels: 100%|██████████| 64/64 [00:00<00:00, 870.76it/s]\n",
            "Reading Channels: 100%|██████████| 64/64 [00:00<00:00, 865.60it/s]\n"
          ],
          "name": "stderr"
        },
        {
          "output_type": "stream",
          "text": [
            "4 80\n",
            "5 80\n"
          ],
          "name": "stdout"
        },
        {
          "output_type": "stream",
          "text": [
            "Reading Channels: 100%|██████████| 64/64 [00:00<00:00, 902.87it/s]\n",
            "Reading Channels: 100%|██████████| 64/64 [00:00<00:00, 930.84it/s]\n"
          ],
          "name": "stderr"
        },
        {
          "output_type": "stream",
          "text": [
            "6 80\n",
            "7 80\n"
          ],
          "name": "stdout"
        },
        {
          "output_type": "stream",
          "text": [
            "Reading Channels: 100%|██████████| 64/64 [00:00<00:00, 870.03it/s]\n",
            "Reading Channels: 100%|██████████| 64/64 [00:00<00:00, 921.60it/s]\n"
          ],
          "name": "stderr"
        },
        {
          "output_type": "stream",
          "text": [
            "8 80\n",
            "9 80\n"
          ],
          "name": "stdout"
        },
        {
          "output_type": "stream",
          "text": [
            "Reading Channels: 100%|██████████| 64/64 [00:00<00:00, 867.69it/s]\n",
            "Reading Channels: 100%|██████████| 64/64 [00:00<00:00, 837.66it/s]\n"
          ],
          "name": "stderr"
        },
        {
          "output_type": "stream",
          "text": [
            "10 80\n",
            "11 80\n"
          ],
          "name": "stdout"
        },
        {
          "output_type": "stream",
          "text": [
            "Reading Channels: 100%|██████████| 64/64 [00:00<00:00, 882.39it/s]\n",
            "Reading Channels: 100%|██████████| 64/64 [00:00<00:00, 917.41it/s]\n"
          ],
          "name": "stderr"
        },
        {
          "output_type": "stream",
          "text": [
            "12 80\n",
            "13 80\n"
          ],
          "name": "stdout"
        },
        {
          "output_type": "stream",
          "text": [
            "Reading Channels: 100%|██████████| 64/64 [00:00<00:00, 1330.35it/s]\n",
            "Reading Channels: 100%|██████████| 64/64 [00:00<00:00, 1102.76it/s]\n"
          ],
          "name": "stderr"
        },
        {
          "output_type": "stream",
          "text": [
            "0 81\n",
            "1 81\n"
          ],
          "name": "stdout"
        },
        {
          "output_type": "stream",
          "text": [
            "Reading Channels: 100%|██████████| 64/64 [00:00<00:00, 758.13it/s]\n",
            "Reading Channels: 100%|██████████| 64/64 [00:00<00:00, 842.84it/s]\n"
          ],
          "name": "stderr"
        },
        {
          "output_type": "stream",
          "text": [
            "2 81\n",
            "3 81\n"
          ],
          "name": "stdout"
        },
        {
          "output_type": "stream",
          "text": [
            "Reading Channels: 100%|██████████| 64/64 [00:00<00:00, 757.92it/s]\n",
            "Reading Channels: 100%|██████████| 64/64 [00:00<00:00, 823.32it/s]\n"
          ],
          "name": "stderr"
        },
        {
          "output_type": "stream",
          "text": [
            "4 81\n",
            "5 81\n"
          ],
          "name": "stdout"
        },
        {
          "output_type": "stream",
          "text": [
            "Reading Channels: 100%|██████████| 64/64 [00:00<00:00, 900.75it/s]\n",
            "Reading Channels: 100%|██████████| 64/64 [00:00<00:00, 926.84it/s]\n"
          ],
          "name": "stderr"
        },
        {
          "output_type": "stream",
          "text": [
            "6 81\n",
            "7 81\n"
          ],
          "name": "stdout"
        },
        {
          "output_type": "stream",
          "text": [
            "Reading Channels: 100%|██████████| 64/64 [00:00<00:00, 880.78it/s]\n",
            "Reading Channels: 100%|██████████| 64/64 [00:00<00:00, 911.14it/s]\n"
          ],
          "name": "stderr"
        },
        {
          "output_type": "stream",
          "text": [
            "8 81\n",
            "9 81\n"
          ],
          "name": "stdout"
        },
        {
          "output_type": "stream",
          "text": [
            "Reading Channels: 100%|██████████| 64/64 [00:00<00:00, 891.11it/s]\n",
            "Reading Channels: 100%|██████████| 64/64 [00:00<00:00, 879.54it/s]\n"
          ],
          "name": "stderr"
        },
        {
          "output_type": "stream",
          "text": [
            "10 81\n",
            "11 81\n"
          ],
          "name": "stdout"
        },
        {
          "output_type": "stream",
          "text": [
            "Reading Channels: 100%|██████████| 64/64 [00:00<00:00, 890.14it/s]\n",
            "Reading Channels: 100%|██████████| 64/64 [00:00<00:00, 916.15it/s]\n"
          ],
          "name": "stderr"
        },
        {
          "output_type": "stream",
          "text": [
            "12 81\n",
            "13 81\n"
          ],
          "name": "stdout"
        },
        {
          "output_type": "stream",
          "text": [
            "Reading Channels: 100%|██████████| 64/64 [00:00<00:00, 1410.64it/s]\n",
            "Reading Channels: 100%|██████████| 64/64 [00:00<00:00, 1690.96it/s]\n"
          ],
          "name": "stderr"
        },
        {
          "output_type": "stream",
          "text": [
            "0 82\n",
            "1 82\n"
          ],
          "name": "stdout"
        },
        {
          "output_type": "stream",
          "text": [
            "Reading Channels: 100%|██████████| 64/64 [00:00<00:00, 709.80it/s]\n",
            "Reading Channels: 100%|██████████| 64/64 [00:00<00:00, 727.13it/s]\n"
          ],
          "name": "stderr"
        },
        {
          "output_type": "stream",
          "text": [
            "2 82\n",
            "3 82\n"
          ],
          "name": "stdout"
        },
        {
          "output_type": "stream",
          "text": [
            "Reading Channels: 100%|██████████| 64/64 [00:00<00:00, 757.27it/s]\n",
            "Reading Channels: 100%|██████████| 64/64 [00:00<00:00, 792.38it/s]\n"
          ],
          "name": "stderr"
        },
        {
          "output_type": "stream",
          "text": [
            "4 82\n",
            "5 82\n"
          ],
          "name": "stdout"
        },
        {
          "output_type": "stream",
          "text": [
            "Reading Channels: 100%|██████████| 64/64 [00:00<00:00, 704.24it/s]\n",
            "Reading Channels: 100%|██████████| 64/64 [00:00<00:00, 787.54it/s]\n"
          ],
          "name": "stderr"
        },
        {
          "output_type": "stream",
          "text": [
            "6 82\n",
            "7 82\n"
          ],
          "name": "stdout"
        },
        {
          "output_type": "stream",
          "text": [
            "Reading Channels: 100%|██████████| 64/64 [00:00<00:00, 791.40it/s]\n",
            "Reading Channels: 100%|██████████| 64/64 [00:00<00:00, 909.71it/s]\n"
          ],
          "name": "stderr"
        },
        {
          "output_type": "stream",
          "text": [
            "8 82\n",
            "9 82\n"
          ],
          "name": "stdout"
        },
        {
          "output_type": "stream",
          "text": [
            "Reading Channels: 100%|██████████| 64/64 [00:00<00:00, 855.95it/s]\n",
            "Reading Channels: 100%|██████████| 64/64 [00:00<00:00, 915.04it/s]\n"
          ],
          "name": "stderr"
        },
        {
          "output_type": "stream",
          "text": [
            "10 82\n",
            "11 82\n"
          ],
          "name": "stdout"
        },
        {
          "output_type": "stream",
          "text": [
            "Reading Channels: 100%|██████████| 64/64 [00:00<00:00, 888.50it/s]\n",
            "Reading Channels: 100%|██████████| 64/64 [00:00<00:00, 927.50it/s]\n"
          ],
          "name": "stderr"
        },
        {
          "output_type": "stream",
          "text": [
            "12 82\n",
            "13 82\n"
          ],
          "name": "stdout"
        },
        {
          "output_type": "stream",
          "text": [
            "Reading Channels: 100%|██████████| 64/64 [00:00<00:00, 1627.64it/s]\n",
            "Reading Channels: 100%|██████████| 64/64 [00:00<00:00, 1612.53it/s]\n",
            "Reading Channels:   0%|          | 0/64 [00:00<?, ?it/s]"
          ],
          "name": "stderr"
        },
        {
          "output_type": "stream",
          "text": [
            "0 83\n",
            "1 83\n"
          ],
          "name": "stdout"
        },
        {
          "output_type": "stream",
          "text": [
            "Reading Channels: 100%|██████████| 64/64 [00:00<00:00, 885.91it/s]\n",
            "Reading Channels: 100%|██████████| 64/64 [00:00<00:00, 714.17it/s]\n",
            "Reading Channels:   0%|          | 0/64 [00:00<?, ?it/s]"
          ],
          "name": "stderr"
        },
        {
          "output_type": "stream",
          "text": [
            "2 83\n",
            "3 83\n"
          ],
          "name": "stdout"
        },
        {
          "output_type": "stream",
          "text": [
            "Reading Channels: 100%|██████████| 64/64 [00:00<00:00, 725.98it/s]\n",
            "Reading Channels: 100%|██████████| 64/64 [00:00<00:00, 853.82it/s]\n"
          ],
          "name": "stderr"
        },
        {
          "output_type": "stream",
          "text": [
            "4 83\n",
            "5 83\n"
          ],
          "name": "stdout"
        },
        {
          "output_type": "stream",
          "text": [
            "Reading Channels: 100%|██████████| 64/64 [00:00<00:00, 815.15it/s]\n",
            "Reading Channels: 100%|██████████| 64/64 [00:00<00:00, 759.06it/s]\n"
          ],
          "name": "stderr"
        },
        {
          "output_type": "stream",
          "text": [
            "6 83\n",
            "7 83\n"
          ],
          "name": "stdout"
        },
        {
          "output_type": "stream",
          "text": [
            "Reading Channels: 100%|██████████| 64/64 [00:00<00:00, 816.10it/s]\n",
            "Reading Channels: 100%|██████████| 64/64 [00:00<00:00, 758.84it/s]\n"
          ],
          "name": "stderr"
        },
        {
          "output_type": "stream",
          "text": [
            "8 83\n",
            "9 83\n"
          ],
          "name": "stdout"
        },
        {
          "output_type": "stream",
          "text": [
            "Reading Channels: 100%|██████████| 64/64 [00:00<00:00, 835.89it/s]\n",
            "Reading Channels: 100%|██████████| 64/64 [00:00<00:00, 751.66it/s]\n"
          ],
          "name": "stderr"
        },
        {
          "output_type": "stream",
          "text": [
            "10 83\n",
            "11 83\n"
          ],
          "name": "stdout"
        },
        {
          "output_type": "stream",
          "text": [
            "Reading Channels: 100%|██████████| 64/64 [00:00<00:00, 892.75it/s]\n",
            "Reading Channels: 100%|██████████| 64/64 [00:00<00:00, 915.25it/s]\n"
          ],
          "name": "stderr"
        },
        {
          "output_type": "stream",
          "text": [
            "12 83\n",
            "13 83\n"
          ],
          "name": "stdout"
        },
        {
          "output_type": "stream",
          "text": [
            "Reading Channels: 100%|██████████| 64/64 [00:00<00:00, 1687.16it/s]\n",
            "Reading Channels: 100%|██████████| 64/64 [00:00<00:00, 1737.59it/s]\n",
            "Reading Channels:   0%|          | 0/64 [00:00<?, ?it/s]"
          ],
          "name": "stderr"
        },
        {
          "output_type": "stream",
          "text": [
            "0 84\n",
            "1 84\n"
          ],
          "name": "stdout"
        },
        {
          "output_type": "stream",
          "text": [
            "Reading Channels: 100%|██████████| 64/64 [00:00<00:00, 889.50it/s]\n",
            "Reading Channels: 100%|██████████| 64/64 [00:00<00:00, 926.89it/s]\n"
          ],
          "name": "stderr"
        },
        {
          "output_type": "stream",
          "text": [
            "2 84\n",
            "3 84\n"
          ],
          "name": "stdout"
        },
        {
          "output_type": "stream",
          "text": [
            "Reading Channels: 100%|██████████| 64/64 [00:00<00:00, 744.70it/s]\n",
            "Reading Channels: 100%|██████████| 64/64 [00:00<00:00, 694.56it/s]"
          ],
          "name": "stderr"
        },
        {
          "output_type": "stream",
          "text": [
            "4 84\n"
          ],
          "name": "stdout"
        },
        {
          "output_type": "stream",
          "text": [
            "\n",
            "Reading Channels: 100%|██████████| 64/64 [00:00<00:00, 794.28it/s]\n"
          ],
          "name": "stderr"
        },
        {
          "output_type": "stream",
          "text": [
            "5 84\n",
            "6 84\n"
          ],
          "name": "stdout"
        },
        {
          "output_type": "stream",
          "text": [
            "Reading Channels: 100%|██████████| 64/64 [00:00<00:00, 743.79it/s]\n",
            "Reading Channels: 100%|██████████| 64/64 [00:00<00:00, 827.22it/s]\n"
          ],
          "name": "stderr"
        },
        {
          "output_type": "stream",
          "text": [
            "7 84\n",
            "8 84\n"
          ],
          "name": "stdout"
        },
        {
          "output_type": "stream",
          "text": [
            "Reading Channels: 100%|██████████| 64/64 [00:00<00:00, 782.29it/s]\n",
            "Reading Channels: 100%|██████████| 64/64 [00:00<00:00, 758.67it/s]\n"
          ],
          "name": "stderr"
        },
        {
          "output_type": "stream",
          "text": [
            "9 84\n",
            "10 84\n"
          ],
          "name": "stdout"
        },
        {
          "output_type": "stream",
          "text": [
            "Reading Channels: 100%|██████████| 64/64 [00:00<00:00, 915.50it/s]\n",
            "Reading Channels: 100%|██████████| 64/64 [00:00<00:00, 907.31it/s]\n"
          ],
          "name": "stderr"
        },
        {
          "output_type": "stream",
          "text": [
            "11 84\n",
            "12 84\n"
          ],
          "name": "stdout"
        },
        {
          "output_type": "stream",
          "text": [
            "Reading Channels: 100%|██████████| 64/64 [00:00<00:00, 912.40it/s]\n"
          ],
          "name": "stderr"
        },
        {
          "output_type": "stream",
          "text": [
            "13 84\n"
          ],
          "name": "stdout"
        },
        {
          "output_type": "stream",
          "text": [
            "Reading Channels: 100%|██████████| 64/64 [00:00<00:00, 1603.79it/s]\n",
            "Reading Channels: 100%|██████████| 64/64 [00:00<00:00, 1644.35it/s]\n",
            "Reading Channels:   0%|          | 0/64 [00:00<?, ?it/s]"
          ],
          "name": "stderr"
        },
        {
          "output_type": "stream",
          "text": [
            "0 85\n",
            "1 85\n"
          ],
          "name": "stdout"
        },
        {
          "output_type": "stream",
          "text": [
            "\rReading Channels: 100%|██████████| 64/64 [00:00<00:00, 736.76it/s]\n"
          ],
          "name": "stderr"
        },
        {
          "output_type": "stream",
          "text": [
            "2 85\n"
          ],
          "name": "stdout"
        },
        {
          "output_type": "stream",
          "text": [
            "Reading Channels: 100%|██████████| 64/64 [00:00<00:00, 918.70it/s]\n",
            "Reading Channels: 100%|██████████| 64/64 [00:00<00:00, 851.46it/s]\n"
          ],
          "name": "stderr"
        },
        {
          "output_type": "stream",
          "text": [
            "3 85\n",
            "4 85\n"
          ],
          "name": "stdout"
        },
        {
          "output_type": "stream",
          "text": [
            "Reading Channels: 100%|██████████| 64/64 [00:00<00:00, 719.14it/s]\n",
            "Reading Channels: 100%|██████████| 64/64 [00:00<00:00, 681.96it/s]"
          ],
          "name": "stderr"
        },
        {
          "output_type": "stream",
          "text": [
            "5 85\n"
          ],
          "name": "stdout"
        },
        {
          "output_type": "stream",
          "text": [
            "\n",
            "Reading Channels: 100%|██████████| 64/64 [00:00<00:00, 709.52it/s]"
          ],
          "name": "stderr"
        },
        {
          "output_type": "stream",
          "text": [
            "6 85\n",
            "7 85\n"
          ],
          "name": "stdout"
        },
        {
          "output_type": "stream",
          "text": [
            "\n",
            "Reading Channels: 100%|██████████| 64/64 [00:00<00:00, 774.75it/s]\n",
            "Reading Channels: 100%|██████████| 64/64 [00:00<00:00, 838.29it/s]\n"
          ],
          "name": "stderr"
        },
        {
          "output_type": "stream",
          "text": [
            "8 85\n",
            "9 85\n"
          ],
          "name": "stdout"
        },
        {
          "output_type": "stream",
          "text": [
            "Reading Channels: 100%|██████████| 64/64 [00:00<00:00, 729.18it/s]\n",
            "Reading Channels: 100%|██████████| 64/64 [00:00<00:00, 779.23it/s]\n"
          ],
          "name": "stderr"
        },
        {
          "output_type": "stream",
          "text": [
            "10 85\n",
            "11 85\n"
          ],
          "name": "stdout"
        },
        {
          "output_type": "stream",
          "text": [
            "Reading Channels: 100%|██████████| 64/64 [00:00<00:00, 914.88it/s]\n",
            "Reading Channels: 100%|██████████| 64/64 [00:00<00:00, 899.75it/s]\n"
          ],
          "name": "stderr"
        },
        {
          "output_type": "stream",
          "text": [
            "12 85\n",
            "13 85\n"
          ],
          "name": "stdout"
        },
        {
          "output_type": "stream",
          "text": [
            "Reading Channels: 100%|██████████| 64/64 [00:00<00:00, 1401.41it/s]\n",
            "Reading Channels: 100%|██████████| 64/64 [00:00<00:00, 1366.01it/s]\n"
          ],
          "name": "stderr"
        },
        {
          "output_type": "stream",
          "text": [
            "0 86\n",
            "1 86\n"
          ],
          "name": "stdout"
        },
        {
          "output_type": "stream",
          "text": [
            "Reading Channels: 100%|██████████| 64/64 [00:00<00:00, 788.25it/s]\n",
            "Reading Channels: 100%|██████████| 64/64 [00:00<00:00, 766.18it/s]\n"
          ],
          "name": "stderr"
        },
        {
          "output_type": "stream",
          "text": [
            "2 86\n",
            "3 86\n"
          ],
          "name": "stdout"
        },
        {
          "output_type": "stream",
          "text": [
            "Reading Channels: 100%|██████████| 64/64 [00:00<00:00, 885.93it/s]\n",
            "Reading Channels: 100%|██████████| 64/64 [00:00<00:00, 881.09it/s]\n"
          ],
          "name": "stderr"
        },
        {
          "output_type": "stream",
          "text": [
            "4 86\n",
            "5 86\n"
          ],
          "name": "stdout"
        },
        {
          "output_type": "stream",
          "text": [
            "Reading Channels: 100%|██████████| 64/64 [00:00<00:00, 850.01it/s]\n",
            "Reading Channels: 100%|██████████| 64/64 [00:00<00:00, 893.14it/s]\n"
          ],
          "name": "stderr"
        },
        {
          "output_type": "stream",
          "text": [
            "6 86\n",
            "7 86\n"
          ],
          "name": "stdout"
        },
        {
          "output_type": "stream",
          "text": [
            "Reading Channels: 100%|██████████| 64/64 [00:00<00:00, 881.78it/s]\n",
            "Reading Channels: 100%|██████████| 64/64 [00:00<00:00, 902.21it/s]\n"
          ],
          "name": "stderr"
        },
        {
          "output_type": "stream",
          "text": [
            "8 86\n",
            "9 86\n"
          ],
          "name": "stdout"
        },
        {
          "output_type": "stream",
          "text": [
            "Reading Channels: 100%|██████████| 64/64 [00:00<00:00, 918.77it/s]\n",
            "Reading Channels: 100%|██████████| 64/64 [00:00<00:00, 887.38it/s]\n"
          ],
          "name": "stderr"
        },
        {
          "output_type": "stream",
          "text": [
            "10 86\n",
            "11 86\n"
          ],
          "name": "stdout"
        },
        {
          "output_type": "stream",
          "text": [
            "Reading Channels: 100%|██████████| 64/64 [00:00<00:00, 918.96it/s]\n",
            "Reading Channels: 100%|██████████| 64/64 [00:00<00:00, 915.50it/s]\n"
          ],
          "name": "stderr"
        },
        {
          "output_type": "stream",
          "text": [
            "12 86\n",
            "13 86\n"
          ],
          "name": "stdout"
        },
        {
          "output_type": "stream",
          "text": [
            "Reading Channels: 100%|██████████| 64/64 [00:00<00:00, 1563.08it/s]\n",
            "Reading Channels: 100%|██████████| 64/64 [00:00<00:00, 1576.06it/s]\n"
          ],
          "name": "stderr"
        },
        {
          "output_type": "stream",
          "text": [
            "0 87\n",
            "1 87\n"
          ],
          "name": "stdout"
        },
        {
          "output_type": "stream",
          "text": [
            "Reading Channels: 100%|██████████| 64/64 [00:00<00:00, 516.51it/s]\n",
            "Reading Channels: 100%|██████████| 64/64 [00:00<00:00, 918.92it/s]\n"
          ],
          "name": "stderr"
        },
        {
          "output_type": "stream",
          "text": [
            "2 87\n",
            "3 87\n"
          ],
          "name": "stdout"
        },
        {
          "output_type": "stream",
          "text": [
            "Reading Channels: 100%|██████████| 64/64 [00:00<00:00, 907.83it/s]\n",
            "Reading Channels: 100%|██████████| 64/64 [00:00<00:00, 884.28it/s]\n"
          ],
          "name": "stderr"
        },
        {
          "output_type": "stream",
          "text": [
            "4 87\n",
            "5 87\n"
          ],
          "name": "stdout"
        },
        {
          "output_type": "stream",
          "text": [
            "Reading Channels: 100%|██████████| 64/64 [00:00<00:00, 838.69it/s]\n",
            "Reading Channels: 100%|██████████| 64/64 [00:00<00:00, 887.25it/s]\n"
          ],
          "name": "stderr"
        },
        {
          "output_type": "stream",
          "text": [
            "6 87\n",
            "7 87\n"
          ],
          "name": "stdout"
        },
        {
          "output_type": "stream",
          "text": [
            "Reading Channels: 100%|██████████| 64/64 [00:00<00:00, 914.92it/s]\n",
            "Reading Channels: 100%|██████████| 64/64 [00:00<00:00, 911.34it/s]\n"
          ],
          "name": "stderr"
        },
        {
          "output_type": "stream",
          "text": [
            "8 87\n",
            "9 87\n"
          ],
          "name": "stdout"
        },
        {
          "output_type": "stream",
          "text": [
            "Reading Channels: 100%|██████████| 64/64 [00:00<00:00, 859.65it/s]\n",
            "Reading Channels: 100%|██████████| 64/64 [00:00<00:00, 928.21it/s]\n"
          ],
          "name": "stderr"
        },
        {
          "output_type": "stream",
          "text": [
            "10 87\n",
            "11 87\n"
          ],
          "name": "stdout"
        },
        {
          "output_type": "stream",
          "text": [
            "Reading Channels: 100%|██████████| 64/64 [00:00<00:00, 912.27it/s]\n",
            "Reading Channels: 100%|██████████| 64/64 [00:00<00:00, 895.80it/s]\n"
          ],
          "name": "stderr"
        },
        {
          "output_type": "stream",
          "text": [
            "12 87\n",
            "13 87\n"
          ],
          "name": "stdout"
        },
        {
          "output_type": "stream",
          "text": [
            "Reading Channels: 100%|██████████| 64/64 [00:00<00:00, 1634.78it/s]\n",
            "Reading Channels: 100%|██████████| 64/64 [00:00<00:00, 1620.40it/s]\n",
            "Reading Channels:   0%|          | 0/64 [00:00<?, ?it/s]"
          ],
          "name": "stderr"
        },
        {
          "output_type": "stream",
          "text": [
            "0 88\n",
            "1 88\n"
          ],
          "name": "stdout"
        },
        {
          "output_type": "stream",
          "text": [
            "Reading Channels: 100%|██████████| 64/64 [00:00<00:00, 851.85it/s]\n",
            "Reading Channels: 100%|██████████| 64/64 [00:00<00:00, 893.13it/s]\n"
          ],
          "name": "stderr"
        },
        {
          "output_type": "stream",
          "text": [
            "2 88\n",
            "3 88\n"
          ],
          "name": "stdout"
        },
        {
          "output_type": "stream",
          "text": [
            "Reading Channels: 100%|██████████| 64/64 [00:00<00:00, 949.27it/s]\n",
            "Reading Channels: 100%|██████████| 64/64 [00:00<00:00, 909.62it/s]\n"
          ],
          "name": "stderr"
        },
        {
          "output_type": "stream",
          "text": [
            "4 88\n",
            "5 88\n"
          ],
          "name": "stdout"
        },
        {
          "output_type": "stream",
          "text": [
            "Reading Channels: 100%|██████████| 64/64 [00:00<00:00, 876.55it/s]\n",
            "Reading Channels: 100%|██████████| 64/64 [00:00<00:00, 925.46it/s]\n"
          ],
          "name": "stderr"
        },
        {
          "output_type": "stream",
          "text": [
            "6 88\n",
            "7 88\n"
          ],
          "name": "stdout"
        },
        {
          "output_type": "stream",
          "text": [
            "Reading Channels: 100%|██████████| 64/64 [00:00<00:00, 919.28it/s]\n",
            "Reading Channels: 100%|██████████| 64/64 [00:00<00:00, 931.03it/s]\n",
            "Reading Channels:   0%|          | 0/64 [00:00<?, ?it/s]"
          ],
          "name": "stderr"
        },
        {
          "output_type": "stream",
          "text": [
            "8 88\n",
            "9 88\n"
          ],
          "name": "stdout"
        },
        {
          "output_type": "stream",
          "text": [
            "Reading Channels: 100%|██████████| 64/64 [00:00<00:00, 893.30it/s]\n",
            "Reading Channels: 100%|██████████| 64/64 [00:00<00:00, 898.60it/s]\n",
            "Reading Channels:   0%|          | 0/64 [00:00<?, ?it/s]"
          ],
          "name": "stderr"
        },
        {
          "output_type": "stream",
          "text": [
            "10 88\n",
            "11 88\n"
          ],
          "name": "stdout"
        },
        {
          "output_type": "stream",
          "text": [
            "Reading Channels: 100%|██████████| 64/64 [00:00<00:00, 843.97it/s]\n",
            "Reading Channels: 100%|██████████| 64/64 [00:00<00:00, 935.10it/s]\n"
          ],
          "name": "stderr"
        },
        {
          "output_type": "stream",
          "text": [
            "12 88\n",
            "13 88\n"
          ],
          "name": "stdout"
        },
        {
          "output_type": "stream",
          "text": [
            "Reading Channels: 100%|██████████| 64/64 [00:00<00:00, 1713.32it/s]\n",
            "Reading Channels: 100%|██████████| 64/64 [00:00<00:00, 1538.40it/s]\n",
            "Reading Channels:   0%|          | 0/64 [00:00<?, ?it/s]"
          ],
          "name": "stderr"
        },
        {
          "output_type": "stream",
          "text": [
            "0 89\n",
            "1 89\n"
          ],
          "name": "stdout"
        },
        {
          "output_type": "stream",
          "text": [
            "Reading Channels: 100%|██████████| 64/64 [00:00<00:00, 883.19it/s]\n",
            "Reading Channels: 100%|██████████| 64/64 [00:00<00:00, 868.91it/s]"
          ],
          "name": "stderr"
        },
        {
          "output_type": "stream",
          "text": [
            "2 89\n",
            "3 89\n"
          ],
          "name": "stdout"
        },
        {
          "output_type": "stream",
          "text": [
            "\n",
            "Reading Channels: 100%|██████████| 64/64 [00:00<00:00, 891.81it/s]\n",
            "Reading Channels: 100%|██████████| 64/64 [00:00<00:00, 693.35it/s]\n"
          ],
          "name": "stderr"
        },
        {
          "output_type": "stream",
          "text": [
            "4 89\n",
            "5 89\n"
          ],
          "name": "stdout"
        },
        {
          "output_type": "stream",
          "text": [
            "Reading Channels: 100%|██████████| 64/64 [00:00<00:00, 577.50it/s]\n",
            "Reading Channels: 100%|██████████| 64/64 [00:00<00:00, 714.70it/s]"
          ],
          "name": "stderr"
        },
        {
          "output_type": "stream",
          "text": [
            "6 89\n"
          ],
          "name": "stdout"
        },
        {
          "output_type": "stream",
          "text": [
            "\n",
            "Reading Channels: 100%|██████████| 64/64 [00:00<00:00, 661.23it/s]"
          ],
          "name": "stderr"
        },
        {
          "output_type": "stream",
          "text": [
            "7 89\n"
          ],
          "name": "stdout"
        },
        {
          "output_type": "stream",
          "text": [
            "\n",
            "Reading Channels: 100%|██████████| 64/64 [00:00<00:00, 638.23it/s]"
          ],
          "name": "stderr"
        },
        {
          "output_type": "stream",
          "text": [
            "8 89\n",
            "9 89\n"
          ],
          "name": "stdout"
        },
        {
          "output_type": "stream",
          "text": [
            "\n",
            "Reading Channels: 100%|██████████| 64/64 [00:00<00:00, 670.42it/s]\n",
            "Reading Channels: 100%|██████████| 64/64 [00:00<00:00, 790.52it/s]\n"
          ],
          "name": "stderr"
        },
        {
          "output_type": "stream",
          "text": [
            "10 89\n",
            "11 89\n"
          ],
          "name": "stdout"
        },
        {
          "output_type": "stream",
          "text": [
            "Reading Channels: 100%|██████████| 64/64 [00:00<00:00, 755.55it/s]\n",
            "Reading Channels: 100%|██████████| 64/64 [00:00<00:00, 682.25it/s]"
          ],
          "name": "stderr"
        },
        {
          "output_type": "stream",
          "text": [
            "12 89\n"
          ],
          "name": "stdout"
        },
        {
          "output_type": "stream",
          "text": [
            "\n"
          ],
          "name": "stderr"
        },
        {
          "output_type": "stream",
          "text": [
            "13 89\n"
          ],
          "name": "stdout"
        },
        {
          "output_type": "stream",
          "text": [
            "Reading Channels: 100%|██████████| 64/64 [00:00<00:00, 1243.36it/s]\n"
          ],
          "name": "stderr"
        },
        {
          "output_type": "stream",
          "text": [
            "0 90\n"
          ],
          "name": "stdout"
        },
        {
          "output_type": "stream",
          "text": [
            "Reading Channels: 100%|██████████| 64/64 [00:00<00:00, 1593.79it/s]\n",
            "Reading Channels: 100%|██████████| 64/64 [00:00<00:00, 909.57it/s]\n"
          ],
          "name": "stderr"
        },
        {
          "output_type": "stream",
          "text": [
            "1 90\n",
            "2 90\n"
          ],
          "name": "stdout"
        },
        {
          "output_type": "stream",
          "text": [
            "Reading Channels: 100%|██████████| 64/64 [00:00<00:00, 917.14it/s]\n",
            "Reading Channels: 100%|██████████| 64/64 [00:00<00:00, 883.52it/s]\n"
          ],
          "name": "stderr"
        },
        {
          "output_type": "stream",
          "text": [
            "3 90\n",
            "4 90\n"
          ],
          "name": "stdout"
        },
        {
          "output_type": "stream",
          "text": [
            "Reading Channels: 100%|██████████| 64/64 [00:00<00:00, 850.03it/s]\n",
            "Reading Channels: 100%|██████████| 64/64 [00:00<00:00, 671.45it/s]\n"
          ],
          "name": "stderr"
        },
        {
          "output_type": "stream",
          "text": [
            "5 90\n",
            "6 90\n"
          ],
          "name": "stdout"
        },
        {
          "output_type": "stream",
          "text": [
            "Reading Channels: 100%|██████████| 64/64 [00:00<00:00, 741.55it/s]\n",
            "Reading Channels: 100%|██████████| 64/64 [00:00<00:00, 671.31it/s]\n"
          ],
          "name": "stderr"
        },
        {
          "output_type": "stream",
          "text": [
            "7 90\n",
            "8 90\n"
          ],
          "name": "stdout"
        },
        {
          "output_type": "stream",
          "text": [
            "Reading Channels: 100%|██████████| 64/64 [00:00<00:00, 821.61it/s]\n",
            "Reading Channels: 100%|██████████| 64/64 [00:00<00:00, 761.10it/s]\n"
          ],
          "name": "stderr"
        },
        {
          "output_type": "stream",
          "text": [
            "9 90\n"
          ],
          "name": "stdout"
        },
        {
          "output_type": "stream",
          "text": [
            "Reading Channels: 100%|██████████| 64/64 [00:00<00:00, 717.74it/s]"
          ],
          "name": "stderr"
        },
        {
          "output_type": "stream",
          "text": [
            "10 90\n",
            "11 90\n"
          ],
          "name": "stdout"
        },
        {
          "output_type": "stream",
          "text": [
            "\n",
            "Reading Channels: 100%|██████████| 64/64 [00:00<00:00, 684.74it/s]\n",
            "Reading Channels:  98%|█████████▊| 63/64 [00:00<00:00, 628.15it/s]"
          ],
          "name": "stderr"
        },
        {
          "output_type": "stream",
          "text": [
            "12 90\n"
          ],
          "name": "stdout"
        },
        {
          "output_type": "stream",
          "text": [
            "\rReading Channels: 100%|██████████| 64/64 [00:00<00:00, 617.31it/s]\n"
          ],
          "name": "stderr"
        },
        {
          "output_type": "stream",
          "text": [
            "13 90\n"
          ],
          "name": "stdout"
        },
        {
          "output_type": "stream",
          "text": [
            "Reading Channels: 100%|██████████| 64/64 [00:00<00:00, 1427.13it/s]\n",
            "Reading Channels: 100%|██████████| 64/64 [00:00<00:00, 1684.48it/s]\n",
            "Reading Channels:   0%|          | 0/64 [00:00<?, ?it/s]"
          ],
          "name": "stderr"
        },
        {
          "output_type": "stream",
          "text": [
            "0 91\n",
            "1 91\n"
          ],
          "name": "stdout"
        },
        {
          "output_type": "stream",
          "text": [
            "Reading Channels: 100%|██████████| 64/64 [00:00<00:00, 895.03it/s]\n",
            "Reading Channels: 100%|██████████| 64/64 [00:00<00:00, 929.31it/s]\n"
          ],
          "name": "stderr"
        },
        {
          "output_type": "stream",
          "text": [
            "2 91\n",
            "3 91\n"
          ],
          "name": "stdout"
        },
        {
          "output_type": "stream",
          "text": [
            "Reading Channels: 100%|██████████| 64/64 [00:00<00:00, 900.08it/s]\n",
            "Reading Channels: 100%|██████████| 64/64 [00:00<00:00, 894.59it/s]\n"
          ],
          "name": "stderr"
        },
        {
          "output_type": "stream",
          "text": [
            "4 91\n",
            "5 91\n"
          ],
          "name": "stdout"
        },
        {
          "output_type": "stream",
          "text": [
            "Reading Channels: 100%|██████████| 64/64 [00:00<00:00, 902.88it/s]\n",
            "Reading Channels: 100%|██████████| 64/64 [00:00<00:00, 871.47it/s]\n"
          ],
          "name": "stderr"
        },
        {
          "output_type": "stream",
          "text": [
            "6 91\n",
            "7 91\n"
          ],
          "name": "stdout"
        },
        {
          "output_type": "stream",
          "text": [
            "Reading Channels: 100%|██████████| 64/64 [00:00<00:00, 902.02it/s]\n",
            "Reading Channels: 100%|██████████| 64/64 [00:00<00:00, 920.89it/s]\n"
          ],
          "name": "stderr"
        },
        {
          "output_type": "stream",
          "text": [
            "8 91\n",
            "9 91\n"
          ],
          "name": "stdout"
        },
        {
          "output_type": "stream",
          "text": [
            "Reading Channels: 100%|██████████| 64/64 [00:00<00:00, 882.62it/s]\n"
          ],
          "name": "stderr"
        },
        {
          "output_type": "stream",
          "text": [
            "10 91\n"
          ],
          "name": "stdout"
        },
        {
          "output_type": "stream",
          "text": [
            "Reading Channels: 100%|██████████| 64/64 [00:00<00:00, 858.33it/s]\n",
            "Reading Channels: 100%|██████████| 64/64 [00:00<00:00, 903.67it/s]\n"
          ],
          "name": "stderr"
        },
        {
          "output_type": "stream",
          "text": [
            "11 91\n",
            "12 91\n"
          ],
          "name": "stdout"
        },
        {
          "output_type": "stream",
          "text": [
            "Reading Channels: 100%|██████████| 64/64 [00:00<00:00, 702.77it/s]\n"
          ],
          "name": "stderr"
        },
        {
          "output_type": "stream",
          "text": [
            "13 91\n"
          ],
          "name": "stdout"
        },
        {
          "output_type": "stream",
          "text": [
            "Reading Channels: 100%|██████████| 64/64 [00:00<00:00, 1546.96it/s]\n",
            "Reading Channels: 100%|██████████| 64/64 [00:00<00:00, 1444.27it/s]\n"
          ],
          "name": "stderr"
        },
        {
          "output_type": "stream",
          "text": [
            "0 92\n",
            "1 92\n"
          ],
          "name": "stdout"
        },
        {
          "output_type": "stream",
          "text": [
            "Reading Channels: 100%|██████████| 64/64 [00:00<00:00, 733.38it/s]\n",
            "Reading Channels: 100%|██████████| 64/64 [00:00<00:00, 751.36it/s]\n"
          ],
          "name": "stderr"
        },
        {
          "output_type": "stream",
          "text": [
            "2 92\n",
            "3 92\n"
          ],
          "name": "stdout"
        },
        {
          "output_type": "stream",
          "text": [
            "Reading Channels: 100%|██████████| 64/64 [00:00<00:00, 878.63it/s]\n",
            "Reading Channels: 100%|██████████| 64/64 [00:00<00:00, 906.12it/s]\n"
          ],
          "name": "stderr"
        },
        {
          "output_type": "stream",
          "text": [
            "4 92\n",
            "5 92\n"
          ],
          "name": "stdout"
        },
        {
          "output_type": "stream",
          "text": [
            "Reading Channels: 100%|██████████| 64/64 [00:00<00:00, 840.37it/s]\n",
            "Reading Channels: 100%|██████████| 64/64 [00:00<00:00, 899.55it/s]\n"
          ],
          "name": "stderr"
        },
        {
          "output_type": "stream",
          "text": [
            "6 92\n",
            "7 92\n"
          ],
          "name": "stdout"
        },
        {
          "output_type": "stream",
          "text": [
            "Reading Channels: 100%|██████████| 64/64 [00:00<00:00, 901.51it/s]\n",
            "Reading Channels: 100%|██████████| 64/64 [00:00<00:00, 848.71it/s]\n"
          ],
          "name": "stderr"
        },
        {
          "output_type": "stream",
          "text": [
            "8 92\n",
            "9 92\n"
          ],
          "name": "stdout"
        },
        {
          "output_type": "stream",
          "text": [
            "Reading Channels: 100%|██████████| 64/64 [00:00<00:00, 795.46it/s]\n",
            "Reading Channels: 100%|██████████| 64/64 [00:00<00:00, 832.30it/s]\n"
          ],
          "name": "stderr"
        },
        {
          "output_type": "stream",
          "text": [
            "10 92\n",
            "11 92\n"
          ],
          "name": "stdout"
        },
        {
          "output_type": "stream",
          "text": [
            "Reading Channels: 100%|██████████| 64/64 [00:00<00:00, 846.83it/s]\n",
            "Reading Channels: 100%|██████████| 64/64 [00:00<00:00, 895.62it/s]\n"
          ],
          "name": "stderr"
        },
        {
          "output_type": "stream",
          "text": [
            "12 92\n",
            "13 92\n"
          ],
          "name": "stdout"
        },
        {
          "output_type": "stream",
          "text": [
            "Reading Channels: 100%|██████████| 64/64 [00:00<00:00, 1391.90it/s]\n",
            "Reading Channels: 100%|██████████| 64/64 [00:00<00:00, 1494.67it/s]\n"
          ],
          "name": "stderr"
        },
        {
          "output_type": "stream",
          "text": [
            "0 93\n",
            "1 93\n"
          ],
          "name": "stdout"
        },
        {
          "output_type": "stream",
          "text": [
            "Reading Channels: 100%|██████████| 64/64 [00:00<00:00, 721.46it/s]\n",
            "Reading Channels: 100%|██████████| 64/64 [00:00<00:00, 756.16it/s]\n"
          ],
          "name": "stderr"
        },
        {
          "output_type": "stream",
          "text": [
            "2 93\n",
            "3 93\n"
          ],
          "name": "stdout"
        },
        {
          "output_type": "stream",
          "text": [
            "Reading Channels: 100%|██████████| 64/64 [00:00<00:00, 851.96it/s]\n",
            "Reading Channels: 100%|██████████| 64/64 [00:00<00:00, 817.68it/s]\n"
          ],
          "name": "stderr"
        },
        {
          "output_type": "stream",
          "text": [
            "4 93\n",
            "5 93\n"
          ],
          "name": "stdout"
        },
        {
          "output_type": "stream",
          "text": [
            "Reading Channels: 100%|██████████| 64/64 [00:00<00:00, 822.58it/s]\n",
            "Reading Channels: 100%|██████████| 64/64 [00:00<00:00, 885.61it/s]\n"
          ],
          "name": "stderr"
        },
        {
          "output_type": "stream",
          "text": [
            "6 93\n",
            "7 93\n"
          ],
          "name": "stdout"
        },
        {
          "output_type": "stream",
          "text": [
            "Reading Channels: 100%|██████████| 64/64 [00:00<00:00, 889.27it/s]\n",
            "Reading Channels: 100%|██████████| 64/64 [00:00<00:00, 856.28it/s]\n"
          ],
          "name": "stderr"
        },
        {
          "output_type": "stream",
          "text": [
            "8 93\n",
            "9 93\n"
          ],
          "name": "stdout"
        },
        {
          "output_type": "stream",
          "text": [
            "Reading Channels: 100%|██████████| 64/64 [00:00<00:00, 889.49it/s]\n",
            "Reading Channels: 100%|██████████| 64/64 [00:00<00:00, 881.38it/s]\n"
          ],
          "name": "stderr"
        },
        {
          "output_type": "stream",
          "text": [
            "10 93\n",
            "11 93\n"
          ],
          "name": "stdout"
        },
        {
          "output_type": "stream",
          "text": [
            "Reading Channels: 100%|██████████| 64/64 [00:00<00:00, 813.00it/s]\n",
            "Reading Channels: 100%|██████████| 64/64 [00:00<00:00, 910.89it/s]"
          ],
          "name": "stderr"
        },
        {
          "output_type": "stream",
          "text": [
            "12 93\n",
            "13 93\n"
          ],
          "name": "stdout"
        },
        {
          "output_type": "stream",
          "text": [
            "\n",
            "Reading Channels: 100%|██████████| 64/64 [00:00<00:00, 1337.72it/s]\n",
            "Reading Channels: 100%|██████████| 64/64 [00:00<00:00, 1442.81it/s]\n"
          ],
          "name": "stderr"
        },
        {
          "output_type": "stream",
          "text": [
            "0 94\n",
            "1 94\n"
          ],
          "name": "stdout"
        },
        {
          "output_type": "stream",
          "text": [
            "Reading Channels: 100%|██████████| 64/64 [00:00<00:00, 740.89it/s]\n",
            "Reading Channels: 100%|██████████| 64/64 [00:00<00:00, 705.46it/s]\n"
          ],
          "name": "stderr"
        },
        {
          "output_type": "stream",
          "text": [
            "2 94\n",
            "3 94\n"
          ],
          "name": "stdout"
        },
        {
          "output_type": "stream",
          "text": [
            "Reading Channels: 100%|██████████| 64/64 [00:00<00:00, 930.43it/s]\n",
            "Reading Channels: 100%|██████████| 64/64 [00:00<00:00, 876.26it/s]\n"
          ],
          "name": "stderr"
        },
        {
          "output_type": "stream",
          "text": [
            "4 94\n",
            "5 94\n"
          ],
          "name": "stdout"
        },
        {
          "output_type": "stream",
          "text": [
            "Reading Channels: 100%|██████████| 64/64 [00:00<00:00, 847.21it/s]\n",
            "Reading Channels: 100%|██████████| 64/64 [00:00<00:00, 914.26it/s]\n"
          ],
          "name": "stderr"
        },
        {
          "output_type": "stream",
          "text": [
            "6 94\n",
            "7 94\n"
          ],
          "name": "stdout"
        },
        {
          "output_type": "stream",
          "text": [
            "Reading Channels: 100%|██████████| 64/64 [00:00<00:00, 888.54it/s]\n",
            "Reading Channels: 100%|██████████| 64/64 [00:00<00:00, 893.79it/s]\n"
          ],
          "name": "stderr"
        },
        {
          "output_type": "stream",
          "text": [
            "8 94\n",
            "9 94\n"
          ],
          "name": "stdout"
        },
        {
          "output_type": "stream",
          "text": [
            "Reading Channels: 100%|██████████| 64/64 [00:00<00:00, 877.50it/s]\n",
            "Reading Channels: 100%|██████████| 64/64 [00:00<00:00, 870.95it/s]\n"
          ],
          "name": "stderr"
        },
        {
          "output_type": "stream",
          "text": [
            "10 94\n",
            "11 94\n"
          ],
          "name": "stdout"
        },
        {
          "output_type": "stream",
          "text": [
            "Reading Channels: 100%|██████████| 64/64 [00:00<00:00, 776.96it/s]\n",
            "Reading Channels: 100%|██████████| 64/64 [00:00<00:00, 920.95it/s]\n"
          ],
          "name": "stderr"
        },
        {
          "output_type": "stream",
          "text": [
            "12 94\n",
            "13 94\n"
          ],
          "name": "stdout"
        },
        {
          "output_type": "stream",
          "text": [
            "Reading Channels: 100%|██████████| 64/64 [00:00<00:00, 1095.99it/s]\n",
            "Reading Channels:   0%|          | 0/64 [00:00<?, ?it/s]"
          ],
          "name": "stderr"
        },
        {
          "output_type": "stream",
          "text": [
            "0 95\n"
          ],
          "name": "stdout"
        },
        {
          "output_type": "stream",
          "text": [
            "Reading Channels: 100%|██████████| 64/64 [00:00<00:00, 1049.31it/s]\n",
            "Reading Channels: 100%|██████████| 64/64 [00:00<00:00, 671.12it/s]"
          ],
          "name": "stderr"
        },
        {
          "output_type": "stream",
          "text": [
            "1 95\n",
            "2 95\n"
          ],
          "name": "stdout"
        },
        {
          "output_type": "stream",
          "text": [
            "\n",
            "Reading Channels: 100%|██████████| 64/64 [00:00<00:00, 796.59it/s]\n",
            "Reading Channels: 100%|██████████| 64/64 [00:00<00:00, 925.95it/s]\n"
          ],
          "name": "stderr"
        },
        {
          "output_type": "stream",
          "text": [
            "3 95\n",
            "4 95\n"
          ],
          "name": "stdout"
        },
        {
          "output_type": "stream",
          "text": [
            "Reading Channels: 100%|██████████| 64/64 [00:00<00:00, 909.33it/s]\n",
            "Reading Channels: 100%|██████████| 64/64 [00:00<00:00, 936.24it/s]\n"
          ],
          "name": "stderr"
        },
        {
          "output_type": "stream",
          "text": [
            "5 95\n",
            "6 95\n"
          ],
          "name": "stdout"
        },
        {
          "output_type": "stream",
          "text": [
            "Reading Channels: 100%|██████████| 64/64 [00:00<00:00, 852.22it/s]\n",
            "Reading Channels: 100%|██████████| 64/64 [00:00<00:00, 913.93it/s]\n"
          ],
          "name": "stderr"
        },
        {
          "output_type": "stream",
          "text": [
            "7 95\n",
            "8 95\n"
          ],
          "name": "stdout"
        },
        {
          "output_type": "stream",
          "text": [
            "Reading Channels: 100%|██████████| 64/64 [00:00<00:00, 880.79it/s]\n",
            "Reading Channels: 100%|██████████| 64/64 [00:00<00:00, 919.63it/s]\n"
          ],
          "name": "stderr"
        },
        {
          "output_type": "stream",
          "text": [
            "9 95\n",
            "10 95\n"
          ],
          "name": "stdout"
        },
        {
          "output_type": "stream",
          "text": [
            "Reading Channels: 100%|██████████| 64/64 [00:00<00:00, 866.24it/s]\n",
            "Reading Channels: 100%|██████████| 64/64 [00:00<00:00, 860.86it/s]\n"
          ],
          "name": "stderr"
        },
        {
          "output_type": "stream",
          "text": [
            "11 95\n",
            "12 95\n"
          ],
          "name": "stdout"
        },
        {
          "output_type": "stream",
          "text": [
            "Reading Channels: 100%|██████████| 64/64 [00:00<00:00, 889.30it/s]\n"
          ],
          "name": "stderr"
        },
        {
          "output_type": "stream",
          "text": [
            "13 95\n"
          ],
          "name": "stdout"
        },
        {
          "output_type": "stream",
          "text": [
            "Reading Channels: 100%|██████████| 64/64 [00:00<00:00, 1749.07it/s]\n",
            "Reading Channels: 100%|██████████| 64/64 [00:00<00:00, 1508.33it/s]\n",
            "Reading Channels:   0%|          | 0/64 [00:00<?, ?it/s]"
          ],
          "name": "stderr"
        },
        {
          "output_type": "stream",
          "text": [
            "0 96\n",
            "1 96\n"
          ],
          "name": "stdout"
        },
        {
          "output_type": "stream",
          "text": [
            "Reading Channels: 100%|██████████| 64/64 [00:00<00:00, 848.04it/s]\n",
            "Reading Channels: 100%|██████████| 64/64 [00:00<00:00, 892.96it/s]\n"
          ],
          "name": "stderr"
        },
        {
          "output_type": "stream",
          "text": [
            "2 96\n",
            "3 96\n"
          ],
          "name": "stdout"
        },
        {
          "output_type": "stream",
          "text": [
            "Reading Channels: 100%|██████████| 64/64 [00:00<00:00, 899.79it/s]\n",
            "Reading Channels: 100%|██████████| 64/64 [00:00<00:00, 908.95it/s]\n"
          ],
          "name": "stderr"
        },
        {
          "output_type": "stream",
          "text": [
            "4 96\n",
            "5 96\n"
          ],
          "name": "stdout"
        },
        {
          "output_type": "stream",
          "text": [
            "Reading Channels: 100%|██████████| 64/64 [00:00<00:00, 908.22it/s]\n",
            "Reading Channels: 100%|██████████| 64/64 [00:00<00:00, 936.08it/s]\n"
          ],
          "name": "stderr"
        },
        {
          "output_type": "stream",
          "text": [
            "6 96\n",
            "7 96\n"
          ],
          "name": "stdout"
        },
        {
          "output_type": "stream",
          "text": [
            "Reading Channels: 100%|██████████| 64/64 [00:00<00:00, 904.04it/s]\n",
            "Reading Channels: 100%|██████████| 64/64 [00:00<00:00, 889.18it/s]\n"
          ],
          "name": "stderr"
        },
        {
          "output_type": "stream",
          "text": [
            "8 96\n",
            "9 96\n"
          ],
          "name": "stdout"
        },
        {
          "output_type": "stream",
          "text": [
            "Reading Channels: 100%|██████████| 64/64 [00:00<00:00, 915.86it/s]\n",
            "Reading Channels: 100%|██████████| 64/64 [00:00<00:00, 919.68it/s]\n"
          ],
          "name": "stderr"
        },
        {
          "output_type": "stream",
          "text": [
            "10 96\n",
            "11 96\n"
          ],
          "name": "stdout"
        },
        {
          "output_type": "stream",
          "text": [
            "Reading Channels: 100%|██████████| 64/64 [00:00<00:00, 878.43it/s]\n",
            "Reading Channels: 100%|██████████| 64/64 [00:00<00:00, 921.93it/s]\n"
          ],
          "name": "stderr"
        },
        {
          "output_type": "stream",
          "text": [
            "12 96\n",
            "13 96\n"
          ],
          "name": "stdout"
        },
        {
          "output_type": "stream",
          "text": [
            "Reading Channels: 100%|██████████| 64/64 [00:00<00:00, 1737.90it/s]\n",
            "Reading Channels: 100%|██████████| 64/64 [00:00<00:00, 1709.46it/s]\n",
            "Reading Channels:   0%|          | 0/64 [00:00<?, ?it/s]"
          ],
          "name": "stderr"
        },
        {
          "output_type": "stream",
          "text": [
            "0 97\n",
            "1 97\n"
          ],
          "name": "stdout"
        },
        {
          "output_type": "stream",
          "text": [
            "Reading Channels: 100%|██████████| 64/64 [00:00<00:00, 1035.82it/s]\n",
            "Reading Channels: 100%|██████████| 64/64 [00:00<00:00, 1060.33it/s]\n",
            "Reading Channels:   0%|          | 0/64 [00:00<?, ?it/s]"
          ],
          "name": "stderr"
        },
        {
          "output_type": "stream",
          "text": [
            "2 97\n",
            "3 97\n"
          ],
          "name": "stdout"
        },
        {
          "output_type": "stream",
          "text": [
            "Reading Channels: 100%|██████████| 64/64 [00:00<00:00, 1053.44it/s]\n",
            "Reading Channels: 100%|██████████| 64/64 [00:00<00:00, 1090.12it/s]\n"
          ],
          "name": "stderr"
        },
        {
          "output_type": "stream",
          "text": [
            "4 97\n",
            "5 97\n"
          ],
          "name": "stdout"
        },
        {
          "output_type": "stream",
          "text": [
            "Reading Channels: 100%|██████████| 64/64 [00:00<00:00, 1045.60it/s]\n",
            "Reading Channels: 100%|██████████| 64/64 [00:00<00:00, 785.27it/s]"
          ],
          "name": "stderr"
        },
        {
          "output_type": "stream",
          "text": [
            "6 97\n"
          ],
          "name": "stdout"
        },
        {
          "output_type": "stream",
          "text": [
            "\n",
            "Reading Channels: 100%|██████████| 64/64 [00:00<00:00, 876.98it/s]\n"
          ],
          "name": "stderr"
        },
        {
          "output_type": "stream",
          "text": [
            "7 97\n",
            "8 97\n"
          ],
          "name": "stdout"
        },
        {
          "output_type": "stream",
          "text": [
            "Reading Channels: 100%|██████████| 64/64 [00:00<00:00, 810.21it/s]\n",
            "Reading Channels: 100%|██████████| 64/64 [00:00<00:00, 726.23it/s]"
          ],
          "name": "stderr"
        },
        {
          "output_type": "stream",
          "text": [
            "9 97\n"
          ],
          "name": "stdout"
        },
        {
          "output_type": "stream",
          "text": [
            "\n",
            "Reading Channels: 100%|██████████| 64/64 [00:00<00:00, 830.93it/s]\n"
          ],
          "name": "stderr"
        },
        {
          "output_type": "stream",
          "text": [
            "10 97\n",
            "11 97\n"
          ],
          "name": "stdout"
        },
        {
          "output_type": "stream",
          "text": [
            "Reading Channels: 100%|██████████| 64/64 [00:00<00:00, 798.85it/s]\n",
            "Reading Channels: 100%|██████████| 64/64 [00:00<00:00, 743.69it/s]"
          ],
          "name": "stderr"
        },
        {
          "output_type": "stream",
          "text": [
            "12 97\n",
            "13 97"
          ],
          "name": "stdout"
        },
        {
          "output_type": "stream",
          "text": [
            "\n"
          ],
          "name": "stderr"
        },
        {
          "output_type": "stream",
          "text": [
            "\n"
          ],
          "name": "stdout"
        },
        {
          "output_type": "stream",
          "text": [
            "Reading Channels: 100%|██████████| 64/64 [00:00<00:00, 1423.25it/s]\n",
            "Reading Channels: 100%|██████████| 64/64 [00:00<00:00, 1399.15it/s]\n"
          ],
          "name": "stderr"
        },
        {
          "output_type": "stream",
          "text": [
            "0 98\n",
            "1 98\n"
          ],
          "name": "stdout"
        },
        {
          "output_type": "stream",
          "text": [
            "Reading Channels: 100%|██████████| 64/64 [00:00<00:00, 834.22it/s]\n",
            "Reading Channels: 100%|██████████| 64/64 [00:00<00:00, 880.75it/s]\n"
          ],
          "name": "stderr"
        },
        {
          "output_type": "stream",
          "text": [
            "2 98\n",
            "3 98\n"
          ],
          "name": "stdout"
        },
        {
          "output_type": "stream",
          "text": [
            "Reading Channels: 100%|██████████| 64/64 [00:00<00:00, 875.30it/s]\n",
            "Reading Channels: 100%|██████████| 64/64 [00:00<00:00, 920.75it/s]\n"
          ],
          "name": "stderr"
        },
        {
          "output_type": "stream",
          "text": [
            "4 98\n",
            "5 98\n"
          ],
          "name": "stdout"
        },
        {
          "output_type": "stream",
          "text": [
            "Reading Channels: 100%|██████████| 64/64 [00:00<00:00, 877.87it/s]\n",
            "Reading Channels: 100%|██████████| 64/64 [00:00<00:00, 912.59it/s]\n"
          ],
          "name": "stderr"
        },
        {
          "output_type": "stream",
          "text": [
            "6 98\n",
            "7 98\n"
          ],
          "name": "stdout"
        },
        {
          "output_type": "stream",
          "text": [
            "Reading Channels: 100%|██████████| 64/64 [00:00<00:00, 863.68it/s]\n",
            "Reading Channels: 100%|██████████| 64/64 [00:00<00:00, 701.80it/s]\n"
          ],
          "name": "stderr"
        },
        {
          "output_type": "stream",
          "text": [
            "8 98\n",
            "9 98\n"
          ],
          "name": "stdout"
        },
        {
          "output_type": "stream",
          "text": [
            "Reading Channels: 100%|██████████| 64/64 [00:00<00:00, 807.58it/s]\n",
            "Reading Channels: 100%|██████████| 64/64 [00:00<00:00, 752.53it/s]\n"
          ],
          "name": "stderr"
        },
        {
          "output_type": "stream",
          "text": [
            "10 98\n",
            "11 98\n"
          ],
          "name": "stdout"
        },
        {
          "output_type": "stream",
          "text": [
            "Reading Channels: 100%|██████████| 64/64 [00:00<00:00, 662.17it/s]\n",
            "Reading Channels: 100%|██████████| 64/64 [00:00<00:00, 731.20it/s]\n"
          ],
          "name": "stderr"
        },
        {
          "output_type": "stream",
          "text": [
            "12 98\n",
            "13 98\n"
          ],
          "name": "stdout"
        },
        {
          "output_type": "stream",
          "text": [
            "Reading Channels: 100%|██████████| 64/64 [00:00<00:00, 1188.98it/s]\n",
            "Reading Channels: 100%|██████████| 64/64 [00:00<00:00, 1252.38it/s]\n",
            "Reading Channels:   0%|          | 0/64 [00:00<?, ?it/s]"
          ],
          "name": "stderr"
        },
        {
          "output_type": "stream",
          "text": [
            "0 99\n",
            "1 99\n"
          ],
          "name": "stdout"
        },
        {
          "output_type": "stream",
          "text": [
            "Reading Channels: 100%|██████████| 64/64 [00:00<00:00, 705.65it/s]\n",
            "Reading Channels: 100%|██████████| 64/64 [00:00<00:00, 693.39it/s]"
          ],
          "name": "stderr"
        },
        {
          "output_type": "stream",
          "text": [
            "2 99\n"
          ],
          "name": "stdout"
        },
        {
          "output_type": "stream",
          "text": [
            "\n",
            "Reading Channels: 100%|██████████| 64/64 [00:00<00:00, 895.51it/s]\n"
          ],
          "name": "stderr"
        },
        {
          "output_type": "stream",
          "text": [
            "3 99\n",
            "4 99\n"
          ],
          "name": "stdout"
        },
        {
          "output_type": "stream",
          "text": [
            "Reading Channels: 100%|██████████| 64/64 [00:00<00:00, 884.71it/s]\n",
            "Reading Channels: 100%|██████████| 64/64 [00:00<00:00, 853.57it/s]\n"
          ],
          "name": "stderr"
        },
        {
          "output_type": "stream",
          "text": [
            "5 99\n",
            "6 99\n"
          ],
          "name": "stdout"
        },
        {
          "output_type": "stream",
          "text": [
            "Reading Channels: 100%|██████████| 64/64 [00:00<00:00, 879.44it/s]\n",
            "Reading Channels: 100%|██████████| 64/64 [00:00<00:00, 846.66it/s]\n"
          ],
          "name": "stderr"
        },
        {
          "output_type": "stream",
          "text": [
            "7 99\n",
            "8 99\n"
          ],
          "name": "stdout"
        },
        {
          "output_type": "stream",
          "text": [
            "Reading Channels: 100%|██████████| 64/64 [00:00<00:00, 937.62it/s]\n",
            "Reading Channels: 100%|██████████| 64/64 [00:00<00:00, 911.84it/s]\n"
          ],
          "name": "stderr"
        },
        {
          "output_type": "stream",
          "text": [
            "9 99\n",
            "10 99\n"
          ],
          "name": "stdout"
        },
        {
          "output_type": "stream",
          "text": [
            "Reading Channels: 100%|██████████| 64/64 [00:00<00:00, 917.28it/s]\n",
            "Reading Channels: 100%|██████████| 64/64 [00:00<00:00, 923.22it/s]\n"
          ],
          "name": "stderr"
        },
        {
          "output_type": "stream",
          "text": [
            "11 99\n",
            "12 99\n"
          ],
          "name": "stdout"
        },
        {
          "output_type": "stream",
          "text": [
            "Reading Channels: 100%|██████████| 64/64 [00:00<00:00, 858.56it/s]\n"
          ],
          "name": "stderr"
        },
        {
          "output_type": "stream",
          "text": [
            "13 99\n"
          ],
          "name": "stdout"
        },
        {
          "output_type": "stream",
          "text": [
            "Reading Channels: 100%|██████████| 64/64 [00:00<00:00, 1300.63it/s]\n",
            "Reading Channels: 100%|██████████| 64/64 [00:00<00:00, 1349.85it/s]\n"
          ],
          "name": "stderr"
        },
        {
          "output_type": "stream",
          "text": [
            "0 100\n",
            "1 100\n"
          ],
          "name": "stdout"
        },
        {
          "output_type": "stream",
          "text": [
            "Reading Channels: 100%|██████████| 64/64 [00:00<00:00, 817.22it/s]\n",
            "Reading Channels: 100%|██████████| 64/64 [00:00<00:00, 716.42it/s]\n"
          ],
          "name": "stderr"
        },
        {
          "output_type": "stream",
          "text": [
            "2 100\n",
            "3 100\n"
          ],
          "name": "stdout"
        },
        {
          "output_type": "stream",
          "text": [
            "Reading Channels: 100%|██████████| 64/64 [00:00<00:00, 768.72it/s]\n",
            "Reading Channels: 100%|██████████| 64/64 [00:00<00:00, 773.44it/s]\n"
          ],
          "name": "stderr"
        },
        {
          "output_type": "stream",
          "text": [
            "4 100\n",
            "5 100\n"
          ],
          "name": "stdout"
        },
        {
          "output_type": "stream",
          "text": [
            "Reading Channels: 100%|██████████| 64/64 [00:00<00:00, 892.74it/s]\n",
            "Reading Channels: 100%|██████████| 64/64 [00:00<00:00, 860.33it/s]\n"
          ],
          "name": "stderr"
        },
        {
          "output_type": "stream",
          "text": [
            "6 100\n",
            "7 100\n"
          ],
          "name": "stdout"
        },
        {
          "output_type": "stream",
          "text": [
            "Reading Channels: 100%|██████████| 64/64 [00:00<00:00, 910.10it/s]\n",
            "Reading Channels: 100%|██████████| 64/64 [00:00<00:00, 906.42it/s]\n"
          ],
          "name": "stderr"
        },
        {
          "output_type": "stream",
          "text": [
            "8 100\n",
            "9 100\n"
          ],
          "name": "stdout"
        },
        {
          "output_type": "stream",
          "text": [
            "Reading Channels: 100%|██████████| 64/64 [00:00<00:00, 894.64it/s]\n",
            "Reading Channels: 100%|██████████| 64/64 [00:00<00:00, 905.23it/s]\n"
          ],
          "name": "stderr"
        },
        {
          "output_type": "stream",
          "text": [
            "10 100\n",
            "11 100\n"
          ],
          "name": "stdout"
        },
        {
          "output_type": "stream",
          "text": [
            "Reading Channels: 100%|██████████| 64/64 [00:00<00:00, 854.47it/s]\n",
            "Reading Channels: 100%|██████████| 64/64 [00:00<00:00, 781.10it/s]\n"
          ],
          "name": "stderr"
        },
        {
          "output_type": "stream",
          "text": [
            "12 100\n",
            "13 100\n"
          ],
          "name": "stdout"
        },
        {
          "output_type": "stream",
          "text": [
            "Reading Channels: 100%|██████████| 64/64 [00:00<00:00, 1787.50it/s]\n",
            "Reading Channels: 100%|██████████| 64/64 [00:00<00:00, 1698.06it/s]\n",
            "Reading Channels:   0%|          | 0/64 [00:00<?, ?it/s]"
          ],
          "name": "stderr"
        },
        {
          "output_type": "stream",
          "text": [
            "0 101\n",
            "1 101\n"
          ],
          "name": "stdout"
        },
        {
          "output_type": "stream",
          "text": [
            "Reading Channels: 100%|██████████| 64/64 [00:00<00:00, 920.09it/s]\n",
            "Reading Channels: 100%|██████████| 64/64 [00:00<00:00, 859.96it/s]\n"
          ],
          "name": "stderr"
        },
        {
          "output_type": "stream",
          "text": [
            "2 101\n",
            "3 101\n"
          ],
          "name": "stdout"
        },
        {
          "output_type": "stream",
          "text": [
            "Reading Channels: 100%|██████████| 64/64 [00:00<00:00, 536.96it/s]\n",
            "Reading Channels: 100%|██████████| 64/64 [00:00<00:00, 777.97it/s]"
          ],
          "name": "stderr"
        },
        {
          "output_type": "stream",
          "text": [
            "4 101\n"
          ],
          "name": "stdout"
        },
        {
          "output_type": "stream",
          "text": [
            "\n",
            "Reading Channels: 100%|██████████| 64/64 [00:00<00:00, 721.36it/s]\n"
          ],
          "name": "stderr"
        },
        {
          "output_type": "stream",
          "text": [
            "5 101\n"
          ],
          "name": "stdout"
        },
        {
          "output_type": "stream",
          "text": [
            "Reading Channels: 100%|██████████| 64/64 [00:00<00:00, 861.76it/s]\n"
          ],
          "name": "stderr"
        },
        {
          "output_type": "stream",
          "text": [
            "6 101\n",
            "7 101\n"
          ],
          "name": "stdout"
        },
        {
          "output_type": "stream",
          "text": [
            "Reading Channels: 100%|██████████| 64/64 [00:00<00:00, 737.85it/s]\n",
            "Reading Channels: 100%|██████████| 64/64 [00:00<00:00, 748.93it/s]\n"
          ],
          "name": "stderr"
        },
        {
          "output_type": "stream",
          "text": [
            "8 101\n",
            "9 101\n"
          ],
          "name": "stdout"
        },
        {
          "output_type": "stream",
          "text": [
            "Reading Channels: 100%|██████████| 64/64 [00:00<00:00, 772.97it/s]\n",
            "Reading Channels: 100%|██████████| 64/64 [00:00<00:00, 921.27it/s]\n"
          ],
          "name": "stderr"
        },
        {
          "output_type": "stream",
          "text": [
            "10 101\n",
            "11 101\n"
          ],
          "name": "stdout"
        },
        {
          "output_type": "stream",
          "text": [
            "Reading Channels: 100%|██████████| 64/64 [00:00<00:00, 913.68it/s]\n",
            "Reading Channels: 100%|██████████| 64/64 [00:00<00:00, 889.56it/s]\n"
          ],
          "name": "stderr"
        },
        {
          "output_type": "stream",
          "text": [
            "12 101\n",
            "13 101\n"
          ],
          "name": "stdout"
        },
        {
          "output_type": "stream",
          "text": [
            "Reading Channels: 100%|██████████| 64/64 [00:00<00:00, 1570.06it/s]\n",
            "Reading Channels: 100%|██████████| 64/64 [00:00<00:00, 1270.64it/s]\n"
          ],
          "name": "stderr"
        },
        {
          "output_type": "stream",
          "text": [
            "0 102\n",
            "1 102\n"
          ],
          "name": "stdout"
        },
        {
          "output_type": "stream",
          "text": [
            "Reading Channels: 100%|██████████| 64/64 [00:00<00:00, 886.32it/s]\n",
            "Reading Channels: 100%|██████████| 64/64 [00:00<00:00, 913.30it/s]\n"
          ],
          "name": "stderr"
        },
        {
          "output_type": "stream",
          "text": [
            "2 102\n",
            "3 102\n"
          ],
          "name": "stdout"
        },
        {
          "output_type": "stream",
          "text": [
            "Reading Channels: 100%|██████████| 64/64 [00:00<00:00, 714.61it/s]\n",
            "Reading Channels:   0%|          | 0/64 [00:00<?, ?it/s]"
          ],
          "name": "stderr"
        },
        {
          "output_type": "stream",
          "text": [
            "4 102\n"
          ],
          "name": "stdout"
        },
        {
          "output_type": "stream",
          "text": [
            "Reading Channels: 100%|██████████| 64/64 [00:00<00:00, 670.11it/s]\n",
            "Reading Channels: 100%|██████████| 64/64 [00:00<00:00, 768.02it/s]\n"
          ],
          "name": "stderr"
        },
        {
          "output_type": "stream",
          "text": [
            "5 102\n",
            "6 102\n"
          ],
          "name": "stdout"
        },
        {
          "output_type": "stream",
          "text": [
            "Reading Channels: 100%|██████████| 64/64 [00:00<00:00, 676.11it/s]\n",
            "Reading Channels: 100%|██████████| 64/64 [00:00<00:00, 818.46it/s]\n"
          ],
          "name": "stderr"
        },
        {
          "output_type": "stream",
          "text": [
            "7 102\n",
            "8 102\n"
          ],
          "name": "stdout"
        },
        {
          "output_type": "stream",
          "text": [
            "Reading Channels: 100%|██████████| 64/64 [00:00<00:00, 719.06it/s]\n",
            "Reading Channels: 100%|██████████| 64/64 [00:00<00:00, 842.58it/s]\n"
          ],
          "name": "stderr"
        },
        {
          "output_type": "stream",
          "text": [
            "9 102\n",
            "10 102\n"
          ],
          "name": "stdout"
        },
        {
          "output_type": "stream",
          "text": [
            "Reading Channels: 100%|██████████| 64/64 [00:00<00:00, 914.75it/s]\n",
            "Reading Channels: 100%|██████████| 64/64 [00:00<00:00, 929.80it/s]\n"
          ],
          "name": "stderr"
        },
        {
          "output_type": "stream",
          "text": [
            "11 102\n",
            "12 102\n"
          ],
          "name": "stdout"
        },
        {
          "output_type": "stream",
          "text": [
            "Reading Channels: 100%|██████████| 64/64 [00:00<00:00, 895.75it/s]\n"
          ],
          "name": "stderr"
        },
        {
          "output_type": "stream",
          "text": [
            "13 102\n"
          ],
          "name": "stdout"
        },
        {
          "output_type": "stream",
          "text": [
            "Reading Channels: 100%|██████████| 64/64 [00:00<00:00, 1678.31it/s]\n",
            "Reading Channels: 100%|██████████| 64/64 [00:00<00:00, 1676.62it/s]\n",
            "Reading Channels:   0%|          | 0/64 [00:00<?, ?it/s]"
          ],
          "name": "stderr"
        },
        {
          "output_type": "stream",
          "text": [
            "0 103\n",
            "1 103\n"
          ],
          "name": "stdout"
        },
        {
          "output_type": "stream",
          "text": [
            "Reading Channels: 100%|██████████| 64/64 [00:00<00:00, 794.11it/s]\n",
            "Reading Channels: 100%|██████████| 64/64 [00:00<00:00, 882.00it/s]\n"
          ],
          "name": "stderr"
        },
        {
          "output_type": "stream",
          "text": [
            "2 103\n",
            "3 103\n"
          ],
          "name": "stdout"
        },
        {
          "output_type": "stream",
          "text": [
            "Reading Channels: 100%|██████████| 64/64 [00:00<00:00, 2666.52it/s]\n",
            "Reading Channels: 100%|██████████| 64/64 [00:00<00:00, 893.56it/s]\n"
          ],
          "name": "stderr"
        },
        {
          "output_type": "stream",
          "text": [
            "4 103\n",
            "5 103\n"
          ],
          "name": "stdout"
        },
        {
          "output_type": "stream",
          "text": [
            "Reading Channels: 100%|██████████| 64/64 [00:00<00:00, 922.90it/s]\n",
            "Reading Channels: 100%|██████████| 64/64 [00:00<00:00, 912.22it/s]\n"
          ],
          "name": "stderr"
        },
        {
          "output_type": "stream",
          "text": [
            "6 103\n",
            "7 103\n"
          ],
          "name": "stdout"
        },
        {
          "output_type": "stream",
          "text": [
            "Reading Channels: 100%|██████████| 64/64 [00:00<00:00, 881.16it/s]\n",
            "Reading Channels: 100%|██████████| 64/64 [00:00<00:00, 920.13it/s]\n"
          ],
          "name": "stderr"
        },
        {
          "output_type": "stream",
          "text": [
            "8 103\n",
            "9 103\n"
          ],
          "name": "stdout"
        },
        {
          "output_type": "stream",
          "text": [
            "Reading Channels: 100%|██████████| 64/64 [00:00<00:00, 900.17it/s]\n",
            "Reading Channels: 100%|██████████| 64/64 [00:00<00:00, 874.65it/s]\n"
          ],
          "name": "stderr"
        },
        {
          "output_type": "stream",
          "text": [
            "10 103\n",
            "11 103\n"
          ],
          "name": "stdout"
        },
        {
          "output_type": "stream",
          "text": [
            "Reading Channels: 100%|██████████| 64/64 [00:00<00:00, 830.42it/s]\n",
            "Reading Channels: 100%|██████████| 64/64 [00:00<00:00, 904.69it/s]\n"
          ],
          "name": "stderr"
        },
        {
          "output_type": "stream",
          "text": [
            "12 103\n",
            "13 103\n"
          ],
          "name": "stdout"
        },
        {
          "output_type": "stream",
          "text": [
            "Reading Channels: 100%|██████████| 64/64 [00:00<00:00, 1627.21it/s]\n",
            "Reading Channels: 100%|██████████| 64/64 [00:00<00:00, 1564.46it/s]\n",
            "Reading Channels: 100%|██████████| 64/64 [00:00<00:00, 895.34it/s]"
          ],
          "name": "stderr"
        },
        {
          "output_type": "stream",
          "text": [
            "0 104\n",
            "1 104\n"
          ],
          "name": "stdout"
        },
        {
          "output_type": "stream",
          "text": [
            "\n",
            "Reading Channels: 100%|██████████| 64/64 [00:00<00:00, 915.77it/s]\n"
          ],
          "name": "stderr"
        },
        {
          "output_type": "stream",
          "text": [
            "2 104\n",
            "3 104\n"
          ],
          "name": "stdout"
        },
        {
          "output_type": "stream",
          "text": [
            "Reading Channels: 100%|██████████| 64/64 [00:00<00:00, 896.54it/s]\n",
            "Reading Channels: 100%|██████████| 64/64 [00:00<00:00, 916.37it/s]\n"
          ],
          "name": "stderr"
        },
        {
          "output_type": "stream",
          "text": [
            "4 104\n",
            "5 104\n"
          ],
          "name": "stdout"
        },
        {
          "output_type": "stream",
          "text": [
            "Reading Channels: 100%|██████████| 64/64 [00:00<00:00, 864.74it/s]\n",
            "Reading Channels: 100%|██████████| 64/64 [00:00<00:00, 868.78it/s]\n"
          ],
          "name": "stderr"
        },
        {
          "output_type": "stream",
          "text": [
            "6 104\n",
            "7 104\n"
          ],
          "name": "stdout"
        },
        {
          "output_type": "stream",
          "text": [
            "Reading Channels: 100%|██████████| 64/64 [00:00<00:00, 892.19it/s]\n",
            "Reading Channels: 100%|██████████| 64/64 [00:00<00:00, 936.62it/s]\n"
          ],
          "name": "stderr"
        },
        {
          "output_type": "stream",
          "text": [
            "8 104\n",
            "9 104\n"
          ],
          "name": "stdout"
        },
        {
          "output_type": "stream",
          "text": [
            "Reading Channels: 100%|██████████| 64/64 [00:00<00:00, 894.96it/s]\n",
            "Reading Channels: 100%|██████████| 64/64 [00:00<00:00, 872.63it/s]\n"
          ],
          "name": "stderr"
        },
        {
          "output_type": "stream",
          "text": [
            "10 104\n",
            "11 104\n"
          ],
          "name": "stdout"
        },
        {
          "output_type": "stream",
          "text": [
            "Reading Channels: 100%|██████████| 64/64 [00:00<00:00, 858.68it/s]\n",
            "Reading Channels: 100%|██████████| 64/64 [00:00<00:00, 899.15it/s]\n"
          ],
          "name": "stderr"
        },
        {
          "output_type": "stream",
          "text": [
            "12 104\n",
            "13 104\n"
          ],
          "name": "stdout"
        },
        {
          "output_type": "stream",
          "text": [
            "Reading Channels: 100%|██████████| 64/64 [00:00<00:00, 1598.86it/s]\n",
            "Reading Channels: 100%|██████████| 64/64 [00:00<00:00, 1594.65it/s]\n",
            "Reading Channels:   0%|          | 0/64 [00:00<?, ?it/s]"
          ],
          "name": "stderr"
        },
        {
          "output_type": "stream",
          "text": [
            "0 105\n",
            "1 105\n"
          ],
          "name": "stdout"
        },
        {
          "output_type": "stream",
          "text": [
            "Reading Channels: 100%|██████████| 64/64 [00:00<00:00, 891.22it/s]\n",
            "Reading Channels: 100%|██████████| 64/64 [00:00<00:00, 910.02it/s]\n"
          ],
          "name": "stderr"
        },
        {
          "output_type": "stream",
          "text": [
            "2 105\n",
            "3 105\n"
          ],
          "name": "stdout"
        },
        {
          "output_type": "stream",
          "text": [
            "Reading Channels: 100%|██████████| 64/64 [00:00<00:00, 928.88it/s]\n",
            "Reading Channels: 100%|██████████| 64/64 [00:00<00:00, 899.68it/s]\n"
          ],
          "name": "stderr"
        },
        {
          "output_type": "stream",
          "text": [
            "4 105\n",
            "5 105\n"
          ],
          "name": "stdout"
        },
        {
          "output_type": "stream",
          "text": [
            "Reading Channels: 100%|██████████| 64/64 [00:00<00:00, 810.64it/s]\n",
            "Reading Channels: 100%|██████████| 64/64 [00:00<00:00, 923.10it/s]\n"
          ],
          "name": "stderr"
        },
        {
          "output_type": "stream",
          "text": [
            "6 105\n",
            "7 105\n"
          ],
          "name": "stdout"
        },
        {
          "output_type": "stream",
          "text": [
            "Reading Channels: 100%|██████████| 64/64 [00:00<00:00, 907.72it/s]\n",
            "Reading Channels: 100%|██████████| 64/64 [00:00<00:00, 902.48it/s]\n"
          ],
          "name": "stderr"
        },
        {
          "output_type": "stream",
          "text": [
            "8 105\n",
            "9 105\n"
          ],
          "name": "stdout"
        },
        {
          "output_type": "stream",
          "text": [
            "Reading Channels: 100%|██████████| 64/64 [00:00<00:00, 919.63it/s]\n",
            "Reading Channels: 100%|██████████| 64/64 [00:00<00:00, 919.72it/s]\n"
          ],
          "name": "stderr"
        },
        {
          "output_type": "stream",
          "text": [
            "10 105\n",
            "11 105\n"
          ],
          "name": "stdout"
        },
        {
          "output_type": "stream",
          "text": [
            "Reading Channels: 100%|██████████| 64/64 [00:00<00:00, 929.03it/s]\n",
            "Reading Channels: 100%|██████████| 64/64 [00:00<00:00, 900.04it/s]\n"
          ],
          "name": "stderr"
        },
        {
          "output_type": "stream",
          "text": [
            "12 105\n",
            "13 105\n"
          ],
          "name": "stdout"
        },
        {
          "output_type": "stream",
          "text": [
            "Reading Channels: 100%|██████████| 64/64 [00:00<00:00, 1635.27it/s]\n",
            "Reading Channels: 100%|██████████| 64/64 [00:00<00:00, 1541.16it/s]\n",
            "Reading Channels:   0%|          | 0/64 [00:00<?, ?it/s]"
          ],
          "name": "stderr"
        },
        {
          "output_type": "stream",
          "text": [
            "0 106\n",
            "1 106\n"
          ],
          "name": "stdout"
        },
        {
          "output_type": "stream",
          "text": [
            "Reading Channels: 100%|██████████| 64/64 [00:00<00:00, 846.68it/s]\n",
            "Reading Channels: 100%|██████████| 64/64 [00:00<00:00, 918.60it/s]\n"
          ],
          "name": "stderr"
        },
        {
          "output_type": "stream",
          "text": [
            "2 106\n",
            "3 106\n"
          ],
          "name": "stdout"
        },
        {
          "output_type": "stream",
          "text": [
            "Reading Channels: 100%|██████████| 64/64 [00:00<00:00, 915.00it/s]\n",
            "Reading Channels: 100%|██████████| 64/64 [00:00<00:00, 933.09it/s]\n"
          ],
          "name": "stderr"
        },
        {
          "output_type": "stream",
          "text": [
            "4 106\n",
            "5 106\n"
          ],
          "name": "stdout"
        },
        {
          "output_type": "stream",
          "text": [
            "Reading Channels: 100%|██████████| 64/64 [00:00<00:00, 910.20it/s]\n",
            "Reading Channels: 100%|██████████| 64/64 [00:00<00:00, 908.48it/s]\n"
          ],
          "name": "stderr"
        },
        {
          "output_type": "stream",
          "text": [
            "6 106\n",
            "7 106\n"
          ],
          "name": "stdout"
        },
        {
          "output_type": "stream",
          "text": [
            "Reading Channels: 100%|██████████| 64/64 [00:00<00:00, 906.38it/s]\n",
            "Reading Channels: 100%|██████████| 64/64 [00:00<00:00, 906.00it/s]\n"
          ],
          "name": "stderr"
        },
        {
          "output_type": "stream",
          "text": [
            "8 106\n",
            "9 106\n"
          ],
          "name": "stdout"
        },
        {
          "output_type": "stream",
          "text": [
            "Reading Channels: 100%|██████████| 64/64 [00:00<00:00, 862.57it/s]\n",
            "Reading Channels: 100%|██████████| 64/64 [00:00<00:00, 938.15it/s]\n"
          ],
          "name": "stderr"
        },
        {
          "output_type": "stream",
          "text": [
            "10 106\n",
            "11 106\n"
          ],
          "name": "stdout"
        },
        {
          "output_type": "stream",
          "text": [
            "Reading Channels: 100%|██████████| 64/64 [00:00<00:00, 912.70it/s]\n",
            "Reading Channels: 100%|██████████| 64/64 [00:00<00:00, 927.15it/s]\n"
          ],
          "name": "stderr"
        },
        {
          "output_type": "stream",
          "text": [
            "12 106\n",
            "13 106\n"
          ],
          "name": "stdout"
        },
        {
          "output_type": "error",
          "ename": "IndexError",
          "evalue": "ignored",
          "traceback": [
            "\u001b[0;31m---------------------------------------------------------------------------\u001b[0m",
            "\u001b[0;31mIndexError\u001b[0m                                Traceback (most recent call last)",
            "\u001b[0;32m<ipython-input-13-0483e85de4a5>\u001b[0m in \u001b[0;36m<module>\u001b[0;34m()\u001b[0m\n\u001b[1;32m      3\u001b[0m     \u001b[0mdata_y_p\u001b[0m \u001b[0;34m=\u001b[0m \u001b[0;34m[\u001b[0m\u001b[0;34m]\u001b[0m\u001b[0;34m\u001b[0m\u001b[0;34m\u001b[0m\u001b[0m\n\u001b[1;32m      4\u001b[0m     \u001b[0;32mfor\u001b[0m \u001b[0mi\u001b[0m \u001b[0;32min\u001b[0m \u001b[0mrange\u001b[0m\u001b[0;34m(\u001b[0m\u001b[0;36m14\u001b[0m\u001b[0;34m)\u001b[0m\u001b[0;34m:\u001b[0m\u001b[0;34m\u001b[0m\u001b[0;34m\u001b[0m\u001b[0m\n\u001b[0;32m----> 5\u001b[0;31m         \u001b[0msignals\u001b[0m\u001b[0;34m,\u001b[0m \u001b[0msignal_headers\u001b[0m\u001b[0;34m,\u001b[0m \u001b[0mheader\u001b[0m \u001b[0;34m=\u001b[0m \u001b[0mhighlevel\u001b[0m\u001b[0;34m.\u001b[0m\u001b[0mread_edf\u001b[0m\u001b[0;34m(\u001b[0m\u001b[0mfiles\u001b[0m\u001b[0;34m[\u001b[0m\u001b[0mi\u001b[0m\u001b[0;34m]\u001b[0m\u001b[0;34m[\u001b[0m\u001b[0mj\u001b[0m\u001b[0;34m]\u001b[0m\u001b[0;34m)\u001b[0m\u001b[0;34m\u001b[0m\u001b[0;34m\u001b[0m\u001b[0m\n\u001b[0m\u001b[1;32m      6\u001b[0m         \u001b[0msam_rate\u001b[0m \u001b[0;34m=\u001b[0m \u001b[0msignal_headers\u001b[0m\u001b[0;34m[\u001b[0m\u001b[0;36m0\u001b[0m\u001b[0;34m]\u001b[0m\u001b[0;34m[\u001b[0m\u001b[0;34m'sample_rate'\u001b[0m\u001b[0;34m]\u001b[0m\u001b[0;34m\u001b[0m\u001b[0;34m\u001b[0m\u001b[0m\n\u001b[1;32m      7\u001b[0m         \u001b[0mdata_x\u001b[0m \u001b[0;34m=\u001b[0m \u001b[0;34m[\u001b[0m\u001b[0;34m]\u001b[0m\u001b[0;34m\u001b[0m\u001b[0;34m\u001b[0m\u001b[0m\n",
            "\u001b[0;31mIndexError\u001b[0m: list index out of range"
          ]
        }
      ]
    },
    {
      "cell_type": "code",
      "metadata": {
        "id": "GZkyz5ebcwro",
        "colab_type": "code",
        "colab": {}
      },
      "source": [
        ""
      ],
      "execution_count": null,
      "outputs": []
    },
    {
      "cell_type": "code",
      "metadata": {
        "id": "hG8Mqeu4AKEq",
        "colab_type": "code",
        "colab": {
          "base_uri": "https://localhost:8080/",
          "height": 35
        },
        "outputId": "ed405e63-16fd-4be2-ff02-6fab96c5d3c8"
      },
      "source": [
        "tf.keras.__version__"
      ],
      "execution_count": null,
      "outputs": [
        {
          "output_type": "execute_result",
          "data": {
            "application/vnd.google.colaboratory.intrinsic": {
              "type": "string"
            },
            "text/plain": [
              "'2.3.0-tf'"
            ]
          },
          "metadata": {
            "tags": []
          },
          "execution_count": 18
        }
      ]
    },
    {
      "cell_type": "code",
      "metadata": {
        "id": "CnZBKZPKYnvR",
        "colab_type": "code",
        "colab": {}
      },
      "source": [
        "data_x_p"
      ],
      "execution_count": null,
      "outputs": []
    },
    {
      "cell_type": "code",
      "metadata": {
        "id": "_qjtUZNPqzKu",
        "colab_type": "code",
        "colab": {}
      },
      "source": [
        "        temp = np.array([[0, 0, 0, 0, 0, 0, 0, 0, 0, 0, 0],\n",
        "                    [0, 0, 0, 0, 0, 0, 0, 0, 0, 0, 0],\n",
        "                    [0, 0, 0,0, 0, s[i][33], 0, 0, 0, 0, 0],\n",
        "                    [0, 0, 0, s[i][1], 0, s[i][3], 0, s[i][5], 0, 0, 0],\n",
        "                    [0, 0, s[i][7], s[i][8], s[i][9], s[i][10], s[i][11], s[i][12], s[i][13], 0, 0],\n",
        "                    [0, 0, 0, s[i][15], 0, s[i][17], 0, s[i][19], 0, 0, 0],\n",
        "                    [0, 0, 0, 0, 0, 0, 0, 0, 0, 0, 0],\n",
        "                    [0, 0, 0, 0, 0, 0, 0, 0, 0, 0, 0],\n",
        "                    [0, 0, 0, 0, s[i][60], s[i][62], 0, 0, 0, 0],\n",
        "                    [0, 0, 0, 0, 0, 0, 0, 0, 0, 0, 0]])"
      ],
      "execution_count": null,
      "outputs": []
    },
    {
      "cell_type": "code",
      "metadata": {
        "id": "rStJt9m33rzu",
        "colab_type": "code",
        "colab": {}
      },
      "source": [
        "window_size = 10\n",
        "overlap = 5\n",
        "batch_size = 512\n",
        "n_classes = 5\n",
        "def preprocess(s):\n",
        "    # print(len(s[0]))\n",
        "    signal_2d = []\n",
        "    for i in range(window_size):\n",
        "        s[i] = stats.zscore(s[i])\n",
        "        temp = np.array([[0, 0, 0, 0, s[i][21], s[i][22], s[i][23], 0, 0, 0, 0],\n",
        "                    [0, 0, 0, s[i][24], s[i][25], s[i][26], s[i][27], s[i][28], 0, 0, 0],\n",
        "                    [0, s[i][29], s[i][30], s[i][31], s[i][32], s[i][33],\n",
        "                    s[i][34], s[i][35], s[i][36], s[i][37], 0],\n",
        "                    [0, s[i][38], s[i][0], s[i][1], s[i][2], s[i][3], s[i][4],\n",
        "                    s[i][5], s[i][6], s[i][39], 0],\n",
        "                    [s[i][42], s[i][40], s[i][7], s[i][8], s[i][9], s[i][10],\n",
        "                    s[i][11], s[i][12], s[i][13], s[i][41], s[i][43]],\n",
        "                    [0, s[i][44], s[i][14], s[i][15], s[i][16], s[i][17], s[i][18],\n",
        "                    s[i][19], s[i][20], s[i][45], 0],\n",
        "                    [0, s[i][46], s[i][47], s[i][48], s[i][49], s[i][50],\n",
        "                    s[i][51], s[i][52], s[i][53], s[i][54], 0],\n",
        "                    [0, 0, 0, s[i][55], s[i][56], s[i][57], s[i][58], s[i][59], 0, 0, 0],\n",
        "                    [0, 0, 0, 0, s[i][60], s[i][61], s[i][62], 0, 0, 0, 0],\n",
        "                    [0, 0, 0, 0, 0, s[i][63], 0, 0, 0, 0, 0]])\n",
        "\n",
        "        signal_2d.append(temp)\n",
        "    signal_2d = np.asarray(signal_2d)\n",
        "    signal_2d = np.expand_dims(signal_2d, axis=3)\n",
        "    return signal_2d"
      ],
      "execution_count": null,
      "outputs": []
    },
    {
      "cell_type": "code",
      "metadata": {
        "id": "hQ9C2qO4i_9h",
        "colab_type": "code",
        "colab": {
          "base_uri": "https://localhost:8080/",
          "height": 34
        },
        "outputId": "83046549-a39c-42b1-e959-e091c6af8e1c"
      },
      "source": [
        "data_x_p[0][0][0][1]"
      ],
      "execution_count": null,
      "outputs": [
        {
          "output_type": "execute_result",
          "data": {
            "text/plain": [
              "1.762838564953024"
            ]
          },
          "metadata": {
            "tags": []
          },
          "execution_count": 26
        }
      ]
    },
    {
      "cell_type": "code",
      "metadata": {
        "id": "IQdqhzUG9XGN",
        "colab_type": "code",
        "colab": {}
      },
      "source": [
        "def gen():\n",
        "  for i in range(12):\n",
        "    yield i"
      ],
      "execution_count": null,
      "outputs": []
    },
    {
      "cell_type": "code",
      "metadata": {
        "id": "o9d9jbLdHTP-",
        "colab_type": "code",
        "colab": {}
      },
      "source": [
        "x = gen()"
      ],
      "execution_count": null,
      "outputs": []
    },
    {
      "cell_type": "code",
      "metadata": {
        "id": "vmHSq-CBGhVQ",
        "colab_type": "code",
        "colab": {
          "base_uri": "https://localhost:8080/",
          "height": 34
        },
        "outputId": "d8ac0cb5-e3d4-4586-945a-979c1d6bcd97"
      },
      "source": [
        "print(x.__next__())"
      ],
      "execution_count": null,
      "outputs": [
        {
          "output_type": "stream",
          "text": [
            "4\n"
          ],
          "name": "stdout"
        }
      ]
    },
    {
      "cell_type": "code",
      "metadata": {
        "colab_type": "code",
        "id": "7jSO6LdyF0lV",
        "colab": {}
      },
      "source": [
        "# 0th dimension - 2 (data, label)\n",
        "# 1st dimension - 14 (experiment)\n",
        "# 2nd dimension - (number of labels)\n",
        "# 3rd dimension - (number of values in each label)\n",
        "# 4th dimension - 64 (channels)\n",
        "\n",
        "def generatorr(isTraining):\n",
        "  while True:\n",
        "    x_train = []\n",
        "    y_train = []\n",
        "    x_test = []\n",
        "    y_test = []\n",
        "    batch_v = 0\n",
        "    batch_c = 0\n",
        "    for i0 in range(40):\n",
        "        file_name = '/content/drive/My Drive/Physionet/files/data_txt/data_'+str(i0)+'.txt'\n",
        "        with open(file_name, 'rb') as F:\n",
        "            L = pickle.load(F)\n",
        "        F.close()\n",
        "        for i1 in range(14):\n",
        "            for i2 in range(len(L[0][i1])):\n",
        "                for i3 in range(0, len(L[0][i1][i2])-window_size, overlap):\n",
        "                    data = preprocess(L[0][i1][i2][i3:i3+window_size])\n",
        "                    label = L[1][i1][i2]\n",
        "\n",
        "                    if isTraining:\n",
        "                      if (i1<=10 and i1!=1):\n",
        "                        x_train.append(data)\n",
        "                        y_train.append(label)\n",
        "                        batch_c += 1\n",
        "                        if batch_c >= batch_size:\n",
        "                          x_train = np.asarray(x_train)\n",
        "                          y_train = tf.keras.utils.to_categorical(y_train, num_classes=n_classes)\n",
        "                          y_train = np.asarray(y_train)\n",
        "                          yield x_train, y_train\n",
        "                          x_train = []\n",
        "                          y_train = []\n",
        "                          batch_c = 0\n",
        "                    else:\n",
        "                      if (i1>11 or i1==1):\n",
        "                        x_test.append(data)\n",
        "                        y_test.append(label)\n",
        "                        batch_v += 1\n",
        "\n",
        "                        if batch_v >= batch_size:\n",
        "                          x_test = np.asarray(x_test)\n",
        "                          y_test = tf.keras.utils.to_categorical(y_test, num_classes=n_classes)\n",
        "                          y_test = np.asarray(y_test)\n",
        "                          yield x_test, y_test\n",
        "                          x_test = []\n",
        "                          y_test = []\n",
        "                          batch_v = 0\n",
        "\n",
        "\n",
        "                \n",
        "                "
      ],
      "execution_count": null,
      "outputs": []
    },
    {
      "cell_type": "code",
      "metadata": {
        "id": "c7nxSIc1ukYl",
        "colab_type": "code",
        "colab": {}
      },
      "source": [
        "train_gene = generatorr(True)\n",
        "val_gene = generatorr(False)"
      ],
      "execution_count": null,
      "outputs": []
    },
    {
      "cell_type": "code",
      "metadata": {
        "id": "sqhz3EROwvVS",
        "colab_type": "code",
        "colab": {
          "base_uri": "https://localhost:8080/",
          "height": 34
        },
        "outputId": "3cb51f56-0464-4517-c845-9832b4a3fa2e"
      },
      "source": [
        "type(train_gene)"
      ],
      "execution_count": null,
      "outputs": [
        {
          "output_type": "execute_result",
          "data": {
            "text/plain": [
              "generator"
            ]
          },
          "metadata": {
            "tags": []
          },
          "execution_count": 17
        }
      ]
    },
    {
      "cell_type": "code",
      "metadata": {
        "id": "7OYTtHc820lF",
        "colab_type": "code",
        "colab": {
          "base_uri": "https://localhost:8080/",
          "height": 170
        },
        "outputId": "dd07ff6d-c500-4b34-fadf-266278180bb4"
      },
      "source": [
        "print(\"Before Training Training:\", len(x_train))\n",
        "val = len(x_train)\n",
        "for j in range(batch_size - val%batch_size):\n",
        "    x_train.append(x_train[-1])\n",
        "    y_train.append(y_train[-1])\n",
        "\n",
        "print(\"Before Training Validation:\", len(x_test))\n",
        "val = len(x_test)\n",
        "for j in range(batch_size - val%batch_size):\n",
        "    x_test.append(x_test[-1])\n",
        "    y_test.append(y_test[-1])\n",
        "    \n",
        "y_train = to_categorical(y_train, num_classes=n_classes)\n",
        "y_test = to_categorical(y_test, num_classes=n_classes)\n",
        "x_train = np.asarray(x_train)\n",
        "y_train = np.asarray(y_train)\n",
        "x_test = np.asarray(x_test)\n",
        "y_test = np.asarray(y_test)\n",
        "print(y_train)"
      ],
      "execution_count": null,
      "outputs": [
        {
          "output_type": "stream",
          "text": [
            "Before Training Training: 42993\n",
            "Before Training Validation: 22834\n",
            "[[1. 0. 0. 0. 0.]\n",
            " [1. 0. 0. 0. 0.]\n",
            " [1. 0. 0. 0. 0.]\n",
            " ...\n",
            " [0. 0. 0. 1. 0.]\n",
            " [0. 0. 0. 1. 0.]\n",
            " [0. 0. 0. 1. 0.]]\n"
          ],
          "name": "stdout"
        }
      ]
    },
    {
      "cell_type": "code",
      "metadata": {
        "id": "VDwY-nxHU2Wa",
        "colab_type": "code",
        "colab": {}
      },
      "source": [
        "np.savez_compressed(\"/content/drive/My Drive/PhysioNet Dataset/x_train2.npz\", x_train)\n",
        "np.savez_compressed(\"/content/drive/My Drive/PhysioNet Dataset/y_train2.npz\", y_train)\n",
        "np.savez_compressed(\"/content/drive/My Drive/PhysioNet Dataset/x_test2.npz\", x_test)\n",
        "np.savez_compressed(\"/content/drive/My Drive/PhysioNet Dataset/y_test2.npz\", y_test)"
      ],
      "execution_count": null,
      "outputs": []
    },
    {
      "cell_type": "code",
      "metadata": {
        "id": "kN36XKxpy_ju",
        "colab_type": "code",
        "colab": {}
      },
      "source": [
        "import numpy as np\n",
        "import pickle\n",
        "import collections\n",
        "import matplotlib.pyplot as plt\n",
        "import numpy as np\n",
        "import tensorflow.keras.backend as K\n",
        "import tensorflow as tf\n",
        "from tensorflow.keras.layers import *\n",
        "from IPython.display import SVG\n",
        "from tensorflow.keras.utils import model_to_dot\n",
        "from tensorflow.keras.utils import plot_model\n",
        "# from tensorflow.python.util import nest\n",
        "from scipy import stats\n",
        "from sklearn.metrics import classification_report, confusion_matrix, f1_score\n",
        "\n"
      ],
      "execution_count": null,
      "outputs": []
    },
    {
      "cell_type": "code",
      "metadata": {
        "id": "hfCxQLlGykDW",
        "colab_type": "code",
        "colab": {}
      },
      "source": [
        "import numpy as np"
      ],
      "execution_count": null,
      "outputs": []
    },
    {
      "cell_type": "code",
      "metadata": {
        "id": "Gqxm_fE5Dr1M",
        "colab_type": "code",
        "colab": {}
      },
      "source": [
        "\n",
        "x_test = np.load(\"/content/drive/My Drive/Physionet/x_test.npz\")\n",
        "y_test = np.load(\"/content/drive/My Drive/Physionet/y_test.npz\")"
      ],
      "execution_count": null,
      "outputs": []
    },
    {
      "cell_type": "code",
      "metadata": {
        "id": "SVEk1wf40zX0",
        "colab_type": "code",
        "colab": {}
      },
      "source": [
        "from tensorflow.keras.layers import Conv2D, BatchNormalization, Activation, Flatten, Dense, Dropout, LSTM, Input, TimeDistributed\n",
        "from tensorflow.keras import initializers, Model, optimizers, callbacks\n",
        "from tensorflow.keras import backend as K\n",
        "from tensorflow.keras.models import load_model\n",
        "from tensorflow.keras.callbacks import Callback\n",
        "from sklearn.preprocessing import OneHotEncoder, StandardScaler\n",
        "from sklearn.metrics import confusion_matrix, f1_score, precision_score, recall_score"
      ],
      "execution_count": null,
      "outputs": []
    },
    {
      "cell_type": "code",
      "metadata": {
        "id": "2J07nccy1mrI",
        "colab_type": "code",
        "colab": {}
      },
      "source": [
        ""
      ],
      "execution_count": null,
      "outputs": []
    },
    {
      "cell_type": "code",
      "metadata": {
        "id": "KYHSDnYXxRuV",
        "colab_type": "code",
        "colab": {}
      },
      "source": [
        "from tensorflow.keras import backend as K, initializers, regularizers, constraints\n",
        "from tensorflow.keras.layers import Layer\n",
        "\n",
        "\n",
        "def dot_product(x, kernel):\n",
        "    \"\"\"\n",
        "    Wrapper for dot product operation, in order to be compatible with both\n",
        "    Theano and Tensorflow\n",
        "    Args:\n",
        "        x (): input\n",
        "        kernel (): weights\n",
        "    Returns:\n",
        "    \"\"\"\n",
        "    if K.backend() == 'tensorflow':\n",
        "        # todo: check that this is correct\n",
        "        return K.squeeze(K.dot(x, K.expand_dims(kernel)), axis=-1)\n",
        "    else:\n",
        "        return K.dot(x, kernel)\n",
        "\n",
        "\n",
        "class Attention(Layer):\n",
        "    def __init__(self,\n",
        "                 W_regularizer=None, b_regularizer=None,\n",
        "                 W_constraint=None, b_constraint=None,\n",
        "                 bias=True,\n",
        "                 return_attention=False,\n",
        "                 **kwargs):\n",
        "\n",
        "        self.supports_masking = True\n",
        "        self.return_attention = return_attention\n",
        "        self.init = initializers.get('glorot_uniform')\n",
        "\n",
        "        self.W_regularizer = regularizers.get(W_regularizer)\n",
        "        self.b_regularizer = regularizers.get(b_regularizer)\n",
        "\n",
        "        self.W_constraint = constraints.get(W_constraint)\n",
        "        self.b_constraint = constraints.get(b_constraint)\n",
        "\n",
        "        self.bias = bias\n",
        "        super(Attention, self).__init__(**kwargs)\n",
        "\n",
        "    def build(self, input_shape):\n",
        "        assert len(input_shape) == 3\n",
        "\n",
        "        self.W = self.add_weight(shape=(input_shape[-1],),\n",
        "                                 initializer=self.init,\n",
        "                                 name='{}_W'.format(self.name),\n",
        "                                 regularizer=self.W_regularizer,\n",
        "                                 constraint=self.W_constraint)\n",
        "        if self.bias:\n",
        "            self.b = self.add_weight(shape=(input_shape[1],),\n",
        "                                     initializer='zero',\n",
        "                                     name='{}_b'.format(self.name),\n",
        "                                     regularizer=self.b_regularizer,\n",
        "                                     constraint=self.b_constraint)\n",
        "        else:\n",
        "            self.b = None\n",
        "\n",
        "        self.built = True\n",
        "\n",
        "    def compute_mask(self, input, input_mask=None):\n",
        "        return None\n",
        "\n",
        "    def call(self, x, mask=None):\n",
        "        eij = dot_product(x, self.W)\n",
        "\n",
        "        if self.bias:\n",
        "            eij += self.b\n",
        "\n",
        "        eij = K.tanh(eij)\n",
        "\n",
        "        a = K.exp(eij)\n",
        "\n",
        "\n",
        "        if mask is not None:\n",
        "            a *= K.cast(mask, K.floatx())\n",
        "\n",
        "        a /= K.cast(K.sum(a, axis=1, keepdims=True) + K.epsilon(), K.floatx())\n",
        "\n",
        "        weighted_input = x * K.expand_dims(a)\n",
        "\n",
        "        result = K.sum(weighted_input, axis=1)\n",
        "\n",
        "        if self.return_attention:\n",
        "            return [result, a]\n",
        "        return result\n",
        "\n",
        "    def compute_output_shape(self, input_shape):\n",
        "        if self.return_attention:\n",
        "            return [(input_shape[0], input_shape[-1]),\n",
        "                    (input_shape[0], input_shape[1])]\n",
        "        else:\n",
        "            return input_shape[0], input_shape[-1]\n"
      ],
      "execution_count": null,
      "outputs": []
    },
    {
      "cell_type": "code",
      "metadata": {
        "id": "JQqEPd2KeyQ4",
        "colab_type": "code",
        "colab": {}
      },
      "source": [
        "import tensorflow as tf"
      ],
      "execution_count": null,
      "outputs": []
    },
    {
      "cell_type": "code",
      "metadata": {
        "id": "7LuBY5aQiy3v",
        "colab_type": "code",
        "colab": {}
      },
      "source": [
        "import os"
      ],
      "execution_count": null,
      "outputs": []
    },
    {
      "cell_type": "code",
      "metadata": {
        "id": "ImK31MD0iUai",
        "colab_type": "code",
        "colab": {}
      },
      "source": [
        "checkpoint_path = \"/drive/My Drive/ckpt/cp.ckpt\"\n",
        "checkpoint_dir = os.path.dirname(checkpoint_path)\n",
        "\n",
        "\n",
        "\n",
        "\n",
        "callbacks = [tf.keras.callbacks.EarlyStopping(monitor='loss', patience=5),\n",
        "             tf.keras.callbacks.ModelCheckpoint(filepath=checkpoint_path,\n",
        "                                                 save_weights_only=True,\n",
        "                                                \n",
        "                                                 verbose=1)\n",
        "             ]"
      ],
      "execution_count": null,
      "outputs": []
    },
    {
      "cell_type": "code",
      "metadata": {
        "id": "PNHqGYm7j1B9",
        "colab_type": "code",
        "colab": {}
      },
      "source": [
        ""
      ],
      "execution_count": null,
      "outputs": []
    },
    {
      "cell_type": "code",
      "metadata": {
        "id": "2Yxj35Xy1ss2",
        "colab_type": "code",
        "colab": {
          "base_uri": "https://localhost:8080/",
          "height": 958
        },
        "outputId": "28f4ef22-d8a7-42dc-f856-4f0a2e00b9e4"
      },
      "source": [
        "input_shape = (10, 10, 11, 1)\n",
        "lecun = initializers.lecun_normal(seed=42)\n",
        "\n",
        "\n",
        "def timeDist(layer, prev_layer, name):\n",
        "    return TimeDistributed(layer, name=name)(prev_layer)\n",
        "    \n",
        "# Input layer\n",
        "inputs = Input(shape=input_shape)\n",
        "\n",
        "# Convolutional layers block\n",
        "x = timeDist(Conv2D(32, (3,3), padding='same', \n",
        "                    data_format='channels_last', kernel_initializer=lecun), inputs, name='CNN1')\n",
        "x = BatchNormalization(name='batch1')(x)\n",
        "x = Activation('elu', name='act1')(x)\n",
        "x = timeDist(Conv2D(48, (3,3), padding='same', data_format='channels_last', kernel_initializer=lecun), x, name='CNN2')\n",
        "x = BatchNormalization(name='batch2')(x)\n",
        "x = Activation('elu', name='act2')(x)\n",
        "x = timeDist(Conv2D(64, (3,3), padding='same', data_format='channels_last', kernel_initializer=lecun), x, name='CNN3')\n",
        "x = BatchNormalization(name='batch3')(x)\n",
        "x = Activation('elu', name='act3')(x)\n",
        "\n",
        "x = timeDist(Conv2D(96, (3,3), padding='same', data_format='channels_last', kernel_initializer=lecun), x, name='CNN4')\n",
        "x = BatchNormalization(name='batch4')(x)\n",
        "x = Activation('elu', name='act4')(x)\n",
        "\n",
        "x = timeDist(Flatten(), x, name='flatten')\n",
        "\n",
        "# Fully connected layer block\n",
        "y = Dense(900, kernel_initializer=lecun, name='FC')(x)\n",
        "y = Dropout(0.5, name='dropout1')(y)\n",
        "y = BatchNormalization(name='batch5')(y)\n",
        "y = Activation(activation='elu')(y)\n",
        "\n",
        "# Recurrent layers block\n",
        "z = tf.keras.layers.Bidirectional(GRU(64, kernel_initializer=lecun, return_sequences=True, name='Bi-GRU1'))(y)\n",
        "z = tf.keras.layers.Bidirectional(GRU(96, kernel_initializer=lecun, return_sequences=True, name='Bi-GRU2'))(z)\n",
        "z = Attention()(z)\n",
        "\n",
        "# Fully connected layer block\n",
        "h = Dense(900, kernel_initializer=lecun, activation='elu', name='FC2')(z)\n",
        "h = Dropout(0.4, name='dropout2')(h)\n",
        "\n",
        "# Output layer\n",
        "outputs = Dense(5, activation='softmax')(h)\n",
        "\n",
        "# Model compile\n",
        "model = Model(inputs=inputs, outputs=outputs)\n",
        "model.summary()\n"
      ],
      "execution_count": null,
      "outputs": [
        {
          "output_type": "stream",
          "text": [
            "Model: \"model_1\"\n",
            "_________________________________________________________________\n",
            "Layer (type)                 Output Shape              Param #   \n",
            "=================================================================\n",
            "input_2 (InputLayer)         [(None, 10, 10, 11, 1)]   0         \n",
            "_________________________________________________________________\n",
            "CNN1 (TimeDistributed)       (None, 10, 10, 11, 32)    320       \n",
            "_________________________________________________________________\n",
            "batch1 (BatchNormalization)  (None, 10, 10, 11, 32)    128       \n",
            "_________________________________________________________________\n",
            "act1 (Activation)            (None, 10, 10, 11, 32)    0         \n",
            "_________________________________________________________________\n",
            "CNN2 (TimeDistributed)       (None, 10, 10, 11, 48)    13872     \n",
            "_________________________________________________________________\n",
            "batch2 (BatchNormalization)  (None, 10, 10, 11, 48)    192       \n",
            "_________________________________________________________________\n",
            "act2 (Activation)            (None, 10, 10, 11, 48)    0         \n",
            "_________________________________________________________________\n",
            "CNN3 (TimeDistributed)       (None, 10, 10, 11, 64)    27712     \n",
            "_________________________________________________________________\n",
            "batch3 (BatchNormalization)  (None, 10, 10, 11, 64)    256       \n",
            "_________________________________________________________________\n",
            "act3 (Activation)            (None, 10, 10, 11, 64)    0         \n",
            "_________________________________________________________________\n",
            "CNN4 (TimeDistributed)       (None, 10, 10, 11, 96)    55392     \n",
            "_________________________________________________________________\n",
            "batch4 (BatchNormalization)  (None, 10, 10, 11, 96)    384       \n",
            "_________________________________________________________________\n",
            "act4 (Activation)            (None, 10, 10, 11, 96)    0         \n",
            "_________________________________________________________________\n",
            "flatten (TimeDistributed)    (None, 10, 10560)         0         \n",
            "_________________________________________________________________\n",
            "FC (Dense)                   (None, 10, 900)           9504900   \n",
            "_________________________________________________________________\n",
            "dropout1 (Dropout)           (None, 10, 900)           0         \n",
            "_________________________________________________________________\n",
            "batch5 (BatchNormalization)  (None, 10, 900)           3600      \n",
            "_________________________________________________________________\n",
            "activation_1 (Activation)    (None, 10, 900)           0         \n",
            "_________________________________________________________________\n",
            "bidirectional_2 (Bidirection (None, 10, 128)           370944    \n",
            "_________________________________________________________________\n",
            "bidirectional_3 (Bidirection (None, 10, 192)           130176    \n",
            "_________________________________________________________________\n",
            "attention_1 (Attention)      (None, 192)               202       \n",
            "_________________________________________________________________\n",
            "FC2 (Dense)                  (None, 900)               173700    \n",
            "_________________________________________________________________\n",
            "dropout2 (Dropout)           (None, 900)               0         \n",
            "_________________________________________________________________\n",
            "dense_1 (Dense)              (None, 5)                 4505      \n",
            "=================================================================\n",
            "Total params: 10,286,283\n",
            "Trainable params: 10,284,003\n",
            "Non-trainable params: 2,280\n",
            "_________________________________________________________________\n"
          ],
          "name": "stdout"
        }
      ]
    },
    {
      "cell_type": "code",
      "metadata": {
        "id": "EZw_NmpCyrE8",
        "colab_type": "code",
        "colab": {
          "base_uri": "https://localhost:8080/",
          "height": 34
        },
        "outputId": "5085e70b-b125-46e2-ab37-90267e40782d"
      },
      "source": [
        "fmodel.load_weights(checkpoint_path)"
      ],
      "execution_count": null,
      "outputs": [
        {
          "output_type": "execute_result",
          "data": {
            "text/plain": [
              "<tensorflow.python.training.tracking.util.CheckpointLoadStatus at 0x7ff7200df4e0>"
            ]
          },
          "metadata": {
            "tags": []
          },
          "execution_count": 11
        }
      ]
    },
    {
      "cell_type": "code",
      "metadata": {
        "id": "KG0BYluX8825",
        "colab_type": "code",
        "colab": {}
      },
      "source": [
        "tr_stps = 65 * 40\n",
        "val_stps = 19 * 40"
      ],
      "execution_count": null,
      "outputs": []
    },
    {
      "cell_type": "code",
      "metadata": {
        "id": "ZXOB9hzA4NrT",
        "colab_type": "code",
        "colab": {
          "base_uri": "https://localhost:8080/",
          "height": 50
        },
        "outputId": "50e461b8-2562-4493-f6d9-0d60b7e1269e"
      },
      "source": [
        "model.compile(loss='categorical_crossentropy', optimizer=optimizers.Adam(lr=1e-3), metrics=['acc'])\n",
        "history = model.fit(train_gene, steps_per_epoch=tr_stps, validation_data=val_gene, validation_steps=val_stps, epochs=5, shuffle=True, callbacks = callbacks)"
      ],
      "execution_count": null,
      "outputs": [
        {
          "output_type": "stream",
          "text": [
            "Epoch 1/5\n",
            "2600/2600 [==============================] - ETA: 0s - loss: 1.3926 - acc: 0.5131"
          ],
          "name": "stdout"
        }
      ]
    },
    {
      "cell_type": "code",
      "metadata": {
        "id": "jTRvI9dEo5zs",
        "colab_type": "code",
        "colab": {
          "base_uri": "https://localhost:8080/",
          "height": 163
        },
        "outputId": "723c4e3c-332d-49a0-98b8-abcbac4d101d"
      },
      "source": [
        ""
      ],
      "execution_count": null,
      "outputs": [
        {
          "output_type": "error",
          "ename": "NameError",
          "evalue": "ignored",
          "traceback": [
            "\u001b[0;31m---------------------------------------------------------------------------\u001b[0m",
            "\u001b[0;31mNameError\u001b[0m                                 Traceback (most recent call last)",
            "\u001b[0;32m<ipython-input-21-e55926e05225>\u001b[0m in \u001b[0;36m<module>\u001b[0;34m()\u001b[0m\n\u001b[0;32m----> 1\u001b[0;31m \u001b[0mprint\u001b[0m\u001b[0;34m(\u001b[0m\u001b[0mhistory\u001b[0m\u001b[0;34m[\u001b[0m\u001b[0;34m'acc'\u001b[0m\u001b[0;34m]\u001b[0m\u001b[0;34m)\u001b[0m\u001b[0;34m\u001b[0m\u001b[0;34m\u001b[0m\u001b[0m\n\u001b[0m",
            "\u001b[0;31mNameError\u001b[0m: name 'history' is not defined"
          ]
        }
      ]
    },
    {
      "cell_type": "code",
      "metadata": {
        "id": "qgMvdgDCyAOZ",
        "colab_type": "code",
        "colab": {}
      },
      "source": [
        "19"
      ],
      "execution_count": null,
      "outputs": []
    }
  ]
}